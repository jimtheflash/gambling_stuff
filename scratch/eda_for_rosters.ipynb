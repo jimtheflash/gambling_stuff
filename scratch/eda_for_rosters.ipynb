{
 "metadata": {
  "language_info": {
   "codemirror_mode": {
    "name": "ipython",
    "version": 3
   },
   "file_extension": ".py",
   "mimetype": "text/x-python",
   "name": "python",
   "nbconvert_exporter": "python",
   "pygments_lexer": "ipython3",
   "version": "3.9.1-final"
  },
  "orig_nbformat": 2,
  "kernelspec": {
   "name": "python3",
   "display_name": "Python 3.9.1 64-bit ('.venv': venv)",
   "metadata": {
    "interpreter": {
     "hash": "5441275ed5cc7f93a6aaad3fbd4c5fc863fecfd6e48b72338f35e4d431669d52"
    }
   }
  }
 },
 "nbformat": 4,
 "nbformat_minor": 2,
 "cells": [
  {
   "cell_type": "code",
   "execution_count": 1,
   "metadata": {},
   "outputs": [],
   "source": [
    "import pandas as pd"
   ]
  },
  {
   "cell_type": "code",
   "execution_count": 4,
   "metadata": {},
   "outputs": [],
   "source": [
    "from nba_api.stats.endpoints.commonteamroster import CommonTeamRoster\n",
    "from nba_api.stats.endpoints.commonteamyears import CommonTeamYears"
   ]
  },
  {
   "cell_type": "code",
   "execution_count": 4,
   "metadata": {},
   "outputs": [],
   "source": [
    "teams = CommonTeamYears().get_data_frames()[0]"
   ]
  },
  {
   "cell_type": "code",
   "execution_count": 46,
   "metadata": {},
   "outputs": [
    {
     "output_type": "execute_result",
     "data": {
      "text/plain": [
       "   LEAGUE_ID     TEAM_ID MIN_YEAR MAX_YEAR ABBREVIATION\n",
       "0         00  1610612737     1949     2020          ATL\n",
       "1         00  1610612738     1946     2020          BOS\n",
       "2         00  1610612739     1970     2020          CLE\n",
       "3         00  1610612740     2002     2020          NOP\n",
       "4         00  1610612741     1966     2020          CHI\n",
       "5         00  1610612742     1980     2020          DAL\n",
       "6         00  1610612743     1976     2020          DEN\n",
       "7         00  1610612744     1946     2020          GSW\n",
       "8         00  1610612745     1967     2020          HOU\n",
       "9         00  1610612746     1970     2020          LAC\n",
       "10        00  1610612747     1948     2020          LAL\n",
       "11        00  1610612748     1988     2020          MIA\n",
       "12        00  1610612749     1968     2020          MIL\n",
       "13        00  1610612750     1989     2020          MIN\n",
       "14        00  1610612751     1976     2020          BKN\n",
       "15        00  1610612752     1946     2020          NYK\n",
       "16        00  1610612753     1989     2020          ORL\n",
       "17        00  1610612754     1976     2020          IND\n",
       "18        00  1610612755     1949     2020          PHI\n",
       "19        00  1610612756     1968     2020          PHX\n",
       "20        00  1610612757     1970     2020          POR\n",
       "21        00  1610612758     1948     2020          SAC\n",
       "22        00  1610612759     1976     2020          SAS\n",
       "23        00  1610612760     1967     2020          OKC\n",
       "24        00  1610612761     1995     2020          TOR\n",
       "25        00  1610612762     1974     2020          UTA\n",
       "26        00  1610612763     1995     2020          MEM\n",
       "27        00  1610612764     1961     2020          WAS\n",
       "28        00  1610612765     1948     2020          DET\n",
       "29        00  1610612766     1988     2020          CHA\n",
       "30        00  1610610023     1949     1949         None\n",
       "31        00  1610610024     1947     1954         None\n",
       "32        00  1610610025     1946     1949         None\n",
       "33        00  1610610026     1946     1946         None\n",
       "34        00  1610610027     1949     1949         None\n",
       "35        00  1610610028     1946     1946         None\n",
       "36        00  1610610029     1948     1948         None\n",
       "37        00  1610610030     1949     1952         None\n",
       "38        00  1610610031     1946     1946         None\n",
       "39        00  1610610032     1946     1948         None\n",
       "40        00  1610610033     1949     1949         None\n",
       "41        00  1610610034     1946     1949         None\n",
       "42        00  1610610035     1946     1946         None\n",
       "43        00  1610610036     1946     1950         None\n",
       "44        00  1610610037     1949     1949         None"
      ],
      "text/html": "<div>\n<style scoped>\n    .dataframe tbody tr th:only-of-type {\n        vertical-align: middle;\n    }\n\n    .dataframe tbody tr th {\n        vertical-align: top;\n    }\n\n    .dataframe thead th {\n        text-align: right;\n    }\n</style>\n<table border=\"1\" class=\"dataframe\">\n  <thead>\n    <tr style=\"text-align: right;\">\n      <th></th>\n      <th>LEAGUE_ID</th>\n      <th>TEAM_ID</th>\n      <th>MIN_YEAR</th>\n      <th>MAX_YEAR</th>\n      <th>ABBREVIATION</th>\n    </tr>\n  </thead>\n  <tbody>\n    <tr>\n      <th>0</th>\n      <td>00</td>\n      <td>1610612737</td>\n      <td>1949</td>\n      <td>2020</td>\n      <td>ATL</td>\n    </tr>\n    <tr>\n      <th>1</th>\n      <td>00</td>\n      <td>1610612738</td>\n      <td>1946</td>\n      <td>2020</td>\n      <td>BOS</td>\n    </tr>\n    <tr>\n      <th>2</th>\n      <td>00</td>\n      <td>1610612739</td>\n      <td>1970</td>\n      <td>2020</td>\n      <td>CLE</td>\n    </tr>\n    <tr>\n      <th>3</th>\n      <td>00</td>\n      <td>1610612740</td>\n      <td>2002</td>\n      <td>2020</td>\n      <td>NOP</td>\n    </tr>\n    <tr>\n      <th>4</th>\n      <td>00</td>\n      <td>1610612741</td>\n      <td>1966</td>\n      <td>2020</td>\n      <td>CHI</td>\n    </tr>\n    <tr>\n      <th>5</th>\n      <td>00</td>\n      <td>1610612742</td>\n      <td>1980</td>\n      <td>2020</td>\n      <td>DAL</td>\n    </tr>\n    <tr>\n      <th>6</th>\n      <td>00</td>\n      <td>1610612743</td>\n      <td>1976</td>\n      <td>2020</td>\n      <td>DEN</td>\n    </tr>\n    <tr>\n      <th>7</th>\n      <td>00</td>\n      <td>1610612744</td>\n      <td>1946</td>\n      <td>2020</td>\n      <td>GSW</td>\n    </tr>\n    <tr>\n      <th>8</th>\n      <td>00</td>\n      <td>1610612745</td>\n      <td>1967</td>\n      <td>2020</td>\n      <td>HOU</td>\n    </tr>\n    <tr>\n      <th>9</th>\n      <td>00</td>\n      <td>1610612746</td>\n      <td>1970</td>\n      <td>2020</td>\n      <td>LAC</td>\n    </tr>\n    <tr>\n      <th>10</th>\n      <td>00</td>\n      <td>1610612747</td>\n      <td>1948</td>\n      <td>2020</td>\n      <td>LAL</td>\n    </tr>\n    <tr>\n      <th>11</th>\n      <td>00</td>\n      <td>1610612748</td>\n      <td>1988</td>\n      <td>2020</td>\n      <td>MIA</td>\n    </tr>\n    <tr>\n      <th>12</th>\n      <td>00</td>\n      <td>1610612749</td>\n      <td>1968</td>\n      <td>2020</td>\n      <td>MIL</td>\n    </tr>\n    <tr>\n      <th>13</th>\n      <td>00</td>\n      <td>1610612750</td>\n      <td>1989</td>\n      <td>2020</td>\n      <td>MIN</td>\n    </tr>\n    <tr>\n      <th>14</th>\n      <td>00</td>\n      <td>1610612751</td>\n      <td>1976</td>\n      <td>2020</td>\n      <td>BKN</td>\n    </tr>\n    <tr>\n      <th>15</th>\n      <td>00</td>\n      <td>1610612752</td>\n      <td>1946</td>\n      <td>2020</td>\n      <td>NYK</td>\n    </tr>\n    <tr>\n      <th>16</th>\n      <td>00</td>\n      <td>1610612753</td>\n      <td>1989</td>\n      <td>2020</td>\n      <td>ORL</td>\n    </tr>\n    <tr>\n      <th>17</th>\n      <td>00</td>\n      <td>1610612754</td>\n      <td>1976</td>\n      <td>2020</td>\n      <td>IND</td>\n    </tr>\n    <tr>\n      <th>18</th>\n      <td>00</td>\n      <td>1610612755</td>\n      <td>1949</td>\n      <td>2020</td>\n      <td>PHI</td>\n    </tr>\n    <tr>\n      <th>19</th>\n      <td>00</td>\n      <td>1610612756</td>\n      <td>1968</td>\n      <td>2020</td>\n      <td>PHX</td>\n    </tr>\n    <tr>\n      <th>20</th>\n      <td>00</td>\n      <td>1610612757</td>\n      <td>1970</td>\n      <td>2020</td>\n      <td>POR</td>\n    </tr>\n    <tr>\n      <th>21</th>\n      <td>00</td>\n      <td>1610612758</td>\n      <td>1948</td>\n      <td>2020</td>\n      <td>SAC</td>\n    </tr>\n    <tr>\n      <th>22</th>\n      <td>00</td>\n      <td>1610612759</td>\n      <td>1976</td>\n      <td>2020</td>\n      <td>SAS</td>\n    </tr>\n    <tr>\n      <th>23</th>\n      <td>00</td>\n      <td>1610612760</td>\n      <td>1967</td>\n      <td>2020</td>\n      <td>OKC</td>\n    </tr>\n    <tr>\n      <th>24</th>\n      <td>00</td>\n      <td>1610612761</td>\n      <td>1995</td>\n      <td>2020</td>\n      <td>TOR</td>\n    </tr>\n    <tr>\n      <th>25</th>\n      <td>00</td>\n      <td>1610612762</td>\n      <td>1974</td>\n      <td>2020</td>\n      <td>UTA</td>\n    </tr>\n    <tr>\n      <th>26</th>\n      <td>00</td>\n      <td>1610612763</td>\n      <td>1995</td>\n      <td>2020</td>\n      <td>MEM</td>\n    </tr>\n    <tr>\n      <th>27</th>\n      <td>00</td>\n      <td>1610612764</td>\n      <td>1961</td>\n      <td>2020</td>\n      <td>WAS</td>\n    </tr>\n    <tr>\n      <th>28</th>\n      <td>00</td>\n      <td>1610612765</td>\n      <td>1948</td>\n      <td>2020</td>\n      <td>DET</td>\n    </tr>\n    <tr>\n      <th>29</th>\n      <td>00</td>\n      <td>1610612766</td>\n      <td>1988</td>\n      <td>2020</td>\n      <td>CHA</td>\n    </tr>\n    <tr>\n      <th>30</th>\n      <td>00</td>\n      <td>1610610023</td>\n      <td>1949</td>\n      <td>1949</td>\n      <td>None</td>\n    </tr>\n    <tr>\n      <th>31</th>\n      <td>00</td>\n      <td>1610610024</td>\n      <td>1947</td>\n      <td>1954</td>\n      <td>None</td>\n    </tr>\n    <tr>\n      <th>32</th>\n      <td>00</td>\n      <td>1610610025</td>\n      <td>1946</td>\n      <td>1949</td>\n      <td>None</td>\n    </tr>\n    <tr>\n      <th>33</th>\n      <td>00</td>\n      <td>1610610026</td>\n      <td>1946</td>\n      <td>1946</td>\n      <td>None</td>\n    </tr>\n    <tr>\n      <th>34</th>\n      <td>00</td>\n      <td>1610610027</td>\n      <td>1949</td>\n      <td>1949</td>\n      <td>None</td>\n    </tr>\n    <tr>\n      <th>35</th>\n      <td>00</td>\n      <td>1610610028</td>\n      <td>1946</td>\n      <td>1946</td>\n      <td>None</td>\n    </tr>\n    <tr>\n      <th>36</th>\n      <td>00</td>\n      <td>1610610029</td>\n      <td>1948</td>\n      <td>1948</td>\n      <td>None</td>\n    </tr>\n    <tr>\n      <th>37</th>\n      <td>00</td>\n      <td>1610610030</td>\n      <td>1949</td>\n      <td>1952</td>\n      <td>None</td>\n    </tr>\n    <tr>\n      <th>38</th>\n      <td>00</td>\n      <td>1610610031</td>\n      <td>1946</td>\n      <td>1946</td>\n      <td>None</td>\n    </tr>\n    <tr>\n      <th>39</th>\n      <td>00</td>\n      <td>1610610032</td>\n      <td>1946</td>\n      <td>1948</td>\n      <td>None</td>\n    </tr>\n    <tr>\n      <th>40</th>\n      <td>00</td>\n      <td>1610610033</td>\n      <td>1949</td>\n      <td>1949</td>\n      <td>None</td>\n    </tr>\n    <tr>\n      <th>41</th>\n      <td>00</td>\n      <td>1610610034</td>\n      <td>1946</td>\n      <td>1949</td>\n      <td>None</td>\n    </tr>\n    <tr>\n      <th>42</th>\n      <td>00</td>\n      <td>1610610035</td>\n      <td>1946</td>\n      <td>1946</td>\n      <td>None</td>\n    </tr>\n    <tr>\n      <th>43</th>\n      <td>00</td>\n      <td>1610610036</td>\n      <td>1946</td>\n      <td>1950</td>\n      <td>None</td>\n    </tr>\n    <tr>\n      <th>44</th>\n      <td>00</td>\n      <td>1610610037</td>\n      <td>1949</td>\n      <td>1949</td>\n      <td>None</td>\n    </tr>\n  </tbody>\n</table>\n</div>"
     },
     "metadata": {},
     "execution_count": 46
    }
   ],
   "source": [
    "teams"
   ]
  },
  {
   "cell_type": "code",
   "execution_count": 47,
   "metadata": {},
   "outputs": [],
   "source": [
    "teams.to_csv('/Users/johnschroeder/Documents/gambling_stuff/data/01_raw/nba_teams/current.csv', index=False)"
   ]
  },
  {
   "cell_type": "code",
   "execution_count": 5,
   "metadata": {},
   "outputs": [
    {
     "output_type": "execute_result",
     "data": {
      "text/plain": [
       "45"
      ]
     },
     "metadata": {},
     "execution_count": 5
    }
   ],
   "source": [
    "len(teams)"
   ]
  },
  {
   "cell_type": "code",
   "execution_count": 12,
   "metadata": {},
   "outputs": [],
   "source": [
    "dfs = CommonTeamRoster(season='2019-20', team_id='1610612737')"
   ]
  },
  {
   "cell_type": "code",
   "execution_count": 13,
   "metadata": {},
   "outputs": [
    {
     "output_type": "execute_result",
     "data": {
      "text/plain": [
       "        TeamID SEASON LeagueID             PLAYER       PLAYER_SLUG NUM  \\\n",
       "0   1610612737   2019       00    Brandon Goodwin   brandon-goodwin   0   \n",
       "1   1610612737   2019       00        Jeff Teague       jeff-teague  00   \n",
       "2   1610612737   2019       00     Treveon Graham    treveon-graham   2   \n",
       "3   1610612737   2019       00      Kevin Huerter     kevin-huerter   3   \n",
       "4   1610612737   2019       00  Charlie Brown Jr.  charlie-brown-jr   4   \n",
       "5   1610612737   2019       00    Skal Labissiere   skal-labissiere   7   \n",
       "6   1610612737   2019       00         Trae Young        trae-young  11   \n",
       "7   1610612737   2019       00    De'Andre Hunter    deandre-hunter  12   \n",
       "8   1610612737   2019       00     Dewayne Dedmon    dewayne-dedmon  14   \n",
       "9   1610612737   2019       00       Clint Capela      clint-capela  15   \n",
       "10  1610612737   2019       00       Vince Carter      vince-carter  15   \n",
       "11  1610612737   2019       00       John Collins      john-collins  20   \n",
       "12  1610612737   2019       00        Cam Reddish       cam-reddish  22   \n",
       "13  1610612737   2019       00     Bruno Fernando    bruno-fernando  24   \n",
       "14  1610612737   2019       00       Damian Jones      damian-jones  30   \n",
       "15  1610612737   2019       00    DeAndre' Bembry    deandre-bembry  95   \n",
       "\n",
       "   POSITION HEIGHT WEIGHT    BIRTH_DATE   AGE EXP              SCHOOL  \\\n",
       "0         G    6-0    180  OCT 02, 1995  24.0   1  Florida Gulf Coast   \n",
       "1         G    6-3    195  JUN 10, 1988  32.0  10         Wake Forest   \n",
       "2       G-F    6-5    219  OCT 28, 1993  26.0   3     Va Commonwealth   \n",
       "3       G-F    6-7    190  AUG 27, 1998  21.0   1            Maryland   \n",
       "4         G    6-6    199  FEB 02, 1997  23.0   R   St. Joseph's (PA)   \n",
       "5       F-C   6-10    235  MAR 18, 1996  24.0   3            Kentucky   \n",
       "6         G    6-1    180  SEP 19, 1998  21.0   1            Oklahoma   \n",
       "7       F-G    6-7    225  DEC 02, 1997  22.0   R            Virginia   \n",
       "8         C    7-0    245  AUG 12, 1989  30.0   6                 USC   \n",
       "9         C   6-10    240  MAY 18, 1994  26.0   5         Elan Chalon   \n",
       "10      G-F    6-6    220  JAN 26, 1977  43.0  21      North Carolina   \n",
       "11        F    6-9    235  SEP 23, 1997  22.0   2         Wake Forest   \n",
       "12      F-G    6-8    218  SEP 01, 1999  20.0   R                Duke   \n",
       "13      F-C    6-9    240  AUG 15, 1998  21.0   R            Maryland   \n",
       "14        C   6-11    245  JUN 30, 1995  25.0   3          Vanderbilt   \n",
       "15      G-F    6-5    210  JUL 04, 1994  25.0   3   St. Joseph's (PA)   \n",
       "\n",
       "    PLAYER_ID  \n",
       "0     1629164  \n",
       "1      201952  \n",
       "2     1626203  \n",
       "3     1628989  \n",
       "4     1629718  \n",
       "5     1627746  \n",
       "6     1629027  \n",
       "7     1629631  \n",
       "8      203473  \n",
       "9      203991  \n",
       "10       1713  \n",
       "11    1628381  \n",
       "12    1629629  \n",
       "13    1628981  \n",
       "14    1627745  \n",
       "15    1627761  "
      ],
      "text/html": "<div>\n<style scoped>\n    .dataframe tbody tr th:only-of-type {\n        vertical-align: middle;\n    }\n\n    .dataframe tbody tr th {\n        vertical-align: top;\n    }\n\n    .dataframe thead th {\n        text-align: right;\n    }\n</style>\n<table border=\"1\" class=\"dataframe\">\n  <thead>\n    <tr style=\"text-align: right;\">\n      <th></th>\n      <th>TeamID</th>\n      <th>SEASON</th>\n      <th>LeagueID</th>\n      <th>PLAYER</th>\n      <th>PLAYER_SLUG</th>\n      <th>NUM</th>\n      <th>POSITION</th>\n      <th>HEIGHT</th>\n      <th>WEIGHT</th>\n      <th>BIRTH_DATE</th>\n      <th>AGE</th>\n      <th>EXP</th>\n      <th>SCHOOL</th>\n      <th>PLAYER_ID</th>\n    </tr>\n  </thead>\n  <tbody>\n    <tr>\n      <th>0</th>\n      <td>1610612737</td>\n      <td>2019</td>\n      <td>00</td>\n      <td>Brandon Goodwin</td>\n      <td>brandon-goodwin</td>\n      <td>0</td>\n      <td>G</td>\n      <td>6-0</td>\n      <td>180</td>\n      <td>OCT 02, 1995</td>\n      <td>24.0</td>\n      <td>1</td>\n      <td>Florida Gulf Coast</td>\n      <td>1629164</td>\n    </tr>\n    <tr>\n      <th>1</th>\n      <td>1610612737</td>\n      <td>2019</td>\n      <td>00</td>\n      <td>Jeff Teague</td>\n      <td>jeff-teague</td>\n      <td>00</td>\n      <td>G</td>\n      <td>6-3</td>\n      <td>195</td>\n      <td>JUN 10, 1988</td>\n      <td>32.0</td>\n      <td>10</td>\n      <td>Wake Forest</td>\n      <td>201952</td>\n    </tr>\n    <tr>\n      <th>2</th>\n      <td>1610612737</td>\n      <td>2019</td>\n      <td>00</td>\n      <td>Treveon Graham</td>\n      <td>treveon-graham</td>\n      <td>2</td>\n      <td>G-F</td>\n      <td>6-5</td>\n      <td>219</td>\n      <td>OCT 28, 1993</td>\n      <td>26.0</td>\n      <td>3</td>\n      <td>Va Commonwealth</td>\n      <td>1626203</td>\n    </tr>\n    <tr>\n      <th>3</th>\n      <td>1610612737</td>\n      <td>2019</td>\n      <td>00</td>\n      <td>Kevin Huerter</td>\n      <td>kevin-huerter</td>\n      <td>3</td>\n      <td>G-F</td>\n      <td>6-7</td>\n      <td>190</td>\n      <td>AUG 27, 1998</td>\n      <td>21.0</td>\n      <td>1</td>\n      <td>Maryland</td>\n      <td>1628989</td>\n    </tr>\n    <tr>\n      <th>4</th>\n      <td>1610612737</td>\n      <td>2019</td>\n      <td>00</td>\n      <td>Charlie Brown Jr.</td>\n      <td>charlie-brown-jr</td>\n      <td>4</td>\n      <td>G</td>\n      <td>6-6</td>\n      <td>199</td>\n      <td>FEB 02, 1997</td>\n      <td>23.0</td>\n      <td>R</td>\n      <td>St. Joseph's (PA)</td>\n      <td>1629718</td>\n    </tr>\n    <tr>\n      <th>5</th>\n      <td>1610612737</td>\n      <td>2019</td>\n      <td>00</td>\n      <td>Skal Labissiere</td>\n      <td>skal-labissiere</td>\n      <td>7</td>\n      <td>F-C</td>\n      <td>6-10</td>\n      <td>235</td>\n      <td>MAR 18, 1996</td>\n      <td>24.0</td>\n      <td>3</td>\n      <td>Kentucky</td>\n      <td>1627746</td>\n    </tr>\n    <tr>\n      <th>6</th>\n      <td>1610612737</td>\n      <td>2019</td>\n      <td>00</td>\n      <td>Trae Young</td>\n      <td>trae-young</td>\n      <td>11</td>\n      <td>G</td>\n      <td>6-1</td>\n      <td>180</td>\n      <td>SEP 19, 1998</td>\n      <td>21.0</td>\n      <td>1</td>\n      <td>Oklahoma</td>\n      <td>1629027</td>\n    </tr>\n    <tr>\n      <th>7</th>\n      <td>1610612737</td>\n      <td>2019</td>\n      <td>00</td>\n      <td>De'Andre Hunter</td>\n      <td>deandre-hunter</td>\n      <td>12</td>\n      <td>F-G</td>\n      <td>6-7</td>\n      <td>225</td>\n      <td>DEC 02, 1997</td>\n      <td>22.0</td>\n      <td>R</td>\n      <td>Virginia</td>\n      <td>1629631</td>\n    </tr>\n    <tr>\n      <th>8</th>\n      <td>1610612737</td>\n      <td>2019</td>\n      <td>00</td>\n      <td>Dewayne Dedmon</td>\n      <td>dewayne-dedmon</td>\n      <td>14</td>\n      <td>C</td>\n      <td>7-0</td>\n      <td>245</td>\n      <td>AUG 12, 1989</td>\n      <td>30.0</td>\n      <td>6</td>\n      <td>USC</td>\n      <td>203473</td>\n    </tr>\n    <tr>\n      <th>9</th>\n      <td>1610612737</td>\n      <td>2019</td>\n      <td>00</td>\n      <td>Clint Capela</td>\n      <td>clint-capela</td>\n      <td>15</td>\n      <td>C</td>\n      <td>6-10</td>\n      <td>240</td>\n      <td>MAY 18, 1994</td>\n      <td>26.0</td>\n      <td>5</td>\n      <td>Elan Chalon</td>\n      <td>203991</td>\n    </tr>\n    <tr>\n      <th>10</th>\n      <td>1610612737</td>\n      <td>2019</td>\n      <td>00</td>\n      <td>Vince Carter</td>\n      <td>vince-carter</td>\n      <td>15</td>\n      <td>G-F</td>\n      <td>6-6</td>\n      <td>220</td>\n      <td>JAN 26, 1977</td>\n      <td>43.0</td>\n      <td>21</td>\n      <td>North Carolina</td>\n      <td>1713</td>\n    </tr>\n    <tr>\n      <th>11</th>\n      <td>1610612737</td>\n      <td>2019</td>\n      <td>00</td>\n      <td>John Collins</td>\n      <td>john-collins</td>\n      <td>20</td>\n      <td>F</td>\n      <td>6-9</td>\n      <td>235</td>\n      <td>SEP 23, 1997</td>\n      <td>22.0</td>\n      <td>2</td>\n      <td>Wake Forest</td>\n      <td>1628381</td>\n    </tr>\n    <tr>\n      <th>12</th>\n      <td>1610612737</td>\n      <td>2019</td>\n      <td>00</td>\n      <td>Cam Reddish</td>\n      <td>cam-reddish</td>\n      <td>22</td>\n      <td>F-G</td>\n      <td>6-8</td>\n      <td>218</td>\n      <td>SEP 01, 1999</td>\n      <td>20.0</td>\n      <td>R</td>\n      <td>Duke</td>\n      <td>1629629</td>\n    </tr>\n    <tr>\n      <th>13</th>\n      <td>1610612737</td>\n      <td>2019</td>\n      <td>00</td>\n      <td>Bruno Fernando</td>\n      <td>bruno-fernando</td>\n      <td>24</td>\n      <td>F-C</td>\n      <td>6-9</td>\n      <td>240</td>\n      <td>AUG 15, 1998</td>\n      <td>21.0</td>\n      <td>R</td>\n      <td>Maryland</td>\n      <td>1628981</td>\n    </tr>\n    <tr>\n      <th>14</th>\n      <td>1610612737</td>\n      <td>2019</td>\n      <td>00</td>\n      <td>Damian Jones</td>\n      <td>damian-jones</td>\n      <td>30</td>\n      <td>C</td>\n      <td>6-11</td>\n      <td>245</td>\n      <td>JUN 30, 1995</td>\n      <td>25.0</td>\n      <td>3</td>\n      <td>Vanderbilt</td>\n      <td>1627745</td>\n    </tr>\n    <tr>\n      <th>15</th>\n      <td>1610612737</td>\n      <td>2019</td>\n      <td>00</td>\n      <td>DeAndre' Bembry</td>\n      <td>deandre-bembry</td>\n      <td>95</td>\n      <td>G-F</td>\n      <td>6-5</td>\n      <td>210</td>\n      <td>JUL 04, 1994</td>\n      <td>25.0</td>\n      <td>3</td>\n      <td>St. Joseph's (PA)</td>\n      <td>1627761</td>\n    </tr>\n  </tbody>\n</table>\n</div>"
     },
     "metadata": {},
     "execution_count": 13
    }
   ],
   "source": [
    "dfs.get_data_frames()[0]"
   ]
  },
  {
   "cell_type": "code",
   "execution_count": null,
   "metadata": {},
   "outputs": [],
   "source": []
  },
  {
   "cell_type": "code",
   "execution_count": null,
   "metadata": {},
   "outputs": [],
   "source": []
  },
  {
   "cell_type": "code",
   "execution_count": 1,
   "metadata": {},
   "outputs": [],
   "source": [
    "from nba_api_scripts.team import *"
   ]
  },
  {
   "cell_type": "code",
   "execution_count": 11,
   "metadata": {},
   "outputs": [
    {
     "output_type": "execute_result",
     "data": {
      "text/plain": [
       "LEAGUE_ID       object\n",
       "TEAM_ID          int64\n",
       "MIN_YEAR        object\n",
       "MAX_YEAR        object\n",
       "ABBREVIATION    object\n",
       "dtype: object"
      ]
     },
     "metadata": {},
     "execution_count": 11
    }
   ],
   "source": [
    "teams.dtypes"
   ]
  },
  {
   "cell_type": "code",
   "execution_count": 12,
   "metadata": {},
   "outputs": [],
   "source": [
    "team_ids = list(teams.query('MAX_YEAR == \"2020\"')['TEAM_ID'])"
   ]
  },
  {
   "cell_type": "code",
   "execution_count": 14,
   "metadata": {},
   "outputs": [],
   "source": [
    "import pandas as pd"
   ]
  },
  {
   "cell_type": "code",
   "execution_count": 17,
   "metadata": {},
   "outputs": [],
   "source": [
    "from time import sleep\n",
    "from random import uniform"
   ]
  },
  {
   "cell_type": "code",
   "execution_count": 45,
   "metadata": {},
   "outputs": [
    {
     "output_type": "stream",
     "name": "stdout",
     "text": [
      "1610612737\n",
      "1610612738\n",
      "1610612739\n",
      "1610612740\n",
      "1610612741\n",
      "1610612742\n",
      "1610612743\n",
      "1610612744\n",
      "1610612745\n",
      "1610612746\n",
      "1610612747\n",
      "1610612748\n",
      "1610612749\n",
      "1610612750\n",
      "1610612751\n",
      "1610612752\n",
      "1610612753\n",
      "1610612754\n",
      "1610612755\n",
      "1610612756\n",
      "1610612757\n",
      "1610612758\n",
      "1610612759\n",
      "1610612760\n",
      "1610612761\n",
      "1610612762\n",
      "1610612763\n",
      "1610612764\n",
      "1610612765\n",
      "1610612766\n"
     ]
    }
   ],
   "source": [
    "for _, team_id in enumerate(team_ids):\n",
    "    print(team_id)\n",
    "    sleep(uniform(1.5, 3))\n",
    "    raw_roster = get_team_season_roster('2020-21', team_id)\n",
    "    raw_roster.to_csv(f'/Users/johnschroeder/Documents/gambling_stuff/data/01_raw/nba_rosters/{team_id}.csv', index=False)"
   ]
  },
  {
   "cell_type": "code",
   "execution_count": null,
   "metadata": {},
   "outputs": [],
   "source": []
  },
  {
   "cell_type": "code",
   "execution_count": 21,
   "metadata": {},
   "outputs": [],
   "source": [
    "roster = get_team_season_roster('2020-21', '1610612737')"
   ]
  },
  {
   "cell_type": "code",
   "execution_count": 25,
   "metadata": {},
   "outputs": [],
   "source": [
    "player_ids = list(roster['PLAYER_ID'].unique())"
   ]
  },
  {
   "cell_type": "code",
   "execution_count": 24,
   "metadata": {},
   "outputs": [],
   "source": [
    "from glob import glob"
   ]
  },
  {
   "cell_type": "code",
   "execution_count": 27,
   "metadata": {},
   "outputs": [],
   "source": [
    "base_path = '/Users/johnschroeder/Documents/gambling_stuff/data/nba_player_info'"
   ]
  },
  {
   "cell_type": "code",
   "execution_count": 28,
   "metadata": {},
   "outputs": [],
   "source": [
    "from pathlib import Path"
   ]
  },
  {
   "cell_type": "code",
   "execution_count": 34,
   "metadata": {},
   "outputs": [
    {
     "output_type": "execute_result",
     "data": {
      "text/plain": [
       "'/Users/johnschroeder/Documents/gambling_stuff/data/nba_player_info/708.csv'"
      ]
     },
     "metadata": {},
     "execution_count": 34
    }
   ],
   "source": [
    "str(Path(base_path).joinpath('708.csv'))"
   ]
  },
  {
   "cell_type": "code",
   "execution_count": 35,
   "metadata": {},
   "outputs": [
    {
     "output_type": "execute_result",
     "data": {
      "text/plain": [
       "PosixPath('/Users/johnschroeder/Documents/gambling_stuff/data/nba_player_info/708.csv')"
      ]
     },
     "metadata": {},
     "execution_count": 35
    }
   ],
   "source": [
    "Path(base_path).joinpath('708.csv')"
   ]
  },
  {
   "cell_type": "code",
   "execution_count": 39,
   "metadata": {},
   "outputs": [
    {
     "output_type": "execute_result",
     "data": {
      "text/plain": [
       "<generator object Path.rglob at 0x1151ed270>"
      ]
     },
     "metadata": {},
     "execution_count": 39
    }
   ],
   "source": [
    "Path('/Users/johnschroeder/Documents/gambling_stuff/data/nba_player_info').rglob('*.csv')"
   ]
  },
  {
   "cell_type": "code",
   "execution_count": 43,
   "metadata": {},
   "outputs": [
    {
     "output_type": "execute_result",
     "data": {
      "text/plain": [
       "[1629164,\n",
       " 1630233,\n",
       " 1628989,\n",
       " 1630219,\n",
       " 201568,\n",
       " 1629027,\n",
       " 1629631,\n",
       " 203992,\n",
       " 203991,\n",
       " 1630168,\n",
       " 203524,\n",
       " 203503,\n",
       " 1628381,\n",
       " 1629629,\n",
       " 101150,\n",
       " 1628981,\n",
       " 1627739]"
      ]
     },
     "metadata": {},
     "execution_count": 43
    }
   ],
   "source": [
    "player_ids"
   ]
  },
  {
   "cell_type": "code",
   "execution_count": 44,
   "metadata": {},
   "outputs": [
    {
     "output_type": "execute_result",
     "data": {
      "text/plain": [
       "['/Users/johnschroeder/Documents/gambling_stuff/data/nba_player_info/203991.csv',\n",
       " '/Users/johnschroeder/Documents/gambling_stuff/data/nba_player_info/203992.csv',\n",
       " '/Users/johnschroeder/Documents/gambling_stuff/data/nba_player_info/1627739.csv',\n",
       " '/Users/johnschroeder/Documents/gambling_stuff/data/nba_player_info/1628989.csv',\n",
       " '/Users/johnschroeder/Documents/gambling_stuff/data/nba_player_info/1628381.csv',\n",
       " '/Users/johnschroeder/Documents/gambling_stuff/data/nba_player_info/1630219.csv',\n",
       " '/Users/johnschroeder/Documents/gambling_stuff/data/nba_player_info/1629629.csv',\n",
       " '/Users/johnschroeder/Documents/gambling_stuff/data/nba_player_info/203503.csv',\n",
       " '/Users/johnschroeder/Documents/gambling_stuff/data/nba_player_info/1630233.csv',\n",
       " '/Users/johnschroeder/Documents/gambling_stuff/data/nba_player_info/1629164.csv',\n",
       " '/Users/johnschroeder/Documents/gambling_stuff/data/nba_player_info/101150.csv',\n",
       " '/Users/johnschroeder/Documents/gambling_stuff/data/nba_player_info/1630168.csv',\n",
       " '/Users/johnschroeder/Documents/gambling_stuff/data/nba_player_info/1629027.csv',\n",
       " '/Users/johnschroeder/Documents/gambling_stuff/data/nba_player_info/203524.csv',\n",
       " '/Users/johnschroeder/Documents/gambling_stuff/data/nba_player_info/1629631.csv',\n",
       " '/Users/johnschroeder/Documents/gambling_stuff/data/nba_player_info/201568.csv',\n",
       " '/Users/johnschroeder/Documents/gambling_stuff/data/nba_player_info/1628981.csv']"
      ]
     },
     "metadata": {},
     "execution_count": 44
    }
   ],
   "source": [
    "[x for x in glob('/Users/johnschroeder/Documents/gambling_stuff/data/nba_player_info/*.csv') if int(Path(x).stem) in player_ids]"
   ]
  },
  {
   "cell_type": "code",
   "execution_count": null,
   "metadata": {},
   "outputs": [],
   "source": []
  },
  {
   "cell_type": "code",
   "execution_count": 26,
   "metadata": {},
   "outputs": [
    {
     "output_type": "execute_result",
     "data": {
      "text/plain": [
       "[1629164,\n",
       " 1630233,\n",
       " 1628989,\n",
       " 1630219,\n",
       " 201568,\n",
       " 1629027,\n",
       " 1629631,\n",
       " 203992,\n",
       " 203991,\n",
       " 1630168,\n",
       " 203524,\n",
       " 203503,\n",
       " 1628381,\n",
       " 1629629,\n",
       " 101150,\n",
       " 1628981,\n",
       " 1627739]"
      ]
     },
     "metadata": {},
     "execution_count": 26
    }
   ],
   "source": [
    "player_ids"
   ]
  },
  {
   "cell_type": "code",
   "execution_count": 55,
   "metadata": {},
   "outputs": [],
   "source": [
    "base_data_path = Path.cwd().joinpath(\"data\")\n",
    "teams_df = (\n",
    "    pd\n",
    "    .read_csv(\n",
    "        Path(base_data_path).joinpath(\"01_raw\", \"nba_teams\", \"current.csv\")\n",
    "    )[['TEAM_ID', 'ABBREVIATION']]\n",
    "    .rename(columns={'ABBREVIATION': 'TEAM_ABBREVIATION'})\n",
    ")"
   ]
  },
  {
   "cell_type": "code",
   "execution_count": 56,
   "metadata": {},
   "outputs": [
    {
     "output_type": "execute_result",
     "data": {
      "text/plain": [
       "      TEAM_ID TEAM_ABBREVIATION\n",
       "0  1610612737               ATL\n",
       "1  1610612738               BOS\n",
       "2  1610612739               CLE\n",
       "3  1610612740               NOP\n",
       "4  1610612741               CHI"
      ],
      "text/html": "<div>\n<style scoped>\n    .dataframe tbody tr th:only-of-type {\n        vertical-align: middle;\n    }\n\n    .dataframe tbody tr th {\n        vertical-align: top;\n    }\n\n    .dataframe thead th {\n        text-align: right;\n    }\n</style>\n<table border=\"1\" class=\"dataframe\">\n  <thead>\n    <tr style=\"text-align: right;\">\n      <th></th>\n      <th>TEAM_ID</th>\n      <th>TEAM_ABBREVIATION</th>\n    </tr>\n  </thead>\n  <tbody>\n    <tr>\n      <th>0</th>\n      <td>1610612737</td>\n      <td>ATL</td>\n    </tr>\n    <tr>\n      <th>1</th>\n      <td>1610612738</td>\n      <td>BOS</td>\n    </tr>\n    <tr>\n      <th>2</th>\n      <td>1610612739</td>\n      <td>CLE</td>\n    </tr>\n    <tr>\n      <th>3</th>\n      <td>1610612740</td>\n      <td>NOP</td>\n    </tr>\n    <tr>\n      <th>4</th>\n      <td>1610612741</td>\n      <td>CHI</td>\n    </tr>\n  </tbody>\n</table>\n</div>"
     },
     "metadata": {},
     "execution_count": 56
    }
   ],
   "source": [
    "teams_df.head()"
   ]
  },
  {
   "cell_type": "code",
   "execution_count": 57,
   "metadata": {},
   "outputs": [],
   "source": [
    "from glob import glob"
   ]
  },
  {
   "cell_type": "code",
   "execution_count": 58,
   "metadata": {},
   "outputs": [],
   "source": [
    "raw_roster_files = glob('/Users/johnschroeder/Documents/gambling_stuff/data/01_raw/nba_rosters/*.csv')"
   ]
  },
  {
   "cell_type": "code",
   "execution_count": 59,
   "metadata": {},
   "outputs": [],
   "source": [
    "curated_roster_cols = [\n",
    "        \"TEAM_ID\",\n",
    "        \"TEAM_ABBREVIATION\",\n",
    "        \"PLAYER_ID\",\n",
    "        \"PLAYER_NAME\",\n",
    "        \"PLAYER_SLUG\",\n",
    "        \"POSITION\",\n",
    "        \"HEIGHT\",\n",
    "        \"WEIGHT\",\n",
    "        \"AGE\",\n",
    "    ]"
   ]
  },
  {
   "cell_type": "code",
   "execution_count": 63,
   "metadata": {},
   "outputs": [
    {
     "output_type": "execute_result",
     "data": {
      "text/plain": [
       "Index(['TeamID', 'SEASON', 'LeagueID', 'PLAYER', 'PLAYER_SLUG', 'NUM',\n",
       "       'POSITION', 'HEIGHT', 'WEIGHT', 'BIRTH_DATE', 'AGE', 'EXP', 'SCHOOL',\n",
       "       'PLAYER_ID'],\n",
       "      dtype='object')"
      ]
     },
     "metadata": {},
     "execution_count": 63
    }
   ],
   "source": [
    "all_rosters.columns"
   ]
  },
  {
   "cell_type": "code",
   "execution_count": 67,
   "metadata": {},
   "outputs": [],
   "source": [
    "all_rosters = (\n",
    "    pd\n",
    "    .concat([pd.read_csv(x) for x in raw_roster_files])\n",
    "    .rename(columns={\n",
    "        'TeamID': 'TEAM_ID', \n",
    "        'PLAYER': 'PLAYER_NAME',\n",
    "        'EXP': 'EXPERIENCE'})\n",
    ")"
   ]
  },
  {
   "cell_type": "code",
   "execution_count": 71,
   "metadata": {},
   "outputs": [],
   "source": [
    "teams_df = pd.read_csv('/Users/johnschroeder/Documents/gambling_stuff/data/01_raw/nba_teams/current.csv').rename(columns={'ABBREVIATION': 'TEAM_ABBREVIATION'})"
   ]
  },
  {
   "cell_type": "code",
   "execution_count": 72,
   "metadata": {},
   "outputs": [],
   "source": [
    "final_cols = ['TEAM_ID', 'TEAM_ABBREVIATION', 'PLAYER_ID','PLAYER_NAME', 'PLAYER_SLUG', 'POSITION', 'HEIGHT','WEIGHT','AGE','EXPERIENCE']"
   ]
  },
  {
   "cell_type": "code",
   "execution_count": 74,
   "metadata": {},
   "outputs": [],
   "source": [
    "final_df = (\n",
    "    pd\n",
    "    .merge(all_rosters, teams_df, on='TEAM_ID')\n",
    "    [final_cols]\n",
    ")"
   ]
  },
  {
   "cell_type": "code",
   "execution_count": 75,
   "metadata": {},
   "outputs": [
    {
     "output_type": "execute_result",
     "data": {
      "text/plain": [
       "      TEAM_ID TEAM_ABBREVIATION  PLAYER_ID       PLAYER_NAME  \\\n",
       "0  1610612737               ATL    1629164   Brandon Goodwin   \n",
       "1  1610612737               ATL    1630233     Nathan Knight   \n",
       "2  1610612737               ATL    1628989     Kevin Huerter   \n",
       "3  1610612737               ATL    1630219       Skylar Mays   \n",
       "4  1610612737               ATL     201568  Danilo Gallinari   \n",
       "\n",
       "        PLAYER_SLUG POSITION HEIGHT  WEIGHT   AGE EXPERIENCE  \n",
       "0   brandon-goodwin        G    6-0     180  25.0          2  \n",
       "1     nathan-knight      F-C   6-10     253  23.0          R  \n",
       "2     kevin-huerter      G-F    6-7     190  22.0          2  \n",
       "3       skylar-mays        G    6-4     205  23.0          R  \n",
       "4  danilo-gallinari        F   6-10     233  32.0         11  "
      ],
      "text/html": "<div>\n<style scoped>\n    .dataframe tbody tr th:only-of-type {\n        vertical-align: middle;\n    }\n\n    .dataframe tbody tr th {\n        vertical-align: top;\n    }\n\n    .dataframe thead th {\n        text-align: right;\n    }\n</style>\n<table border=\"1\" class=\"dataframe\">\n  <thead>\n    <tr style=\"text-align: right;\">\n      <th></th>\n      <th>TEAM_ID</th>\n      <th>TEAM_ABBREVIATION</th>\n      <th>PLAYER_ID</th>\n      <th>PLAYER_NAME</th>\n      <th>PLAYER_SLUG</th>\n      <th>POSITION</th>\n      <th>HEIGHT</th>\n      <th>WEIGHT</th>\n      <th>AGE</th>\n      <th>EXPERIENCE</th>\n    </tr>\n  </thead>\n  <tbody>\n    <tr>\n      <th>0</th>\n      <td>1610612737</td>\n      <td>ATL</td>\n      <td>1629164</td>\n      <td>Brandon Goodwin</td>\n      <td>brandon-goodwin</td>\n      <td>G</td>\n      <td>6-0</td>\n      <td>180</td>\n      <td>25.0</td>\n      <td>2</td>\n    </tr>\n    <tr>\n      <th>1</th>\n      <td>1610612737</td>\n      <td>ATL</td>\n      <td>1630233</td>\n      <td>Nathan Knight</td>\n      <td>nathan-knight</td>\n      <td>F-C</td>\n      <td>6-10</td>\n      <td>253</td>\n      <td>23.0</td>\n      <td>R</td>\n    </tr>\n    <tr>\n      <th>2</th>\n      <td>1610612737</td>\n      <td>ATL</td>\n      <td>1628989</td>\n      <td>Kevin Huerter</td>\n      <td>kevin-huerter</td>\n      <td>G-F</td>\n      <td>6-7</td>\n      <td>190</td>\n      <td>22.0</td>\n      <td>2</td>\n    </tr>\n    <tr>\n      <th>3</th>\n      <td>1610612737</td>\n      <td>ATL</td>\n      <td>1630219</td>\n      <td>Skylar Mays</td>\n      <td>skylar-mays</td>\n      <td>G</td>\n      <td>6-4</td>\n      <td>205</td>\n      <td>23.0</td>\n      <td>R</td>\n    </tr>\n    <tr>\n      <th>4</th>\n      <td>1610612737</td>\n      <td>ATL</td>\n      <td>201568</td>\n      <td>Danilo Gallinari</td>\n      <td>danilo-gallinari</td>\n      <td>F</td>\n      <td>6-10</td>\n      <td>233</td>\n      <td>32.0</td>\n      <td>11</td>\n    </tr>\n  </tbody>\n</table>\n</div>"
     },
     "metadata": {},
     "execution_count": 75
    }
   ],
   "source": [
    "final_df.head()"
   ]
  },
  {
   "cell_type": "code",
   "execution_count": 76,
   "metadata": {},
   "outputs": [],
   "source": [
    "final_df.to_csv('/Users/johnschroeder/Documents/gambling_stuff/data/02_curated/nba_rosters/current.csv', index=False)"
   ]
  }
 ]
}