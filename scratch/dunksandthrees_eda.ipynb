{
 "metadata": {
  "language_info": {
   "codemirror_mode": {
    "name": "ipython",
    "version": 3
   },
   "file_extension": ".py",
   "mimetype": "text/x-python",
   "name": "python",
   "nbconvert_exporter": "python",
   "pygments_lexer": "ipython3",
   "version": "3.8.8"
  },
  "orig_nbformat": 2,
  "kernelspec": {
   "name": "pythonjvsc74a57bd0660ec2fa4e3eeab39d0c54848b187086312f48f4fa251ac92b8223030e6dcbc4",
   "display_name": "Python 3.8.8  ('.venv': pipenv)"
  },
  "metadata": {
   "interpreter": {
    "hash": "660ec2fa4e3eeab39d0c54848b187086312f48f4fa251ac92b8223030e6dcbc4"
   }
  }
 },
 "nbformat": 4,
 "nbformat_minor": 2,
 "cells": [
  {
   "cell_type": "code",
   "execution_count": 86,
   "metadata": {},
   "outputs": [],
   "source": [
    "from selenium.webdriver import Chrome, ChromeOptions\n",
    "from bs4 import BeautifulSoup\n",
    "import gzip\n",
    "from pathlib import Path\n",
    "from datetime import datetime\n",
    "import re\n",
    "from glob import glob\n",
    "import pandas as pd"
   ]
  },
  {
   "cell_type": "code",
   "execution_count": 13,
   "metadata": {},
   "outputs": [],
   "source": [
    "url = 'https://dunksandthrees.com/'\n",
    "chromedriver_path = Path().joinpath(\n",
    "    '/Users','johnschroeder','Documents','gambling_stuff','chromedriver')\n",
    "base_path = '/Users/johnschroeder/Documents/gambling_stuff/data/01_raw/nba_team_ratings'"
   ]
  },
  {
   "cell_type": "code",
   "execution_count": 3,
   "metadata": {},
   "outputs": [],
   "source": [
    "chrome_options = ChromeOptions()\n",
    "chrome_options.add_argument('--headless')"
   ]
  },
  {
   "cell_type": "code",
   "execution_count": 4,
   "metadata": {},
   "outputs": [],
   "source": [
    "driver = Chrome(executable_path=chromedriver_path, options=chrome_options)"
   ]
  },
  {
   "cell_type": "code",
   "execution_count": 5,
   "metadata": {},
   "outputs": [],
   "source": [
    "response = driver.get(url)"
   ]
  },
  {
   "cell_type": "code",
   "execution_count": 6,
   "metadata": {},
   "outputs": [],
   "source": [
    "soup = BeautifulSoup(driver.page_source)"
   ]
  },
  {
   "cell_type": "code",
   "execution_count": 14,
   "metadata": {},
   "outputs": [],
   "source": [
    "raw_page_date = soup.find('span', {'class': 'page-date'}).text"
   ]
  },
  {
   "cell_type": "code",
   "execution_count": 19,
   "metadata": {},
   "outputs": [],
   "source": [
    "ymd = str(datetime.strptime(raw_page_date, '%B %d, %Y').date()).split('-')"
   ]
  },
  {
   "cell_type": "code",
   "execution_count": 23,
   "metadata": {},
   "outputs": [],
   "source": [
    "raw_file = Path(base_path).joinpath(*ymd, 'dunksandthrees.html')"
   ]
  },
  {
   "cell_type": "code",
   "execution_count": 9,
   "metadata": {},
   "outputs": [],
   "source": [
    "team_stats = soup.find('div', {'id': 'team-stats'})"
   ]
  },
  {
   "cell_type": "code",
   "execution_count": null,
   "metadata": {},
   "outputs": [],
   "source": [
    "base"
   ]
  },
  {
   "cell_type": "code",
   "execution_count": 26,
   "metadata": {},
   "outputs": [],
   "source": [
    "Path(raw_file).parent.mkdir(parents=True, exist_ok=True)\n",
    "with open(raw_file, 'w') as fp:\n",
    "    fp.write(str(team_stats.prettify()))"
   ]
  },
  {
   "cell_type": "code",
   "execution_count": 28,
   "metadata": {},
   "outputs": [],
   "source": [
    "# collect all raw files and combine to a single dataframe"
   ]
  },
  {
   "cell_type": "code",
   "execution_count": 29,
   "metadata": {},
   "outputs": [],
   "source": [
    "curated_file = '/Users/johnschroeder/Documents/gambling_stuff/data/02_curated/nba_team_ratings/dunksandthrees.csv'"
   ]
  },
  {
   "cell_type": "code",
   "execution_count": 31,
   "metadata": {},
   "outputs": [],
   "source": [
    "stats_headers = team_stats.find('tr', {'class': 'main-header-tr'})"
   ]
  },
  {
   "cell_type": "code",
   "execution_count": 39,
   "metadata": {},
   "outputs": [],
   "source": [
    "df_headers = [re.sub('\\W+', '', _.text).lower() for _ in stats_headers.find_all('th')]"
   ]
  },
  {
   "cell_type": "code",
   "execution_count": 40,
   "metadata": {},
   "outputs": [
    {
     "output_type": "execute_result",
     "data": {
      "text/plain": [
       "['team',\n",
       " 'wl',\n",
       " 'anet',\n",
       " 'aortg',\n",
       " 'adrtg',\n",
       " 'sos',\n",
       " 'osos',\n",
       " 'dsos',\n",
       " 'pace',\n",
       " 'opl',\n",
       " 'dpl']"
      ]
     },
     "metadata": {},
     "execution_count": 40
    }
   ],
   "source": [
    "df_headers"
   ]
  },
  {
   "cell_type": "code",
   "execution_count": null,
   "metadata": {},
   "outputs": [],
   "source": [
    "#team-stats-table > tbody > tr.stat-row.expanded"
   ]
  },
  {
   "cell_type": "code",
   "execution_count": 50,
   "metadata": {},
   "outputs": [
    {
     "output_type": "execute_result",
     "data": {
      "text/plain": [
       "<tr class=\"stat-row entered\" style=\"opacity: 1;\"><td class=\"team-td\" style=\"padding: 0px 0.2em;\"><span style=\"vertical-align: middle;\"><span class=\"small-span\">1</span> UTA </span><img alt=\"\" src=\"images/teams/UTA.png\" style=\"vertical-align: middle;\" width=\"20px\"/></td><td class=\"wl-td\">50-18</td><td class=\"stat-td adj_netrtg\"><span class=\"val-span\">+9.0</span><span class=\"rank-span\" style=\"background-color: rgb(28, 118, 60);\">1</span></td><td class=\"stat-td adj_ortg\"><span class=\"val-span\">117.1</span><span class=\"rank-span\" style=\"background-color: rgb(29, 87, 51);\">5</span></td><td class=\"stat-td adj_drtg right-border\"><span class=\"val-span\">108.0</span><span class=\"rank-span\" style=\"background-color: rgb(28, 110, 58);\">3</span></td><td class=\"stat-td sos\"><span class=\"val-span\">-0.1</span><span class=\"rank-span\" style=\"background-color: rgb(29, 32, 37);\">13</span></td><td class=\"stat-td sos_o\"><span class=\"val-span\">-0.1</span><span class=\"rank-span\" style=\"background-color: rgb(25, 50, 61);\">22</span></td><td class=\"stat-td sos_d right-border\"><span class=\"val-span\">-0.0</span><span class=\"rank-span\" style=\"background-color: rgb(29, 37, 36);\">14</span></td><td class=\"stat-td pace\"><span class=\"val-span\">99.1</span><span class=\"rank-span\" style=\"background-color: rgb(29, 30, 34);\">15</span></td><td class=\"stat-td off_poss_length\"><span class=\"val-span\">14.8</span><span class=\"rank-span\" style=\"background-color: rgb(29, 30, 34);\">18</span></td><td class=\"stat-td def_poss_length\"><span class=\"val-span\">14.3</span><span class=\"rank-span\" style=\"background-color: rgb(29, 30, 34);\">7</span></td></tr>"
      ]
     },
     "metadata": {},
     "execution_count": 50
    }
   ],
   "source": [
    "team_stats.find_all('tr', {'class': 'stat-row'})[0]"
   ]
  },
  {
   "cell_type": "code",
   "execution_count": 58,
   "metadata": {},
   "outputs": [],
   "source": [
    "team_rows = team_stats.find_all('tr', {'class': 'stat-row'})"
   ]
  },
  {
   "cell_type": "code",
   "execution_count": 59,
   "metadata": {},
   "outputs": [
    {
     "output_type": "execute_result",
     "data": {
      "text/plain": [
       "<tr class=\"stat-row entered\" style=\"opacity: 1;\"><td class=\"team-td\" style=\"padding: 0px 0.2em;\"><span style=\"vertical-align: middle;\"><span class=\"small-span\">1</span> UTA </span><img alt=\"\" src=\"images/teams/UTA.png\" style=\"vertical-align: middle;\" width=\"20px\"/></td><td class=\"wl-td\">50-18</td><td class=\"stat-td adj_netrtg\"><span class=\"val-span\">+9.0</span><span class=\"rank-span\" style=\"background-color: rgb(28, 118, 60);\">1</span></td><td class=\"stat-td adj_ortg\"><span class=\"val-span\">117.1</span><span class=\"rank-span\" style=\"background-color: rgb(29, 87, 51);\">5</span></td><td class=\"stat-td adj_drtg right-border\"><span class=\"val-span\">108.0</span><span class=\"rank-span\" style=\"background-color: rgb(28, 110, 58);\">3</span></td><td class=\"stat-td sos\"><span class=\"val-span\">-0.1</span><span class=\"rank-span\" style=\"background-color: rgb(29, 32, 37);\">13</span></td><td class=\"stat-td sos_o\"><span class=\"val-span\">-0.1</span><span class=\"rank-span\" style=\"background-color: rgb(25, 50, 61);\">22</span></td><td class=\"stat-td sos_d right-border\"><span class=\"val-span\">-0.0</span><span class=\"rank-span\" style=\"background-color: rgb(29, 37, 36);\">14</span></td><td class=\"stat-td pace\"><span class=\"val-span\">99.1</span><span class=\"rank-span\" style=\"background-color: rgb(29, 30, 34);\">15</span></td><td class=\"stat-td off_poss_length\"><span class=\"val-span\">14.8</span><span class=\"rank-span\" style=\"background-color: rgb(29, 30, 34);\">18</span></td><td class=\"stat-td def_poss_length\"><span class=\"val-span\">14.3</span><span class=\"rank-span\" style=\"background-color: rgb(29, 30, 34);\">7</span></td></tr>"
      ]
     },
     "metadata": {},
     "execution_count": 59
    }
   ],
   "source": [
    "team_rows[0]"
   ]
  },
  {
   "cell_type": "code",
   "execution_count": 83,
   "metadata": {},
   "outputs": [],
   "source": [
    "replaces = re.compile(r'(\\+)|(\\d+\\s+)')\n",
    "df_data = []\n",
    "for team_row in team_rows:\n",
    "    row_data = [re.sub(replaces, '', _.text).strip() for _ in team_row.find_all('td')]\n",
    "    df_data.append(row_data)"
   ]
  },
  {
   "cell_type": "code",
   "execution_count": 96,
   "metadata": {},
   "outputs": [],
   "source": [
    "incr_df = pd.DataFrame(df_data, columns=df_headers)\n",
    "incr_df['date'] = str(datetime.strptime(raw_page_date, '%B %d, %Y').date())"
   ]
  },
  {
   "cell_type": "code",
   "execution_count": 91,
   "metadata": {},
   "outputs": [],
   "source": [
    "current_curated_df = pd.read_csv('/Users/johnschroeder/Documents/gambling_stuff/data/02_curated/nba_team_ratings/dunksandthrees.csv')"
   ]
  },
  {
   "cell_type": "code",
   "execution_count": 92,
   "metadata": {},
   "outputs": [
    {
     "output_type": "execute_result",
     "data": {
      "text/plain": [
       "  team     wl  anet  aortg  adrtg  sos  osos  dsos   pace   opl   dpl  \\\n",
       "0  UTA  50-18   9.0  117.1  108.0 -0.1  -0.0  -0.0   99.1  14.8  14.3   \n",
       "1  LAC  45-22   6.2  117.3  111.0 -0.1  -0.1  -0.0   97.4  15.0  14.5   \n",
       "2  PHI  47-21   5.6  113.1  107.5 -0.0  -0.0  -0.0   99.8  14.7  14.1   \n",
       "3  MIL  43-24   5.5  116.7  111.2 -0.3  -0.0  -0.3  102.3  13.6  14.6   \n",
       "4  DEN  44-24   5.0  117.1  112.1 -0.0   0.2  -0.2   97.3  15.1  14.5   \n",
       "\n",
       "         date  \n",
       "0  2021-05-08  \n",
       "1  2021-05-08  \n",
       "2  2021-05-08  \n",
       "3  2021-05-08  \n",
       "4  2021-05-08  "
      ],
      "text/html": "<div>\n<style scoped>\n    .dataframe tbody tr th:only-of-type {\n        vertical-align: middle;\n    }\n\n    .dataframe tbody tr th {\n        vertical-align: top;\n    }\n\n    .dataframe thead th {\n        text-align: right;\n    }\n</style>\n<table border=\"1\" class=\"dataframe\">\n  <thead>\n    <tr style=\"text-align: right;\">\n      <th></th>\n      <th>team</th>\n      <th>wl</th>\n      <th>anet</th>\n      <th>aortg</th>\n      <th>adrtg</th>\n      <th>sos</th>\n      <th>osos</th>\n      <th>dsos</th>\n      <th>pace</th>\n      <th>opl</th>\n      <th>dpl</th>\n      <th>date</th>\n    </tr>\n  </thead>\n  <tbody>\n    <tr>\n      <th>0</th>\n      <td>UTA</td>\n      <td>50-18</td>\n      <td>9.0</td>\n      <td>117.1</td>\n      <td>108.0</td>\n      <td>-0.1</td>\n      <td>-0.0</td>\n      <td>-0.0</td>\n      <td>99.1</td>\n      <td>14.8</td>\n      <td>14.3</td>\n      <td>2021-05-08</td>\n    </tr>\n    <tr>\n      <th>1</th>\n      <td>LAC</td>\n      <td>45-22</td>\n      <td>6.2</td>\n      <td>117.3</td>\n      <td>111.0</td>\n      <td>-0.1</td>\n      <td>-0.1</td>\n      <td>-0.0</td>\n      <td>97.4</td>\n      <td>15.0</td>\n      <td>14.5</td>\n      <td>2021-05-08</td>\n    </tr>\n    <tr>\n      <th>2</th>\n      <td>PHI</td>\n      <td>47-21</td>\n      <td>5.6</td>\n      <td>113.1</td>\n      <td>107.5</td>\n      <td>-0.0</td>\n      <td>-0.0</td>\n      <td>-0.0</td>\n      <td>99.8</td>\n      <td>14.7</td>\n      <td>14.1</td>\n      <td>2021-05-08</td>\n    </tr>\n    <tr>\n      <th>3</th>\n      <td>MIL</td>\n      <td>43-24</td>\n      <td>5.5</td>\n      <td>116.7</td>\n      <td>111.2</td>\n      <td>-0.3</td>\n      <td>-0.0</td>\n      <td>-0.3</td>\n      <td>102.3</td>\n      <td>13.6</td>\n      <td>14.6</td>\n      <td>2021-05-08</td>\n    </tr>\n    <tr>\n      <th>4</th>\n      <td>DEN</td>\n      <td>44-24</td>\n      <td>5.0</td>\n      <td>117.1</td>\n      <td>112.1</td>\n      <td>-0.0</td>\n      <td>0.2</td>\n      <td>-0.2</td>\n      <td>97.3</td>\n      <td>15.1</td>\n      <td>14.5</td>\n      <td>2021-05-08</td>\n    </tr>\n  </tbody>\n</table>\n</div>"
     },
     "metadata": {},
     "execution_count": 92
    }
   ],
   "source": [
    "current_curated_df.head()"
   ]
  },
  {
   "cell_type": "code",
   "execution_count": 97,
   "metadata": {},
   "outputs": [
    {
     "output_type": "execute_result",
     "data": {
      "text/plain": [
       "  team     wl  anet    aortg    adrtg     sos    osos    dsos    pace     opl  \\\n",
       "0  UTA  50-18  9.01   117.15   108.03  -0.113  -0.122  -0.014  99.115  14.818   \n",
       "1  LAC  45-23  6.12   117.14   111.09  -0.114  -0.020  -0.017  97.427  15.026   \n",
       "2  PHI  47-21  5.63  113.113   107.52  -0.012  -0.019  -0.016  99.812  14.716   \n",
       "3  PHX  48-20  5.64   116.57   111.08  -0.122    0.18  -0.227  97.426  14.822   \n",
       "4  MIL  43-24  5.55   116.76  111.210  -0.330  -0.123  -0.328  102.33   13.62   \n",
       "\n",
       "      dpl        date  \n",
       "0   14.37  2021-05-09  \n",
       "1  14.618  2021-05-09  \n",
       "2   14.11  2021-05-09  \n",
       "3  14.727  2021-05-09  \n",
       "4  14.619  2021-05-09  "
      ],
      "text/html": "<div>\n<style scoped>\n    .dataframe tbody tr th:only-of-type {\n        vertical-align: middle;\n    }\n\n    .dataframe tbody tr th {\n        vertical-align: top;\n    }\n\n    .dataframe thead th {\n        text-align: right;\n    }\n</style>\n<table border=\"1\" class=\"dataframe\">\n  <thead>\n    <tr style=\"text-align: right;\">\n      <th></th>\n      <th>team</th>\n      <th>wl</th>\n      <th>anet</th>\n      <th>aortg</th>\n      <th>adrtg</th>\n      <th>sos</th>\n      <th>osos</th>\n      <th>dsos</th>\n      <th>pace</th>\n      <th>opl</th>\n      <th>dpl</th>\n      <th>date</th>\n    </tr>\n  </thead>\n  <tbody>\n    <tr>\n      <th>0</th>\n      <td>UTA</td>\n      <td>50-18</td>\n      <td>9.01</td>\n      <td>117.15</td>\n      <td>108.03</td>\n      <td>-0.113</td>\n      <td>-0.122</td>\n      <td>-0.014</td>\n      <td>99.115</td>\n      <td>14.818</td>\n      <td>14.37</td>\n      <td>2021-05-09</td>\n    </tr>\n    <tr>\n      <th>1</th>\n      <td>LAC</td>\n      <td>45-23</td>\n      <td>6.12</td>\n      <td>117.14</td>\n      <td>111.09</td>\n      <td>-0.114</td>\n      <td>-0.020</td>\n      <td>-0.017</td>\n      <td>97.427</td>\n      <td>15.026</td>\n      <td>14.618</td>\n      <td>2021-05-09</td>\n    </tr>\n    <tr>\n      <th>2</th>\n      <td>PHI</td>\n      <td>47-21</td>\n      <td>5.63</td>\n      <td>113.113</td>\n      <td>107.52</td>\n      <td>-0.012</td>\n      <td>-0.019</td>\n      <td>-0.016</td>\n      <td>99.812</td>\n      <td>14.716</td>\n      <td>14.11</td>\n      <td>2021-05-09</td>\n    </tr>\n    <tr>\n      <th>3</th>\n      <td>PHX</td>\n      <td>48-20</td>\n      <td>5.64</td>\n      <td>116.57</td>\n      <td>111.08</td>\n      <td>-0.122</td>\n      <td>0.18</td>\n      <td>-0.227</td>\n      <td>97.426</td>\n      <td>14.822</td>\n      <td>14.727</td>\n      <td>2021-05-09</td>\n    </tr>\n    <tr>\n      <th>4</th>\n      <td>MIL</td>\n      <td>43-24</td>\n      <td>5.55</td>\n      <td>116.76</td>\n      <td>111.210</td>\n      <td>-0.330</td>\n      <td>-0.123</td>\n      <td>-0.328</td>\n      <td>102.33</td>\n      <td>13.62</td>\n      <td>14.619</td>\n      <td>2021-05-09</td>\n    </tr>\n  </tbody>\n</table>\n</div>"
     },
     "metadata": {},
     "execution_count": 97
    }
   ],
   "source": [
    "incr_df.head()"
   ]
  },
  {
   "cell_type": "code",
   "execution_count": null,
   "metadata": {},
   "outputs": [],
   "source": []
  },
  {
   "cell_type": "code",
   "execution_count": 100,
   "metadata": {},
   "outputs": [],
   "source": [
    "revised_df = pd.concat([current_curated_df, incr_df]).sort_values('date', ascending=False)"
   ]
  },
  {
   "cell_type": "code",
   "execution_count": 102,
   "metadata": {},
   "outputs": [],
   "source": [
    "revised_df.to_csv('/Users/johnschroeder/Documents/gambling_stuff/data/02_curated/nba_team_ratings/dunksandthrees.csv', index=False)"
   ]
  },
  {
   "cell_type": "code",
   "execution_count": null,
   "metadata": {},
   "outputs": [],
   "source": []
  },
  {
   "cell_type": "code",
   "execution_count": null,
   "metadata": {},
   "outputs": [],
   "source": []
  },
  {
   "cell_type": "code",
   "execution_count": null,
   "metadata": {},
   "outputs": [],
   "source": []
  }
 ]
}