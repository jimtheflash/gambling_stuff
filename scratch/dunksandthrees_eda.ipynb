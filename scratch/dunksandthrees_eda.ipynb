{
 "metadata": {
  "language_info": {
   "codemirror_mode": {
    "name": "ipython",
    "version": 3
   },
   "file_extension": ".py",
   "mimetype": "text/x-python",
   "name": "python",
   "nbconvert_exporter": "python",
   "pygments_lexer": "ipython3",
   "version": "3.8.8"
  },
  "orig_nbformat": 2,
  "kernelspec": {
   "name": "pythonjvsc74a57bd0660ec2fa4e3eeab39d0c54848b187086312f48f4fa251ac92b8223030e6dcbc4",
   "display_name": "Python 3.8.8  ('.venv': pipenv)"
  },
  "metadata": {
   "interpreter": {
    "hash": "660ec2fa4e3eeab39d0c54848b187086312f48f4fa251ac92b8223030e6dcbc4"
   }
  }
 },
 "nbformat": 4,
 "nbformat_minor": 2,
 "cells": [
  {
   "cell_type": "code",
   "execution_count": 1,
   "metadata": {},
   "outputs": [],
   "source": [
    "from selenium.webdriver import Chrome, ChromeOptions\n",
    "from bs4 import BeautifulSoup\n",
    "import gzip\n",
    "from pathlib import Path\n",
    "from datetime import datetime\n",
    "import re\n",
    "from glob import glob\n",
    "import pandas as pd\n",
    "from time import sleep\n",
    "from random import uniform"
   ]
  },
  {
   "cell_type": "code",
   "execution_count": 2,
   "metadata": {},
   "outputs": [],
   "source": [
    "url = 'https://dunksandthrees.com/'\n",
    "chromedriver_path = Path().joinpath(\n",
    "    '/Users','johnschroeder','Documents','gambling_stuff','chromedriver')\n",
    "base_path = '/Users/johnschroeder/Documents/gambling_stuff/data/01_raw/nba_team_ratings/dunks_and_threes'"
   ]
  },
  {
   "cell_type": "code",
   "execution_count": 3,
   "metadata": {},
   "outputs": [],
   "source": [
    "chrome_options = ChromeOptions()\n",
    "# chrome_options.add_argument('--headless')"
   ]
  },
  {
   "cell_type": "code",
   "execution_count": 4,
   "metadata": {},
   "outputs": [],
   "source": [
    "driver = Chrome(executable_path=chromedriver_path, options=chrome_options)"
   ]
  },
  {
   "cell_type": "code",
   "execution_count": 5,
   "metadata": {},
   "outputs": [],
   "source": [
    "response = driver.get(url)"
   ]
  },
  {
   "cell_type": "code",
   "execution_count": 14,
   "metadata": {},
   "outputs": [
    {
     "output_type": "stream",
     "name": "stdout",
     "text": [
      "June  1, 2021\n"
     ]
    }
   ],
   "source": [
    "soup = BeautifulSoup(driver.page_source)\n",
    "raw_page_date = soup.find('span', {'class': 'page-date'}).text\n",
    "print(raw_page_date)\n",
    "ymd = str(datetime.strptime(raw_page_date, '%B %d, %Y').date()).split('-')\n",
    "raw_file = Path(base_path).joinpath(*ymd, 'dunksandthrees.html')\n",
    "team_stats = soup.find('div', {'id': 'team-stats'})\n",
    "Path(raw_file).parent.mkdir(parents=True, exist_ok=True)\n",
    "with open(raw_file, 'w') as fp:\n",
    "    fp.write(str(team_stats.prettify()))"
   ]
  },
  {
   "cell_type": "code",
   "execution_count": 19,
   "metadata": {},
   "outputs": [
    {
     "output_type": "stream",
     "name": "stdout",
     "text": [
      "May 12, 2021\n",
      "May 11, 2021\n",
      "May 10, 2021\n",
      "May  9, 2021\n",
      "May  8, 2021\n"
     ]
    }
   ],
   "source": [
    "# iterate through multiple clicks to pull multiple raw files\n",
    "nbr_clicks = 5\n",
    "\n",
    "for click in range(nbr_clicks):\n",
    "    soup = BeautifulSoup(driver.page_source)\n",
    "    raw_page_date = soup.find('span', {'class': 'page-date'}).text\n",
    "    print(raw_page_date)\n",
    "    ymd = str(datetime.strptime(raw_page_date, '%B %d, %Y').date()).split('-')\n",
    "    raw_file = Path(base_path).joinpath(*ymd).with_suffix('.html')\n",
    "    team_stats = soup.find('div', {'id': 'team-stats'})\n",
    "    Path(raw_file).parent.mkdir(parents=True, exist_ok=True)\n",
    "    with open(raw_file, 'w') as fp:\n",
    "        fp.write(str(team_stats.prettify()))\n",
    "    driver.find_element_by_class_name('date-button').click()\n",
    "    sleep(uniform(1.5, 2.5))"
   ]
  },
  {
   "cell_type": "code",
   "execution_count": 115,
   "metadata": {},
   "outputs": [],
   "source": [
    "# collect all raw files and combine to a single dataframe"
   ]
  },
  {
   "cell_type": "code",
   "execution_count": 20,
   "metadata": {},
   "outputs": [],
   "source": [
    "curated_file = '/Users/johnschroeder/Documents/gambling_stuff/data/02_curated/nba_team_ratings/dunksandthrees.csv'"
   ]
  },
  {
   "cell_type": "code",
   "execution_count": 21,
   "metadata": {},
   "outputs": [],
   "source": [
    "stats_headers = team_stats.find('tr', {'class': 'main-header-tr'})"
   ]
  },
  {
   "cell_type": "code",
   "execution_count": 22,
   "metadata": {},
   "outputs": [],
   "source": [
    "df_headers = [re.sub('\\W+', '', _.text).lower() for _ in stats_headers.find_all('th')]"
   ]
  },
  {
   "cell_type": "code",
   "execution_count": 23,
   "metadata": {},
   "outputs": [
    {
     "output_type": "execute_result",
     "data": {
      "text/plain": [
       "['team',\n",
       " 'wl',\n",
       " 'anet',\n",
       " 'aortg',\n",
       " 'adrtg',\n",
       " 'sos',\n",
       " 'osos',\n",
       " 'dsos',\n",
       " 'pace',\n",
       " 'opl',\n",
       " 'dpl']"
      ]
     },
     "metadata": {},
     "execution_count": 23
    }
   ],
   "source": [
    "df_headers"
   ]
  },
  {
   "cell_type": "code",
   "execution_count": 24,
   "metadata": {},
   "outputs": [],
   "source": [
    "df_headers1 = ['team',\n",
    " 'wl',\n",
    " 'anet',\n",
    " 'aortg',\n",
    " 'adrtg',\n",
    " 'sos',\n",
    " 'osos',\n",
    " 'dsos',\n",
    " 'pace',\n",
    " 'opl',\n",
    " 'dpl',\n",
    " 'date']"
   ]
  },
  {
   "cell_type": "code",
   "execution_count": 25,
   "metadata": {},
   "outputs": [],
   "source": [
    "raw_files = glob('/Users/johnschroeder/Documents/gambling_stuff/data/01_raw/nba_team_ratings/dunks_and_threes/*/*/*.html')\n",
    "df_data = []\n",
    "for raw_file in raw_files:\n",
    "    with open(raw_file, 'r') as fp:\n",
    "        raw_html = fp.read()\n",
    "    team_stats = BeautifulSoup(raw_html)\n",
    "    team_rows = team_stats.find_all('tr', {'class': 'stat-row'})\n",
    "    replaces = re.compile(r'(\\+)|(\\s+)')\n",
    "    file_date = '-'.join(Path(raw_file).with_suffix('').parts[-3:])\n",
    "    for team_row in team_rows:\n",
    "        row_data = [re.sub(replaces, '', _.text).strip() for _ in team_row.find_all('td')]\n",
    "        row_data.append(file_date)\n",
    "        df_data.append(row_data)"
   ]
  },
  {
   "cell_type": "code",
   "execution_count": 26,
   "metadata": {},
   "outputs": [],
   "source": [
    "incr_df = pd.DataFrame(df_data, columns=df_headers1)"
   ]
  },
  {
   "cell_type": "code",
   "execution_count": 27,
   "metadata": {},
   "outputs": [
    {
     "output_type": "execute_result",
     "data": {
      "text/plain": [
       "array(['1HOU', '2GSW', '4OKC', '2BOS', '1TOR', '3POR', '8WAS', '11NYK',\n",
       "       '5IND', '9DET', '7SAS', '5UTA', '9DEN', '3PHI', '14ORL', '8MIN',\n",
       "       '10CHA', '6NOP', '10LAC', '4CLE', '14MEM', '11LAL', '7MIL',\n",
       "       '12BKN', '6MIA', '15ATL', '13DAL', '15PHX', '13CHI', '12SAC',\n",
       "       '1MIL', '1GSW', '2DEN', '2TOR', '4BOS', '6OKC', '4HOU', '8LAC',\n",
       "       '13NOP', '8DET', '10MIA', '11MIN', '9SAC', '7ORL', '6BKN', '14DAL',\n",
       "       '9CHA', '10LAL', '12MEM', '11WAS', '12ATL', '15NYK', '14CLE',\n",
       "       '1UTA', '3MIL', '2PHX', '3LAC', '4DEN', '1PHI', '7LAL', '2BKN',\n",
       "       '5ATL', '5DAL', '9MEM', '7BOS', '11NOP', '4NYK', '10IND', '10SAS',\n",
       "       '12TOR', '8GSW', '11CHI', '6POR', '8CHA', '15DET', '9WAS', '13OKC',\n",
       "       '15HOU', '14MIN', '13ORL', '2PHI', '1BKN', '5LAL', '6DAL', '6BOS',\n",
       "       '8MEM', '7POR', '10GSW', '9IND', '7MIA', '9SAS', '10WAS', '13CLE',\n",
       "       '2UTA', '1PHX', '4LAC', '3DEN', '11TOR', '9GSW', '12CHI', '13MIN',\n",
       "       '14OKC', '1LAL', '2LAC', '3BOS', '7DAL', '6UTA', '5OKC', '5MIA',\n",
       "       '6PHI', '4IND', '10PHX', '8POR', '11SAS', '8ORL', '7BKN', '13DET',\n",
       "       '12NYK', '14ATL', '15CLE', '15GSW'], dtype=object)"
      ]
     },
     "metadata": {},
     "execution_count": 27
    }
   ],
   "source": [
    "incr_df['team'].unique()"
   ]
  },
  {
   "cell_type": "code",
   "execution_count": 28,
   "metadata": {},
   "outputs": [],
   "source": [
    "incr_df['team'] = incr_df['team'].replace(regex='\\d+', value='')"
   ]
  },
  {
   "cell_type": "code",
   "execution_count": 124,
   "metadata": {},
   "outputs": [],
   "source": [
    "incr_df = pd.DataFrame(df_data, columns=df_headers)\n",
    "incr_df['date'] = str(datetime.strptime(raw_page_date, '%B %d, %Y').date())"
   ]
  },
  {
   "cell_type": "code",
   "execution_count": 29,
   "metadata": {},
   "outputs": [
    {
     "output_type": "execute_result",
     "data": {
      "text/plain": [
       "  team    wl   anet    aortg    adrtg     sos    osos    dsos    pace     opl  \\\n",
       "0  HOU  14-4  10.21   114.51   104.39    0.38    0.16    0.29   99.08   14.18   \n",
       "1  GSW  13-5   9.52   113.82   104.38    0.44    0.23    0.28  102.64   13.72   \n",
       "2  OKC   8-9   5.73  106.715   101.03   0.111  -0.222    0.37  96.920  14.310   \n",
       "3  BOS  16-3   5.64  105.618   100.01  -1.829  -0.120  -1.730  96.524  15.021   \n",
       "4  TOR  11-6   5.55   111.54  106.013  -0.526  -0.227  -0.324  98.215  14.716   \n",
       "\n",
       "      dpl        date  \n",
       "0  15.027  2017-11-23  \n",
       "1   14.48  2017-11-23  \n",
       "2  15.430  2017-11-23  \n",
       "3  14.822  2017-11-23  \n",
       "4  14.718  2017-11-23  "
      ],
      "text/html": "<div>\n<style scoped>\n    .dataframe tbody tr th:only-of-type {\n        vertical-align: middle;\n    }\n\n    .dataframe tbody tr th {\n        vertical-align: top;\n    }\n\n    .dataframe thead th {\n        text-align: right;\n    }\n</style>\n<table border=\"1\" class=\"dataframe\">\n  <thead>\n    <tr style=\"text-align: right;\">\n      <th></th>\n      <th>team</th>\n      <th>wl</th>\n      <th>anet</th>\n      <th>aortg</th>\n      <th>adrtg</th>\n      <th>sos</th>\n      <th>osos</th>\n      <th>dsos</th>\n      <th>pace</th>\n      <th>opl</th>\n      <th>dpl</th>\n      <th>date</th>\n    </tr>\n  </thead>\n  <tbody>\n    <tr>\n      <th>0</th>\n      <td>HOU</td>\n      <td>14-4</td>\n      <td>10.21</td>\n      <td>114.51</td>\n      <td>104.39</td>\n      <td>0.38</td>\n      <td>0.16</td>\n      <td>0.29</td>\n      <td>99.08</td>\n      <td>14.18</td>\n      <td>15.027</td>\n      <td>2017-11-23</td>\n    </tr>\n    <tr>\n      <th>1</th>\n      <td>GSW</td>\n      <td>13-5</td>\n      <td>9.52</td>\n      <td>113.82</td>\n      <td>104.38</td>\n      <td>0.44</td>\n      <td>0.23</td>\n      <td>0.28</td>\n      <td>102.64</td>\n      <td>13.72</td>\n      <td>14.48</td>\n      <td>2017-11-23</td>\n    </tr>\n    <tr>\n      <th>2</th>\n      <td>OKC</td>\n      <td>8-9</td>\n      <td>5.73</td>\n      <td>106.715</td>\n      <td>101.03</td>\n      <td>0.111</td>\n      <td>-0.222</td>\n      <td>0.37</td>\n      <td>96.920</td>\n      <td>14.310</td>\n      <td>15.430</td>\n      <td>2017-11-23</td>\n    </tr>\n    <tr>\n      <th>3</th>\n      <td>BOS</td>\n      <td>16-3</td>\n      <td>5.64</td>\n      <td>105.618</td>\n      <td>100.01</td>\n      <td>-1.829</td>\n      <td>-0.120</td>\n      <td>-1.730</td>\n      <td>96.524</td>\n      <td>15.021</td>\n      <td>14.822</td>\n      <td>2017-11-23</td>\n    </tr>\n    <tr>\n      <th>4</th>\n      <td>TOR</td>\n      <td>11-6</td>\n      <td>5.55</td>\n      <td>111.54</td>\n      <td>106.013</td>\n      <td>-0.526</td>\n      <td>-0.227</td>\n      <td>-0.324</td>\n      <td>98.215</td>\n      <td>14.716</td>\n      <td>14.718</td>\n      <td>2017-11-23</td>\n    </tr>\n  </tbody>\n</table>\n</div>"
     },
     "metadata": {},
     "execution_count": 29
    }
   ],
   "source": [
    "incr_df.head()"
   ]
  },
  {
   "cell_type": "code",
   "execution_count": 125,
   "metadata": {},
   "outputs": [],
   "source": [
    "current_curated_df = pd.read_csv('/Users/johnschroeder/Documents/gambling_stuff/data/02_curated/nba_team_ratings/dunksandthrees.csv')"
   ]
  },
  {
   "cell_type": "code",
   "execution_count": 126,
   "metadata": {},
   "outputs": [
    {
     "output_type": "execute_result",
     "data": {
      "text/plain": [
       "  team     wl    anet    aortg    adrtg    sos   osos   dsos     pace     opl  \\\n",
       "0  OKC  21-48 -10.330  103.230  113.522  0.510  0.111  0.410  101.370  14.312   \n",
       "1  GSW  35-33   0.515  110.223  109.750 -0.116 -0.125  0.080  102.520  13.630   \n",
       "2  LAC  45-23   6.120  117.140  111.090 -0.114 -0.020 -0.017   97.427  15.026   \n",
       "3  PHI  47-21   5.630  113.113  107.520 -0.012 -0.019 -0.016   99.812  14.716   \n",
       "4  PHX  48-20   5.640  116.570  111.080 -0.122  0.180 -0.227   97.426  14.822   \n",
       "\n",
       "      dpl        date  \n",
       "0  14.120  2021-05-09  \n",
       "1  14.517  2021-05-09  \n",
       "2  14.618  2021-05-09  \n",
       "3  14.110  2021-05-09  \n",
       "4  14.727  2021-05-09  "
      ],
      "text/html": "<div>\n<style scoped>\n    .dataframe tbody tr th:only-of-type {\n        vertical-align: middle;\n    }\n\n    .dataframe tbody tr th {\n        vertical-align: top;\n    }\n\n    .dataframe thead th {\n        text-align: right;\n    }\n</style>\n<table border=\"1\" class=\"dataframe\">\n  <thead>\n    <tr style=\"text-align: right;\">\n      <th></th>\n      <th>team</th>\n      <th>wl</th>\n      <th>anet</th>\n      <th>aortg</th>\n      <th>adrtg</th>\n      <th>sos</th>\n      <th>osos</th>\n      <th>dsos</th>\n      <th>pace</th>\n      <th>opl</th>\n      <th>dpl</th>\n      <th>date</th>\n    </tr>\n  </thead>\n  <tbody>\n    <tr>\n      <th>0</th>\n      <td>OKC</td>\n      <td>21-48</td>\n      <td>-10.330</td>\n      <td>103.230</td>\n      <td>113.522</td>\n      <td>0.510</td>\n      <td>0.111</td>\n      <td>0.410</td>\n      <td>101.370</td>\n      <td>14.312</td>\n      <td>14.120</td>\n      <td>2021-05-09</td>\n    </tr>\n    <tr>\n      <th>1</th>\n      <td>GSW</td>\n      <td>35-33</td>\n      <td>0.515</td>\n      <td>110.223</td>\n      <td>109.750</td>\n      <td>-0.116</td>\n      <td>-0.125</td>\n      <td>0.080</td>\n      <td>102.520</td>\n      <td>13.630</td>\n      <td>14.517</td>\n      <td>2021-05-09</td>\n    </tr>\n    <tr>\n      <th>2</th>\n      <td>LAC</td>\n      <td>45-23</td>\n      <td>6.120</td>\n      <td>117.140</td>\n      <td>111.090</td>\n      <td>-0.114</td>\n      <td>-0.020</td>\n      <td>-0.017</td>\n      <td>97.427</td>\n      <td>15.026</td>\n      <td>14.618</td>\n      <td>2021-05-09</td>\n    </tr>\n    <tr>\n      <th>3</th>\n      <td>PHI</td>\n      <td>47-21</td>\n      <td>5.630</td>\n      <td>113.113</td>\n      <td>107.520</td>\n      <td>-0.012</td>\n      <td>-0.019</td>\n      <td>-0.016</td>\n      <td>99.812</td>\n      <td>14.716</td>\n      <td>14.110</td>\n      <td>2021-05-09</td>\n    </tr>\n    <tr>\n      <th>4</th>\n      <td>PHX</td>\n      <td>48-20</td>\n      <td>5.640</td>\n      <td>116.570</td>\n      <td>111.080</td>\n      <td>-0.122</td>\n      <td>0.180</td>\n      <td>-0.227</td>\n      <td>97.426</td>\n      <td>14.822</td>\n      <td>14.727</td>\n      <td>2021-05-09</td>\n    </tr>\n  </tbody>\n</table>\n</div>"
     },
     "metadata": {},
     "execution_count": 126
    }
   ],
   "source": [
    "current_curated_df.head()"
   ]
  },
  {
   "cell_type": "code",
   "execution_count": 127,
   "metadata": {},
   "outputs": [
    {
     "output_type": "execute_result",
     "data": {
      "text/plain": [
       "  team     wl  anet    aortg    adrtg     sos    osos    dsos    pace     opl  \\\n",
       "0  UTA  50-19  8.91   117.15   108.23  -0.013  -0.018  -0.014  99.115  14.719   \n",
       "1  LAC  45-23  6.12   117.14   111.09  -0.115  -0.021  -0.016  97.427  15.026   \n",
       "2  PHI  47-21  5.63  113.113   107.52  -0.014  -0.020  -0.015  99.812  14.716   \n",
       "3  PHX  48-20  5.64   116.67   111.08  -0.122    0.18  -0.327  97.426  14.822   \n",
       "4  MIL  43-25  5.15   116.86  111.710  -0.329  -0.022  -0.328  102.33   13.62   \n",
       "\n",
       "      dpl        date  \n",
       "0   14.37  2021-05-10  \n",
       "1  14.618  2021-05-10  \n",
       "2   14.11  2021-05-10  \n",
       "3  14.727  2021-05-10  \n",
       "4  14.619  2021-05-10  "
      ],
      "text/html": "<div>\n<style scoped>\n    .dataframe tbody tr th:only-of-type {\n        vertical-align: middle;\n    }\n\n    .dataframe tbody tr th {\n        vertical-align: top;\n    }\n\n    .dataframe thead th {\n        text-align: right;\n    }\n</style>\n<table border=\"1\" class=\"dataframe\">\n  <thead>\n    <tr style=\"text-align: right;\">\n      <th></th>\n      <th>team</th>\n      <th>wl</th>\n      <th>anet</th>\n      <th>aortg</th>\n      <th>adrtg</th>\n      <th>sos</th>\n      <th>osos</th>\n      <th>dsos</th>\n      <th>pace</th>\n      <th>opl</th>\n      <th>dpl</th>\n      <th>date</th>\n    </tr>\n  </thead>\n  <tbody>\n    <tr>\n      <th>0</th>\n      <td>UTA</td>\n      <td>50-19</td>\n      <td>8.91</td>\n      <td>117.15</td>\n      <td>108.23</td>\n      <td>-0.013</td>\n      <td>-0.018</td>\n      <td>-0.014</td>\n      <td>99.115</td>\n      <td>14.719</td>\n      <td>14.37</td>\n      <td>2021-05-10</td>\n    </tr>\n    <tr>\n      <th>1</th>\n      <td>LAC</td>\n      <td>45-23</td>\n      <td>6.12</td>\n      <td>117.14</td>\n      <td>111.09</td>\n      <td>-0.115</td>\n      <td>-0.021</td>\n      <td>-0.016</td>\n      <td>97.427</td>\n      <td>15.026</td>\n      <td>14.618</td>\n      <td>2021-05-10</td>\n    </tr>\n    <tr>\n      <th>2</th>\n      <td>PHI</td>\n      <td>47-21</td>\n      <td>5.63</td>\n      <td>113.113</td>\n      <td>107.52</td>\n      <td>-0.014</td>\n      <td>-0.020</td>\n      <td>-0.015</td>\n      <td>99.812</td>\n      <td>14.716</td>\n      <td>14.11</td>\n      <td>2021-05-10</td>\n    </tr>\n    <tr>\n      <th>3</th>\n      <td>PHX</td>\n      <td>48-20</td>\n      <td>5.64</td>\n      <td>116.67</td>\n      <td>111.08</td>\n      <td>-0.122</td>\n      <td>0.18</td>\n      <td>-0.327</td>\n      <td>97.426</td>\n      <td>14.822</td>\n      <td>14.727</td>\n      <td>2021-05-10</td>\n    </tr>\n    <tr>\n      <th>4</th>\n      <td>MIL</td>\n      <td>43-25</td>\n      <td>5.15</td>\n      <td>116.86</td>\n      <td>111.710</td>\n      <td>-0.329</td>\n      <td>-0.022</td>\n      <td>-0.328</td>\n      <td>102.33</td>\n      <td>13.62</td>\n      <td>14.619</td>\n      <td>2021-05-10</td>\n    </tr>\n  </tbody>\n</table>\n</div>"
     },
     "metadata": {},
     "execution_count": 127
    }
   ],
   "source": [
    "incr_df.head()"
   ]
  },
  {
   "cell_type": "code",
   "execution_count": 128,
   "metadata": {},
   "outputs": [],
   "source": [
    "revised_df = pd.concat([current_curated_df, incr_df]).sort_values('date', ascending=False)"
   ]
  },
  {
   "cell_type": "code",
   "execution_count": 30,
   "metadata": {},
   "outputs": [],
   "source": [
    "incr_df.sort_values('date', ascending=False).to_csv('/Users/johnschroeder/Documents/gambling_stuff/data/02_curated/nba_team_ratings/dunksandthrees.csv', index=False)"
   ]
  },
  {
   "cell_type": "code",
   "execution_count": 129,
   "metadata": {},
   "outputs": [],
   "source": [
    "revised_df.to_csv('/Users/johnschroeder/Documents/gambling_stuff/data/02_curated/nba_team_ratings/dunksandthrees.csv', index=False)"
   ]
  }
 ]
}