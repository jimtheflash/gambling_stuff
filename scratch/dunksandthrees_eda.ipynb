{
 "metadata": {
  "language_info": {
   "codemirror_mode": {
    "name": "ipython",
    "version": 3
   },
   "file_extension": ".py",
   "mimetype": "text/x-python",
   "name": "python",
   "nbconvert_exporter": "python",
   "pygments_lexer": "ipython3",
   "version": "3.8.8"
  },
  "orig_nbformat": 2,
  "kernelspec": {
   "name": "pythonjvsc74a57bd0660ec2fa4e3eeab39d0c54848b187086312f48f4fa251ac92b8223030e6dcbc4",
   "display_name": "Python 3.8.8  ('.venv': pipenv)"
  },
  "metadata": {
   "interpreter": {
    "hash": "660ec2fa4e3eeab39d0c54848b187086312f48f4fa251ac92b8223030e6dcbc4"
   }
  }
 },
 "nbformat": 4,
 "nbformat_minor": 2,
 "cells": [
  {
   "cell_type": "code",
   "execution_count": 142,
   "metadata": {},
   "outputs": [],
   "source": [
    "from selenium.webdriver import Chrome, ChromeOptions\n",
    "from bs4 import BeautifulSoup\n",
    "import gzip\n",
    "from pathlib import Path\n",
    "from datetime import datetime\n",
    "import re\n",
    "from glob import glob\n",
    "import pandas as pd\n",
    "from time import sleep\n",
    "from random import uniform"
   ]
  },
  {
   "cell_type": "code",
   "execution_count": 188,
   "metadata": {},
   "outputs": [],
   "source": [
    "url = 'https://dunksandthrees.com/'\n",
    "chromedriver_path = Path().joinpath(\n",
    "    '/Users','johnschroeder','Documents','gambling_stuff','chromedriver')\n",
    "base_path = '/Users/johnschroeder/Documents/gambling_stuff/data/01_raw/nba_team_ratings/dunks_and_threes'"
   ]
  },
  {
   "cell_type": "code",
   "execution_count": 106,
   "metadata": {},
   "outputs": [],
   "source": [
    "chrome_options = ChromeOptions()\n",
    "# chrome_options.add_argument('--headless')"
   ]
  },
  {
   "cell_type": "code",
   "execution_count": 107,
   "metadata": {},
   "outputs": [],
   "source": [
    "driver = Chrome(executable_path=chromedriver_path, options=chrome_options)"
   ]
  },
  {
   "cell_type": "code",
   "execution_count": 130,
   "metadata": {},
   "outputs": [],
   "source": [
    "response = driver.get(url)"
   ]
  },
  {
   "cell_type": "code",
   "execution_count": 148,
   "metadata": {},
   "outputs": [],
   "source": [
    "soup = BeautifulSoup(driver.page_source)"
   ]
  },
  {
   "cell_type": "code",
   "execution_count": 149,
   "metadata": {},
   "outputs": [],
   "source": [
    "raw_page_date = soup.find('span', {'class': 'page-date'}).text"
   ]
  },
  {
   "cell_type": "code",
   "execution_count": 137,
   "metadata": {},
   "outputs": [],
   "source": [
    "ymd = str(datetime.strptime(raw_page_date, '%B %d, %Y').date()).split('-')"
   ]
  },
  {
   "cell_type": "code",
   "execution_count": 154,
   "metadata": {},
   "outputs": [],
   "source": [
    "raw_file = Path(base_path).joinpath(*ymd).with_suffix('.html')"
   ]
  },
  {
   "cell_type": "code",
   "execution_count": 114,
   "metadata": {},
   "outputs": [],
   "source": [
    "Path(raw_file).parent.mkdir(parents=True, exist_ok=True)\n",
    "with open(raw_file, 'w') as fp:\n",
    "    fp.write(str(team_stats.prettify()))"
   ]
  },
  {
   "cell_type": "code",
   "execution_count": 113,
   "metadata": {},
   "outputs": [],
   "source": [
    "team_stats = soup.find('div', {'id': 'team-stats'})"
   ]
  },
  {
   "cell_type": "code",
   "execution_count": 147,
   "metadata": {},
   "outputs": [
    {
     "output_type": "stream",
     "name": "stdout",
     "text": [
      "July 30, 2020\n"
     ]
    }
   ],
   "source": [
    "soup = BeautifulSoup(driver.page_source)\n",
    "raw_page_date = soup.find('span', {'class': 'page-date'}).text\n",
    "print(raw_page_date)\n",
    "ymd = str(datetime.strptime(raw_page_date, '%B %d, %Y').date()).split('-')\n",
    "raw_file = Path(base_path).joinpath(*ymd, 'dunksandthrees.html')\n",
    "team_stats = soup.find('div', {'id': 'team-stats'})\n",
    "Path(raw_file).parent.mkdir(parents=True, exist_ok=True)\n",
    "with open(raw_file, 'w') as fp:\n",
    "    fp.write(str(team_stats.prettify()))"
   ]
  },
  {
   "cell_type": "code",
   "execution_count": 198,
   "metadata": {},
   "outputs": [
    {
     "output_type": "stream",
     "name": "stdout",
     "text": [
      "October 21, 2017\n",
      "October 20, 2017\n",
      "October 19, 2017\n",
      "October 18, 2017\n",
      "October 17, 2017\n"
     ]
    }
   ],
   "source": [
    "# iterate through multiple clicks to pull multiple raw files\n",
    "nbr_clicks = 5\n",
    "\n",
    "for click in range(nbr_clicks):\n",
    "    soup = BeautifulSoup(driver.page_source)\n",
    "    raw_page_date = soup.find('span', {'class': 'page-date'}).text\n",
    "    print(raw_page_date)\n",
    "    ymd = str(datetime.strptime(raw_page_date, '%B %d, %Y').date()).split('-')\n",
    "    raw_file = Path(base_path).joinpath(*ymd).with_suffix('.html')\n",
    "    team_stats = soup.find('div', {'id': 'team-stats'})\n",
    "    Path(raw_file).parent.mkdir(parents=True, exist_ok=True)\n",
    "    with open(raw_file, 'w') as fp:\n",
    "        fp.write(str(team_stats.prettify()))\n",
    "    driver.find_element_by_class_name('date-button').click()\n",
    "    sleep(uniform(1.5, 2.5))"
   ]
  },
  {
   "cell_type": "code",
   "execution_count": 115,
   "metadata": {},
   "outputs": [],
   "source": [
    "# collect all raw files and combine to a single dataframe"
   ]
  },
  {
   "cell_type": "code",
   "execution_count": 116,
   "metadata": {},
   "outputs": [],
   "source": [
    "curated_file = '/Users/johnschroeder/Documents/gambling_stuff/data/02_curated/nba_team_ratings/dunksandthrees.csv'"
   ]
  },
  {
   "cell_type": "code",
   "execution_count": 117,
   "metadata": {},
   "outputs": [],
   "source": [
    "stats_headers = team_stats.find('tr', {'class': 'main-header-tr'})"
   ]
  },
  {
   "cell_type": "code",
   "execution_count": 118,
   "metadata": {},
   "outputs": [],
   "source": [
    "df_headers = [re.sub('\\W+', '', _.text).lower() for _ in stats_headers.find_all('th')]"
   ]
  },
  {
   "cell_type": "code",
   "execution_count": 119,
   "metadata": {},
   "outputs": [
    {
     "output_type": "execute_result",
     "data": {
      "text/plain": [
       "['team',\n",
       " 'wl',\n",
       " 'anet',\n",
       " 'aortg',\n",
       " 'adrtg',\n",
       " 'sos',\n",
       " 'osos',\n",
       " 'dsos',\n",
       " 'pace',\n",
       " 'opl',\n",
       " 'dpl']"
      ]
     },
     "metadata": {},
     "execution_count": 119
    }
   ],
   "source": [
    "df_headers"
   ]
  },
  {
   "cell_type": "code",
   "execution_count": 219,
   "metadata": {},
   "outputs": [],
   "source": [
    "df_headers1 = ['team',\n",
    " 'wl',\n",
    " 'anet',\n",
    " 'aortg',\n",
    " 'adrtg',\n",
    " 'sos',\n",
    " 'osos',\n",
    " 'dsos',\n",
    " 'pace',\n",
    " 'opl',\n",
    " 'dpl',\n",
    " 'date']"
   ]
  },
  {
   "cell_type": "code",
   "execution_count": 204,
   "metadata": {},
   "outputs": [
    {
     "output_type": "execute_result",
     "data": {
      "text/plain": [
       "'2021-05-10'"
      ]
     },
     "metadata": {},
     "execution_count": 204
    }
   ],
   "source": [
    "'-'.join(Path('/Users/johnschroeder/Documents/gambling_stuff/data/01_raw/nba_team_ratings/dunks_and_threes/2021/05/10.html').with_suffix('').parts[-3:])"
   ]
  },
  {
   "cell_type": "code",
   "execution_count": 217,
   "metadata": {},
   "outputs": [],
   "source": [
    "raw_files = glob('/Users/johnschroeder/Documents/gambling_stuff/data/01_raw/nba_team_ratings/dunks_and_threes/*/*/*.html')\n",
    "df_data = []\n",
    "for raw_file in raw_files:\n",
    "    with open(raw_file, 'r') as fp:\n",
    "        raw_html = fp.read()\n",
    "    team_stats = BeautifulSoup(raw_html)\n",
    "    team_rows = team_stats.find_all('tr', {'class': 'stat-row'})\n",
    "    replaces = re.compile(r'(\\+)|(\\s+)')\n",
    "    file_date = '-'.join(Path(raw_file).with_suffix('').parts[-3:])\n",
    "    for team_row in team_rows:\n",
    "        row_data = [re.sub(replaces, '', _.text).strip() for _ in team_row.find_all('td')]\n",
    "        row_data.append(file_date)\n",
    "        df_data.append(row_data)"
   ]
  },
  {
   "cell_type": "code",
   "execution_count": 121,
   "metadata": {},
   "outputs": [],
   "source": [
    "team_rows = team_stats.find_all('tr', {'class': 'stat-row'})"
   ]
  },
  {
   "cell_type": "code",
   "execution_count": 122,
   "metadata": {},
   "outputs": [
    {
     "output_type": "execute_result",
     "data": {
      "text/plain": [
       "<tr class=\"stat-row entered\" style=\"opacity: 1;\"><td class=\"team-td\" style=\"padding: 0px 0.2em;\"><span style=\"vertical-align: middle;\"><span class=\"small-span\">1</span> UTA </span><img alt=\"\" src=\"images/teams/UTA.png\" style=\"vertical-align: middle;\" width=\"20px\"/></td><td class=\"wl-td\">50-19</td><td class=\"stat-td adj_netrtg\"><span class=\"val-span\">+8.9</span><span class=\"rank-span\" style=\"background-color: rgb(28, 118, 60);\">1</span></td><td class=\"stat-td adj_ortg\"><span class=\"val-span\">117.1</span><span class=\"rank-span\" style=\"background-color: rgb(29, 87, 51);\">5</span></td><td class=\"stat-td adj_drtg right-border\"><span class=\"val-span\">108.2</span><span class=\"rank-span\" style=\"background-color: rgb(28, 107, 57);\">3</span></td><td class=\"stat-td sos\"><span class=\"val-span\">-0.0</span><span class=\"rank-span\" style=\"background-color: rgb(29, 30, 34);\">13</span></td><td class=\"stat-td sos_o\"><span class=\"val-span\">-0.0</span><span class=\"rank-span\" style=\"background-color: rgb(29, 32, 37);\">18</span></td><td class=\"stat-td sos_d right-border\"><span class=\"val-span\">-0.0</span><span class=\"rank-span\" style=\"background-color: rgb(29, 31, 34);\">14</span></td><td class=\"stat-td pace\"><span class=\"val-span\">99.1</span><span class=\"rank-span\" style=\"background-color: rgb(29, 30, 34);\">15</span></td><td class=\"stat-td off_poss_length\"><span class=\"val-span\">14.7</span><span class=\"rank-span\" style=\"background-color: rgb(29, 30, 34);\">19</span></td><td class=\"stat-td def_poss_length\"><span class=\"val-span\">14.3</span><span class=\"rank-span\" style=\"background-color: rgb(29, 30, 34);\">7</span></td></tr>"
      ]
     },
     "metadata": {},
     "execution_count": 122
    }
   ],
   "source": [
    "team_rows[0]"
   ]
  },
  {
   "cell_type": "code",
   "execution_count": 123,
   "metadata": {},
   "outputs": [],
   "source": [
    "replaces = re.compile(r'(\\+)|(\\d+\\s+)')\n",
    "df_data = []\n",
    "for team_row in team_rows:\n",
    "    row_data = [re.sub(replaces, '', _.text).strip() for _ in team_row.find_all('td')]\n",
    "    df_data.append(row_data)"
   ]
  },
  {
   "cell_type": "code",
   "execution_count": 220,
   "metadata": {},
   "outputs": [],
   "source": [
    "incr_df = pd.DataFrame(df_data, columns=df_headers1)"
   ]
  },
  {
   "cell_type": "code",
   "execution_count": 224,
   "metadata": {},
   "outputs": [
    {
     "output_type": "execute_result",
     "data": {
      "text/plain": [
       "array(['HOU', 'GSW', 'OKC', 'BOS', 'TOR', 'POR', 'WAS', 'NYK', 'IND',\n",
       "       'DET', 'SAS', 'UTA', 'DEN', 'PHI', 'ORL', 'MIN', 'CHA', 'NOP',\n",
       "       'LAC', 'CLE', 'MEM', 'LAL', 'MIL', 'BKN', 'MIA', 'ATL', 'DAL',\n",
       "       'PHX', 'CHI', 'SAC'], dtype=object)"
      ]
     },
     "metadata": {},
     "execution_count": 224
    }
   ],
   "source": [
    "incr_df['team'].unique()"
   ]
  },
  {
   "cell_type": "code",
   "execution_count": 222,
   "metadata": {},
   "outputs": [],
   "source": [
    "incr_df['team'] = incr_df['team'].replace(regex='\\d+', value='')"
   ]
  },
  {
   "cell_type": "code",
   "execution_count": 124,
   "metadata": {},
   "outputs": [],
   "source": [
    "incr_df = pd.DataFrame(df_data, columns=df_headers)\n",
    "incr_df['date'] = str(datetime.strptime(raw_page_date, '%B %d, %Y').date())"
   ]
  },
  {
   "cell_type": "code",
   "execution_count": 125,
   "metadata": {},
   "outputs": [],
   "source": [
    "current_curated_df = pd.read_csv('/Users/johnschroeder/Documents/gambling_stuff/data/02_curated/nba_team_ratings/dunksandthrees.csv')"
   ]
  },
  {
   "cell_type": "code",
   "execution_count": 126,
   "metadata": {},
   "outputs": [
    {
     "output_type": "execute_result",
     "data": {
      "text/plain": [
       "  team     wl    anet    aortg    adrtg    sos   osos   dsos     pace     opl  \\\n",
       "0  OKC  21-48 -10.330  103.230  113.522  0.510  0.111  0.410  101.370  14.312   \n",
       "1  GSW  35-33   0.515  110.223  109.750 -0.116 -0.125  0.080  102.520  13.630   \n",
       "2  LAC  45-23   6.120  117.140  111.090 -0.114 -0.020 -0.017   97.427  15.026   \n",
       "3  PHI  47-21   5.630  113.113  107.520 -0.012 -0.019 -0.016   99.812  14.716   \n",
       "4  PHX  48-20   5.640  116.570  111.080 -0.122  0.180 -0.227   97.426  14.822   \n",
       "\n",
       "      dpl        date  \n",
       "0  14.120  2021-05-09  \n",
       "1  14.517  2021-05-09  \n",
       "2  14.618  2021-05-09  \n",
       "3  14.110  2021-05-09  \n",
       "4  14.727  2021-05-09  "
      ],
      "text/html": "<div>\n<style scoped>\n    .dataframe tbody tr th:only-of-type {\n        vertical-align: middle;\n    }\n\n    .dataframe tbody tr th {\n        vertical-align: top;\n    }\n\n    .dataframe thead th {\n        text-align: right;\n    }\n</style>\n<table border=\"1\" class=\"dataframe\">\n  <thead>\n    <tr style=\"text-align: right;\">\n      <th></th>\n      <th>team</th>\n      <th>wl</th>\n      <th>anet</th>\n      <th>aortg</th>\n      <th>adrtg</th>\n      <th>sos</th>\n      <th>osos</th>\n      <th>dsos</th>\n      <th>pace</th>\n      <th>opl</th>\n      <th>dpl</th>\n      <th>date</th>\n    </tr>\n  </thead>\n  <tbody>\n    <tr>\n      <th>0</th>\n      <td>OKC</td>\n      <td>21-48</td>\n      <td>-10.330</td>\n      <td>103.230</td>\n      <td>113.522</td>\n      <td>0.510</td>\n      <td>0.111</td>\n      <td>0.410</td>\n      <td>101.370</td>\n      <td>14.312</td>\n      <td>14.120</td>\n      <td>2021-05-09</td>\n    </tr>\n    <tr>\n      <th>1</th>\n      <td>GSW</td>\n      <td>35-33</td>\n      <td>0.515</td>\n      <td>110.223</td>\n      <td>109.750</td>\n      <td>-0.116</td>\n      <td>-0.125</td>\n      <td>0.080</td>\n      <td>102.520</td>\n      <td>13.630</td>\n      <td>14.517</td>\n      <td>2021-05-09</td>\n    </tr>\n    <tr>\n      <th>2</th>\n      <td>LAC</td>\n      <td>45-23</td>\n      <td>6.120</td>\n      <td>117.140</td>\n      <td>111.090</td>\n      <td>-0.114</td>\n      <td>-0.020</td>\n      <td>-0.017</td>\n      <td>97.427</td>\n      <td>15.026</td>\n      <td>14.618</td>\n      <td>2021-05-09</td>\n    </tr>\n    <tr>\n      <th>3</th>\n      <td>PHI</td>\n      <td>47-21</td>\n      <td>5.630</td>\n      <td>113.113</td>\n      <td>107.520</td>\n      <td>-0.012</td>\n      <td>-0.019</td>\n      <td>-0.016</td>\n      <td>99.812</td>\n      <td>14.716</td>\n      <td>14.110</td>\n      <td>2021-05-09</td>\n    </tr>\n    <tr>\n      <th>4</th>\n      <td>PHX</td>\n      <td>48-20</td>\n      <td>5.640</td>\n      <td>116.570</td>\n      <td>111.080</td>\n      <td>-0.122</td>\n      <td>0.180</td>\n      <td>-0.227</td>\n      <td>97.426</td>\n      <td>14.822</td>\n      <td>14.727</td>\n      <td>2021-05-09</td>\n    </tr>\n  </tbody>\n</table>\n</div>"
     },
     "metadata": {},
     "execution_count": 126
    }
   ],
   "source": [
    "current_curated_df.head()"
   ]
  },
  {
   "cell_type": "code",
   "execution_count": 127,
   "metadata": {},
   "outputs": [
    {
     "output_type": "execute_result",
     "data": {
      "text/plain": [
       "  team     wl  anet    aortg    adrtg     sos    osos    dsos    pace     opl  \\\n",
       "0  UTA  50-19  8.91   117.15   108.23  -0.013  -0.018  -0.014  99.115  14.719   \n",
       "1  LAC  45-23  6.12   117.14   111.09  -0.115  -0.021  -0.016  97.427  15.026   \n",
       "2  PHI  47-21  5.63  113.113   107.52  -0.014  -0.020  -0.015  99.812  14.716   \n",
       "3  PHX  48-20  5.64   116.67   111.08  -0.122    0.18  -0.327  97.426  14.822   \n",
       "4  MIL  43-25  5.15   116.86  111.710  -0.329  -0.022  -0.328  102.33   13.62   \n",
       "\n",
       "      dpl        date  \n",
       "0   14.37  2021-05-10  \n",
       "1  14.618  2021-05-10  \n",
       "2   14.11  2021-05-10  \n",
       "3  14.727  2021-05-10  \n",
       "4  14.619  2021-05-10  "
      ],
      "text/html": "<div>\n<style scoped>\n    .dataframe tbody tr th:only-of-type {\n        vertical-align: middle;\n    }\n\n    .dataframe tbody tr th {\n        vertical-align: top;\n    }\n\n    .dataframe thead th {\n        text-align: right;\n    }\n</style>\n<table border=\"1\" class=\"dataframe\">\n  <thead>\n    <tr style=\"text-align: right;\">\n      <th></th>\n      <th>team</th>\n      <th>wl</th>\n      <th>anet</th>\n      <th>aortg</th>\n      <th>adrtg</th>\n      <th>sos</th>\n      <th>osos</th>\n      <th>dsos</th>\n      <th>pace</th>\n      <th>opl</th>\n      <th>dpl</th>\n      <th>date</th>\n    </tr>\n  </thead>\n  <tbody>\n    <tr>\n      <th>0</th>\n      <td>UTA</td>\n      <td>50-19</td>\n      <td>8.91</td>\n      <td>117.15</td>\n      <td>108.23</td>\n      <td>-0.013</td>\n      <td>-0.018</td>\n      <td>-0.014</td>\n      <td>99.115</td>\n      <td>14.719</td>\n      <td>14.37</td>\n      <td>2021-05-10</td>\n    </tr>\n    <tr>\n      <th>1</th>\n      <td>LAC</td>\n      <td>45-23</td>\n      <td>6.12</td>\n      <td>117.14</td>\n      <td>111.09</td>\n      <td>-0.115</td>\n      <td>-0.021</td>\n      <td>-0.016</td>\n      <td>97.427</td>\n      <td>15.026</td>\n      <td>14.618</td>\n      <td>2021-05-10</td>\n    </tr>\n    <tr>\n      <th>2</th>\n      <td>PHI</td>\n      <td>47-21</td>\n      <td>5.63</td>\n      <td>113.113</td>\n      <td>107.52</td>\n      <td>-0.014</td>\n      <td>-0.020</td>\n      <td>-0.015</td>\n      <td>99.812</td>\n      <td>14.716</td>\n      <td>14.11</td>\n      <td>2021-05-10</td>\n    </tr>\n    <tr>\n      <th>3</th>\n      <td>PHX</td>\n      <td>48-20</td>\n      <td>5.64</td>\n      <td>116.67</td>\n      <td>111.08</td>\n      <td>-0.122</td>\n      <td>0.18</td>\n      <td>-0.327</td>\n      <td>97.426</td>\n      <td>14.822</td>\n      <td>14.727</td>\n      <td>2021-05-10</td>\n    </tr>\n    <tr>\n      <th>4</th>\n      <td>MIL</td>\n      <td>43-25</td>\n      <td>5.15</td>\n      <td>116.86</td>\n      <td>111.710</td>\n      <td>-0.329</td>\n      <td>-0.022</td>\n      <td>-0.328</td>\n      <td>102.33</td>\n      <td>13.62</td>\n      <td>14.619</td>\n      <td>2021-05-10</td>\n    </tr>\n  </tbody>\n</table>\n</div>"
     },
     "metadata": {},
     "execution_count": 127
    }
   ],
   "source": [
    "incr_df.head()"
   ]
  },
  {
   "cell_type": "code",
   "execution_count": 128,
   "metadata": {},
   "outputs": [],
   "source": [
    "revised_df = pd.concat([current_curated_df, incr_df]).sort_values('date', ascending=False)"
   ]
  },
  {
   "cell_type": "code",
   "execution_count": 225,
   "metadata": {},
   "outputs": [],
   "source": [
    "incr_df.sort_values('date', ascending=False).to_csv('/Users/johnschroeder/Documents/gambling_stuff/data/02_curated/nba_team_ratings/dunksandthrees.csv', index=False)"
   ]
  },
  {
   "cell_type": "code",
   "execution_count": 129,
   "metadata": {},
   "outputs": [],
   "source": [
    "revised_df.to_csv('/Users/johnschroeder/Documents/gambling_stuff/data/02_curated/nba_team_ratings/dunksandthrees.csv', index=False)"
   ]
  }
 ]
}