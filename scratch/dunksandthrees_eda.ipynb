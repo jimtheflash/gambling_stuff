{
 "metadata": {
  "language_info": {
   "codemirror_mode": {
    "name": "ipython",
    "version": 3
   },
   "file_extension": ".py",
   "mimetype": "text/x-python",
   "name": "python",
   "nbconvert_exporter": "python",
   "pygments_lexer": "ipython3",
   "version": "3.8.8"
  },
  "orig_nbformat": 2,
  "kernelspec": {
   "name": "pythonjvsc74a57bd0660ec2fa4e3eeab39d0c54848b187086312f48f4fa251ac92b8223030e6dcbc4",
   "display_name": "Python 3.8.8  ('.venv': pipenv)"
  },
  "metadata": {
   "interpreter": {
    "hash": "660ec2fa4e3eeab39d0c54848b187086312f48f4fa251ac92b8223030e6dcbc4"
   }
  }
 },
 "nbformat": 4,
 "nbformat_minor": 2,
 "cells": [
  {
   "cell_type": "code",
   "execution_count": 1,
   "metadata": {},
   "outputs": [],
   "source": [
    "from selenium.webdriver import Chrome, ChromeOptions\n",
    "from bs4 import BeautifulSoup\n",
    "import gzip\n",
    "from pathlib import Path\n",
    "from datetime import datetime\n",
    "import re\n",
    "from glob import glob\n",
    "import pandas as pd\n",
    "from time import sleep\n",
    "from random import uniform"
   ]
  },
  {
   "cell_type": "code",
   "execution_count": 2,
   "metadata": {},
   "outputs": [],
   "source": [
    "url = 'https://dunksandthrees.com/'\n",
    "chromedriver_path = Path().joinpath(\n",
    "    '/Users','johnschroeder','Documents','gambling_stuff','chromedriver')\n",
    "base_path = '/Users/johnschroeder/Documents/gambling_stuff/data/01_raw/nba_team_ratings/dunks_and_threes'"
   ]
  },
  {
   "cell_type": "code",
   "execution_count": 3,
   "metadata": {},
   "outputs": [],
   "source": [
    "chrome_options = ChromeOptions()\n",
    "# chrome_options.add_argument('--headless')"
   ]
  },
  {
   "cell_type": "code",
   "execution_count": 4,
   "metadata": {},
   "outputs": [],
   "source": [
    "driver = Chrome(executable_path=chromedriver_path, options=chrome_options)"
   ]
  },
  {
   "cell_type": "code",
   "execution_count": 5,
   "metadata": {},
   "outputs": [],
   "source": [
    "response = driver.get(url)"
   ]
  },
  {
   "cell_type": "code",
   "execution_count": 6,
   "metadata": {},
   "outputs": [
    {
     "output_type": "stream",
     "name": "stdout",
     "text": [
      "April 15, 2020\n"
     ]
    }
   ],
   "source": [
    "soup = BeautifulSoup(driver.page_source)\n",
    "raw_page_date = soup.find('span', {'class': 'page-date'}).text\n",
    "print(raw_page_date)\n",
    "ymd = str(datetime.strptime(raw_page_date, '%B %d, %Y').date()).split('-')\n",
    "raw_file = Path(base_path).joinpath(*ymd, 'dunksandthrees.html')\n",
    "team_stats = soup.find('div', {'id': 'team-stats'})\n",
    "Path(raw_file).parent.mkdir(parents=True, exist_ok=True)\n",
    "with open(raw_file, 'w') as fp:\n",
    "    fp.write(str(team_stats.prettify()))"
   ]
  },
  {
   "cell_type": "code",
   "execution_count": 9,
   "metadata": {},
   "outputs": [
    {
     "output_type": "stream",
     "name": "stdout",
     "text": [
      "November  2, 2019\n",
      "November  1, 2019\n",
      "October 31, 2019\n",
      "October 30, 2019\n",
      "October 29, 2019\n",
      "October 28, 2019\n",
      "October 27, 2019\n",
      "October 26, 2019\n",
      "October 25, 2019\n",
      "October 24, 2019\n",
      "October 23, 2019\n",
      "October 22, 2019\n"
     ]
    }
   ],
   "source": [
    "# iterate through multiple clicks to pull multiple raw files\n",
    "nbr_clicks = 12\n",
    "\n",
    "for click in range(nbr_clicks):\n",
    "    soup = BeautifulSoup(driver.page_source)\n",
    "    raw_page_date = soup.find('span', {'class': 'page-date'}).text\n",
    "    print(raw_page_date)\n",
    "    ymd = str(datetime.strptime(raw_page_date, '%B %d, %Y').date()).split('-')\n",
    "    raw_file = Path(base_path).joinpath(*ymd).with_suffix('.html')\n",
    "    team_stats = soup.find('div', {'id': 'team-stats'})\n",
    "    Path(raw_file).parent.mkdir(parents=True, exist_ok=True)\n",
    "    with open(raw_file, 'w') as fp:\n",
    "        fp.write(str(team_stats.prettify()))\n",
    "    driver.find_element_by_class_name('date-button').click()\n",
    "    sleep(uniform(1.5, 2.5))"
   ]
  },
  {
   "cell_type": "code",
   "execution_count": 115,
   "metadata": {},
   "outputs": [],
   "source": [
    "# collect all raw files and combine to a single dataframe"
   ]
  },
  {
   "cell_type": "code",
   "execution_count": 10,
   "metadata": {},
   "outputs": [],
   "source": [
    "curated_file = '/Users/johnschroeder/Documents/gambling_stuff/data/02_curated/nba_team_ratings/dunksandthrees.csv'"
   ]
  },
  {
   "cell_type": "code",
   "execution_count": 11,
   "metadata": {},
   "outputs": [],
   "source": [
    "stats_headers = team_stats.find('tr', {'class': 'main-header-tr'})"
   ]
  },
  {
   "cell_type": "code",
   "execution_count": 12,
   "metadata": {},
   "outputs": [],
   "source": [
    "df_headers = [re.sub('\\W+', '', _.text).lower() for _ in stats_headers.find_all('th')]"
   ]
  },
  {
   "cell_type": "code",
   "execution_count": 13,
   "metadata": {},
   "outputs": [
    {
     "output_type": "execute_result",
     "data": {
      "text/plain": [
       "['team',\n",
       " 'wl',\n",
       " 'anet',\n",
       " 'aortg',\n",
       " 'adrtg',\n",
       " 'sos',\n",
       " 'osos',\n",
       " 'dsos',\n",
       " 'pace',\n",
       " 'opl',\n",
       " 'dpl']"
      ]
     },
     "metadata": {},
     "execution_count": 13
    }
   ],
   "source": [
    "df_headers"
   ]
  },
  {
   "cell_type": "code",
   "execution_count": 14,
   "metadata": {},
   "outputs": [],
   "source": [
    "df_headers1 = ['team',\n",
    " 'wl',\n",
    " 'anet',\n",
    " 'aortg',\n",
    " 'adrtg',\n",
    " 'sos',\n",
    " 'osos',\n",
    " 'dsos',\n",
    " 'pace',\n",
    " 'opl',\n",
    " 'dpl',\n",
    " 'date']"
   ]
  },
  {
   "cell_type": "code",
   "execution_count": 15,
   "metadata": {},
   "outputs": [],
   "source": [
    "raw_files = glob('/Users/johnschroeder/Documents/gambling_stuff/data/01_raw/nba_team_ratings/dunks_and_threes/*/*/*.html')\n",
    "df_data = []\n",
    "for raw_file in raw_files:\n",
    "    with open(raw_file, 'r') as fp:\n",
    "        raw_html = fp.read()\n",
    "    team_stats = BeautifulSoup(raw_html)\n",
    "    team_rows = team_stats.find_all('tr', {'class': 'stat-row'})\n",
    "    replaces = re.compile(r'(\\+)|(\\s+)')\n",
    "    file_date = '-'.join(Path(raw_file).with_suffix('').parts[-3:])\n",
    "    for team_row in team_rows:\n",
    "        row_data = [re.sub(replaces, '', _.text).strip() for _ in team_row.find_all('td')]\n",
    "        row_data.append(file_date)\n",
    "        df_data.append(row_data)"
   ]
  },
  {
   "cell_type": "code",
   "execution_count": 16,
   "metadata": {},
   "outputs": [],
   "source": [
    "incr_df = pd.DataFrame(df_data, columns=df_headers1)"
   ]
  },
  {
   "cell_type": "code",
   "execution_count": 17,
   "metadata": {},
   "outputs": [
    {
     "output_type": "execute_result",
     "data": {
      "text/plain": [
       "array(['1HOU', '2GSW', '4OKC', '2BOS', '1TOR', '3POR', '8WAS', '11NYK',\n",
       "       '5IND', '9DET', '7SAS', '5UTA', '9DEN', '3PHI', '14ORL', '8MIN',\n",
       "       '10CHA', '6NOP', '10LAC', '4CLE', '14MEM', '11LAL', '7MIL',\n",
       "       '12BKN', '6MIA', '15ATL', '13DAL', '15PHX', '13CHI', '12SAC',\n",
       "       '1MIL', '1GSW', '2DEN', '2TOR', '4BOS', '6OKC', '4HOU', '8LAC',\n",
       "       '13NOP', '8DET', '10MIA', '11MIN', '9SAC', '7ORL', '6BKN', '14DAL',\n",
       "       '9CHA', '10LAL', '12MEM', '11WAS', '12ATL', '15NYK', '14CLE',\n",
       "       '1LAL', '7DAL', '3BOS', '5MIA', '2LAC', '10PHX', '3DEN', '6UTA',\n",
       "       '4IND', '6PHI', '5OKC', '10WAS', '8ORL', '14MIN', '7BKN', '8POR',\n",
       "       '11CHI', '11SAS', '13DET', '12NYK', '15CLE', '9MEM', '14ATL',\n",
       "       '15GSW', '1UTA', '3MIL', '2PHX', '3LAC', '4DEN', '1PHI', '7LAL',\n",
       "       '2BKN', '5ATL', '5DAL', '7BOS', '11NOP', '4NYK', '10IND', '10SAS',\n",
       "       '12TOR', '8GSW', '6POR', '8CHA', '15DET', '9WAS', '13OKC', '15HOU',\n",
       "       '13ORL', '2PHI', '1BKN', '5LAL', '6DAL', '6BOS', '8MEM', '7POR',\n",
       "       '10GSW', '9IND', '7MIA', '9SAS', '13CLE', '2UTA', '1PHX', '4LAC',\n",
       "       '11TOR', '9GSW', '12CHI', '13MIN', '14OKC'], dtype=object)"
      ]
     },
     "metadata": {},
     "execution_count": 17
    }
   ],
   "source": [
    "incr_df['team'].unique()"
   ]
  },
  {
   "cell_type": "code",
   "execution_count": 18,
   "metadata": {},
   "outputs": [],
   "source": [
    "incr_df['team'] = incr_df['team'].replace(regex='\\d+', value='')"
   ]
  },
  {
   "cell_type": "code",
   "execution_count": 21,
   "metadata": {},
   "outputs": [
    {
     "output_type": "execute_result",
     "data": {
      "text/plain": [
       "  team    wl   anet    aortg    adrtg     sos    osos    dsos    pace     opl  \\\n",
       "0  HOU  14-4  10.21   114.51   104.39    0.38    0.16    0.29   99.08   14.18   \n",
       "1  GSW  13-5   9.52   113.82   104.38    0.44    0.23    0.28  102.64   13.72   \n",
       "2  OKC   8-9   5.73  106.715   101.03   0.111  -0.222    0.37  96.920  14.310   \n",
       "3  BOS  16-3   5.64  105.618   100.01  -1.829  -0.120  -1.730  96.524  15.021   \n",
       "4  TOR  11-6   5.55   111.54  106.013  -0.526  -0.227  -0.324  98.215  14.716   \n",
       "\n",
       "      dpl        date  \n",
       "0  15.027  2017-11-23  \n",
       "1   14.48  2017-11-23  \n",
       "2  15.430  2017-11-23  \n",
       "3  14.822  2017-11-23  \n",
       "4  14.718  2017-11-23  "
      ],
      "text/html": "<div>\n<style scoped>\n    .dataframe tbody tr th:only-of-type {\n        vertical-align: middle;\n    }\n\n    .dataframe tbody tr th {\n        vertical-align: top;\n    }\n\n    .dataframe thead th {\n        text-align: right;\n    }\n</style>\n<table border=\"1\" class=\"dataframe\">\n  <thead>\n    <tr style=\"text-align: right;\">\n      <th></th>\n      <th>team</th>\n      <th>wl</th>\n      <th>anet</th>\n      <th>aortg</th>\n      <th>adrtg</th>\n      <th>sos</th>\n      <th>osos</th>\n      <th>dsos</th>\n      <th>pace</th>\n      <th>opl</th>\n      <th>dpl</th>\n      <th>date</th>\n    </tr>\n  </thead>\n  <tbody>\n    <tr>\n      <th>0</th>\n      <td>HOU</td>\n      <td>14-4</td>\n      <td>10.21</td>\n      <td>114.51</td>\n      <td>104.39</td>\n      <td>0.38</td>\n      <td>0.16</td>\n      <td>0.29</td>\n      <td>99.08</td>\n      <td>14.18</td>\n      <td>15.027</td>\n      <td>2017-11-23</td>\n    </tr>\n    <tr>\n      <th>1</th>\n      <td>GSW</td>\n      <td>13-5</td>\n      <td>9.52</td>\n      <td>113.82</td>\n      <td>104.38</td>\n      <td>0.44</td>\n      <td>0.23</td>\n      <td>0.28</td>\n      <td>102.64</td>\n      <td>13.72</td>\n      <td>14.48</td>\n      <td>2017-11-23</td>\n    </tr>\n    <tr>\n      <th>2</th>\n      <td>OKC</td>\n      <td>8-9</td>\n      <td>5.73</td>\n      <td>106.715</td>\n      <td>101.03</td>\n      <td>0.111</td>\n      <td>-0.222</td>\n      <td>0.37</td>\n      <td>96.920</td>\n      <td>14.310</td>\n      <td>15.430</td>\n      <td>2017-11-23</td>\n    </tr>\n    <tr>\n      <th>3</th>\n      <td>BOS</td>\n      <td>16-3</td>\n      <td>5.64</td>\n      <td>105.618</td>\n      <td>100.01</td>\n      <td>-1.829</td>\n      <td>-0.120</td>\n      <td>-1.730</td>\n      <td>96.524</td>\n      <td>15.021</td>\n      <td>14.822</td>\n      <td>2017-11-23</td>\n    </tr>\n    <tr>\n      <th>4</th>\n      <td>TOR</td>\n      <td>11-6</td>\n      <td>5.55</td>\n      <td>111.54</td>\n      <td>106.013</td>\n      <td>-0.526</td>\n      <td>-0.227</td>\n      <td>-0.324</td>\n      <td>98.215</td>\n      <td>14.716</td>\n      <td>14.718</td>\n      <td>2017-11-23</td>\n    </tr>\n  </tbody>\n</table>\n</div>"
     },
     "metadata": {},
     "execution_count": 21
    }
   ],
   "source": [
    "incr_df.head()"
   ]
  },
  {
   "cell_type": "code",
   "execution_count": 22,
   "metadata": {},
   "outputs": [],
   "source": [
    "incr_df.sort_values('date', ascending=False).to_csv('/Users/johnschroeder/Documents/gambling_stuff/data/02_curated/nba_team_ratings/dunksandthrees.csv', index=False)"
   ]
  }
 ]
}