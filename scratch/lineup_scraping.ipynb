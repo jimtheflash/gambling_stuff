{
 "metadata": {
  "language_info": {
   "codemirror_mode": {
    "name": "ipython",
    "version": 3
   },
   "file_extension": ".py",
   "mimetype": "text/x-python",
   "name": "python",
   "nbconvert_exporter": "python",
   "pygments_lexer": "ipython3",
   "version": "3.9.1-final"
  },
  "orig_nbformat": 2,
  "kernelspec": {
   "name": "python3",
   "display_name": "Python 3.9.1 64-bit ('.venv': venv)",
   "metadata": {
    "interpreter": {
     "hash": "5441275ed5cc7f93a6aaad3fbd4c5fc863fecfd6e48b72338f35e4d431669d52"
    }
   }
  }
 },
 "nbformat": 4,
 "nbformat_minor": 2,
 "cells": [
  {
   "cell_type": "code",
   "execution_count": 34,
   "metadata": {},
   "outputs": [],
   "source": [
    "from bs4 import BeautifulSoup\n",
    "import pathlib\n",
    "import requests as req\n",
    "import pandas as pd"
   ]
  },
  {
   "cell_type": "code",
   "execution_count": 4,
   "metadata": {},
   "outputs": [],
   "source": [
    "url = 'https://www.rotowire.com/basketball/nba-lineups.php'"
   ]
  },
  {
   "cell_type": "code",
   "execution_count": 5,
   "metadata": {},
   "outputs": [],
   "source": [
    "resp = req.get(url)"
   ]
  },
  {
   "cell_type": "code",
   "execution_count": 8,
   "metadata": {},
   "outputs": [],
   "source": [
    "soup = BeautifulSoup(resp.text)"
   ]
  },
  {
   "cell_type": "code",
   "execution_count": 33,
   "metadata": {},
   "outputs": [],
   "source": [
    "# soup.head()"
   ]
  },
  {
   "cell_type": "code",
   "execution_count": 14,
   "metadata": {},
   "outputs": [],
   "source": [
    "lineups_html = soup.find('div', attrs={'class': 'lineups'})"
   ]
  },
  {
   "cell_type": "code",
   "execution_count": 39,
   "metadata": {},
   "outputs": [
    {
     "output_type": "execute_result",
     "data": {
      "text/plain": [
       "bs4.element.Tag"
      ]
     },
     "metadata": {},
     "execution_count": 39
    }
   ],
   "source": [
    "type(lineups_html)"
   ]
  },
  {
   "cell_type": "code",
   "execution_count": null,
   "metadata": {},
   "outputs": [],
   "source": []
  },
  {
   "cell_type": "code",
   "execution_count": 36,
   "metadata": {},
   "outputs": [],
   "source": [
    "raw_filename = '/Users/johnschroeder/Documents/gambling_stuff/data/01_raw/nba_lineups/2021/03/20/rotowire.html'"
   ]
  },
  {
   "cell_type": "code",
   "execution_count": 40,
   "metadata": {},
   "outputs": [],
   "source": [
    "with open(raw_filename, 'w', encoding='utf-8') as fp:\n",
    "    fp.write(str(lineups_html))"
   ]
  },
  {
   "cell_type": "code",
   "execution_count": 41,
   "metadata": {},
   "outputs": [],
   "source": [
    "with open(raw_filename, 'r') as fp:\n",
    "    soup = BeautifulSoup(fp.read())"
   ]
  },
  {
   "cell_type": "code",
   "execution_count": 45,
   "metadata": {},
   "outputs": [
    {
     "output_type": "execute_result",
     "data": {
      "text/plain": [
       "1"
      ]
     },
     "metadata": {},
     "execution_count": 45
    }
   ],
   "source": [
    "soup.find_all()[0].find_all('div', attrs={'class': 'lineup__teams'})"
   ]
  },
  {
   "cell_type": "code",
   "execution_count": null,
   "metadata": {},
   "outputs": [],
   "source": [
    "lineups_html"
   ]
  },
  {
   "cell_type": "code",
   "execution_count": 91,
   "metadata": {},
   "outputs": [],
   "source": [
    "matchups_html = [\n",
    "    x for x \n",
    "    in lineups_html.find_all('div', attrs={'class': 'lineup__box'})\n",
    "    if 'lineup__teams' in str(x)\n",
    "    ]"
   ]
  },
  {
   "cell_type": "code",
   "execution_count": 111,
   "metadata": {},
   "outputs": [
    {
     "output_type": "stream",
     "name": "stdout",
     "text": [
      "[{'TEAM_ABBREVIATION': 'ATL', 'HOME_AWAY': 'is-visit', 'MATCHUP': 'ATLLAL'}, {'TEAM_ABBREVIATION': 'LAL', 'HOME_AWAY': 'is-home', 'MATCHUP': 'ATLLAL'}]\n[{'TEAM_ABBREVIATION': 'SAC', 'HOME_AWAY': 'is-visit', 'MATCHUP': 'SACPHI'}, {'TEAM_ABBREVIATION': 'PHI', 'HOME_AWAY': 'is-home', 'MATCHUP': 'SACPHI'}]\n[{'TEAM_ABBREVIATION': 'GS', 'HOME_AWAY': 'is-visit', 'MATCHUP': 'GSMEM'}, {'TEAM_ABBREVIATION': 'MEM', 'HOME_AWAY': 'is-home', 'MATCHUP': 'GSMEM'}]\n[{'TEAM_ABBREVIATION': 'SA', 'HOME_AWAY': 'is-visit', 'MATCHUP': 'SAMIL'}, {'TEAM_ABBREVIATION': 'MIL', 'HOME_AWAY': 'is-home', 'MATCHUP': 'SAMIL'}]\n[{'TEAM_ABBREVIATION': 'CHA', 'HOME_AWAY': 'is-visit', 'MATCHUP': 'CHALAC'}, {'TEAM_ABBREVIATION': 'LAC', 'HOME_AWAY': 'is-home', 'MATCHUP': 'CHALAC'}]\n"
     ]
    }
   ],
   "source": [
    "lineup_players_list = []\n",
    "for matchup_html in matchups_html:\n",
    "    matchup_teams_html = matchup_html.find('div', attrs={'class': 'lineup__teams'})\n",
    "    matchup = ''.join([x.text for x in matchup_teams_html.find_all('div')])\n",
    "    matchup_teams = [\n",
    "        {\n",
    "            'TEAM_ABBREVIATION': x.find('div').text,\n",
    "            'HOME_AWAY': x.get('class')[-1],\n",
    "            'MATCHUP': matchup,\n",
    "        }\n",
    "        for x in matchup_teams_html.find_all('a')\n",
    "    ]\n",
    "    print(matchup_teams)\n",
    "    for team in matchup_teams:\n",
    "        abbrev = team.get('TEAM_ABBREVIATION')\n",
    "        home_away = team.get('HOME_AWAY')\n",
    "        lineup_raw = [x for x in matchup_html.find_all('ul') if home_away in str(x)][0]\n",
    "        players_raw = [x for x in lineup_raw.find_all('li') if 'lineup__player' in str(x)]\n",
    "        for player in players_raw:\n",
    "            player_dict = {\n",
    "                'TEAM_ABBREVIATION': abbrev,\n",
    "                'HOME_AWAY': home_away,\n",
    "                'MATCHUP': matchup,\n",
    "                'TO_PLAY_DESC': player.get('title'),\n",
    "                'PLAYER_NAME': player.find('a').get('title'),\n",
    "                'NAME_SHORT': player.find('a').text,\n",
    "                'STARTING_POSITION': player.find('div', attrs={'class', 'lineup__pos'}).text,\n",
    "            }\n",
    "            lineup_players_list.append(player_dict)"
   ]
  },
  {
   "cell_type": "code",
   "execution_count": 114,
   "metadata": {},
   "outputs": [],
   "source": [
    "lineup_df = pd.DataFrame(lineup_players_list).drop_duplicates()"
   ]
  },
  {
   "cell_type": "code",
   "execution_count": 115,
   "metadata": {},
   "outputs": [],
   "source": [
    "lineup_df.to_csv('/Users/johnschroeder/Documents/gambling_stuff/data/02_curated/nba_lineups/2021/03/20/rotowire.csv', index=False)"
   ]
  },
  {
   "cell_type": "code",
   "execution_count": 109,
   "metadata": {},
   "outputs": [
    {
     "output_type": "execute_result",
     "data": {
      "text/plain": [
       "  TEAM_ABBREVIATION HOME_AWAY MATCHUP         TO_PLAY_DESC    PLAYER_NAME  \\\n",
       "0               ATL  is-visit  ATLLAL  Very Likely To Play     Trae Young   \n",
       "1               ATL  is-visit  ATLLAL  Very Likely To Play  Kevin Huerter   \n",
       "2               ATL  is-visit  ATLLAL  Very Likely To Play     Tony Snell   \n",
       "3               ATL  is-visit  ATLLAL  Very Likely To Play   John Collins   \n",
       "4               ATL  is-visit  ATLLAL  Very Likely To Play   Clint Capela   \n",
       "\n",
       "      NAME_SHORT STARTING_POSITION  \n",
       "0     Trae Young                PG  \n",
       "1  Kevin Huerter                SG  \n",
       "2     Tony Snell                SF  \n",
       "3   John Collins                PF  \n",
       "4   Clint Capela                 C  "
      ],
      "text/html": "<div>\n<style scoped>\n    .dataframe tbody tr th:only-of-type {\n        vertical-align: middle;\n    }\n\n    .dataframe tbody tr th {\n        vertical-align: top;\n    }\n\n    .dataframe thead th {\n        text-align: right;\n    }\n</style>\n<table border=\"1\" class=\"dataframe\">\n  <thead>\n    <tr style=\"text-align: right;\">\n      <th></th>\n      <th>TEAM_ABBREVIATION</th>\n      <th>HOME_AWAY</th>\n      <th>MATCHUP</th>\n      <th>TO_PLAY_DESC</th>\n      <th>PLAYER_NAME</th>\n      <th>NAME_SHORT</th>\n      <th>STARTING_POSITION</th>\n    </tr>\n  </thead>\n  <tbody>\n    <tr>\n      <th>0</th>\n      <td>ATL</td>\n      <td>is-visit</td>\n      <td>ATLLAL</td>\n      <td>Very Likely To Play</td>\n      <td>Trae Young</td>\n      <td>Trae Young</td>\n      <td>PG</td>\n    </tr>\n    <tr>\n      <th>1</th>\n      <td>ATL</td>\n      <td>is-visit</td>\n      <td>ATLLAL</td>\n      <td>Very Likely To Play</td>\n      <td>Kevin Huerter</td>\n      <td>Kevin Huerter</td>\n      <td>SG</td>\n    </tr>\n    <tr>\n      <th>2</th>\n      <td>ATL</td>\n      <td>is-visit</td>\n      <td>ATLLAL</td>\n      <td>Very Likely To Play</td>\n      <td>Tony Snell</td>\n      <td>Tony Snell</td>\n      <td>SF</td>\n    </tr>\n    <tr>\n      <th>3</th>\n      <td>ATL</td>\n      <td>is-visit</td>\n      <td>ATLLAL</td>\n      <td>Very Likely To Play</td>\n      <td>John Collins</td>\n      <td>John Collins</td>\n      <td>PF</td>\n    </tr>\n    <tr>\n      <th>4</th>\n      <td>ATL</td>\n      <td>is-visit</td>\n      <td>ATLLAL</td>\n      <td>Very Likely To Play</td>\n      <td>Clint Capela</td>\n      <td>Clint Capela</td>\n      <td>C</td>\n    </tr>\n  </tbody>\n</table>\n</div>"
     },
     "metadata": {},
     "execution_count": 109
    }
   ],
   "source": [
    "lineup_df.head()"
   ]
  },
  {
   "cell_type": "code",
   "execution_count": 107,
   "metadata": {},
   "outputs": [
    {
     "output_type": "execute_result",
     "data": {
      "text/plain": [
       "[{'TEAM_ABBREVIATION': 'ATL',\n",
       "  'HOME_AWAY': 'is-visit',\n",
       "  'MATCHUP': 'ATLLAL',\n",
       "  'TO_PLAY_DESC': 'Very Likely To Play',\n",
       "  'PLAYER_NAME': 'Trae Young',\n",
       "  'NAME_SHORT': 'Trae Young',\n",
       "  'STARTING_POSITION': 'PG'},\n",
       " {'TEAM_ABBREVIATION': 'ATL',\n",
       "  'HOME_AWAY': 'is-visit',\n",
       "  'MATCHUP': 'ATLLAL',\n",
       "  'TO_PLAY_DESC': 'Very Likely To Play',\n",
       "  'PLAYER_NAME': 'Kevin Huerter',\n",
       "  'NAME_SHORT': 'Kevin Huerter',\n",
       "  'STARTING_POSITION': 'SG'},\n",
       " {'TEAM_ABBREVIATION': 'ATL',\n",
       "  'HOME_AWAY': 'is-visit',\n",
       "  'MATCHUP': 'ATLLAL',\n",
       "  'TO_PLAY_DESC': 'Very Likely To Play',\n",
       "  'PLAYER_NAME': 'Tony Snell',\n",
       "  'NAME_SHORT': 'Tony Snell',\n",
       "  'STARTING_POSITION': 'SF'},\n",
       " {'TEAM_ABBREVIATION': 'ATL',\n",
       "  'HOME_AWAY': 'is-visit',\n",
       "  'MATCHUP': 'ATLLAL',\n",
       "  'TO_PLAY_DESC': 'Very Likely To Play',\n",
       "  'PLAYER_NAME': 'John Collins',\n",
       "  'NAME_SHORT': 'John Collins',\n",
       "  'STARTING_POSITION': 'PF'},\n",
       " {'TEAM_ABBREVIATION': 'ATL',\n",
       "  'HOME_AWAY': 'is-visit',\n",
       "  'MATCHUP': 'ATLLAL',\n",
       "  'TO_PLAY_DESC': 'Very Likely To Play',\n",
       "  'PLAYER_NAME': 'Clint Capela',\n",
       "  'NAME_SHORT': 'Clint Capela',\n",
       "  'STARTING_POSITION': 'C'},\n",
       " {'TEAM_ABBREVIATION': 'ATL',\n",
       "  'HOME_AWAY': 'is-visit',\n",
       "  'MATCHUP': 'ATLLAL',\n",
       "  'TO_PLAY_DESC': 'Very Unlikely To Play',\n",
       "  'PLAYER_NAME': 'Kris Dunn',\n",
       "  'NAME_SHORT': 'K. Dunn',\n",
       "  'STARTING_POSITION': 'G'},\n",
       " {'TEAM_ABBREVIATION': 'ATL',\n",
       "  'HOME_AWAY': 'is-visit',\n",
       "  'MATCHUP': 'ATLLAL',\n",
       "  'TO_PLAY_DESC': 'Very Unlikely To Play',\n",
       "  'PLAYER_NAME': 'Brandon Goodwin',\n",
       "  'NAME_SHORT': 'B. Goodwin',\n",
       "  'STARTING_POSITION': 'G'},\n",
       " {'TEAM_ABBREVIATION': 'ATL',\n",
       "  'HOME_AWAY': 'is-visit',\n",
       "  'MATCHUP': 'ATLLAL',\n",
       "  'TO_PLAY_DESC': 'Very Unlikely To Play',\n",
       "  'PLAYER_NAME': \"De'Andre Hunter\",\n",
       "  'NAME_SHORT': 'D. Hunter',\n",
       "  'STARTING_POSITION': 'F'},\n",
       " {'TEAM_ABBREVIATION': 'ATL',\n",
       "  'HOME_AWAY': 'is-visit',\n",
       "  'MATCHUP': 'ATLLAL',\n",
       "  'TO_PLAY_DESC': 'Very Unlikely To Play',\n",
       "  'PLAYER_NAME': 'Cam Reddish',\n",
       "  'NAME_SHORT': 'C. Reddish',\n",
       "  'STARTING_POSITION': 'F'},\n",
       " {'TEAM_ABBREVIATION': 'SAC',\n",
       "  'HOME_AWAY': 'is-visit',\n",
       "  'MATCHUP': 'SACPHI',\n",
       "  'TO_PLAY_DESC': 'Very Likely To Play',\n",
       "  'PLAYER_NAME': \"De'Aaron Fox\",\n",
       "  'NAME_SHORT': \"De'Aaron Fox\",\n",
       "  'STARTING_POSITION': 'PG'},\n",
       " {'TEAM_ABBREVIATION': 'SAC',\n",
       "  'HOME_AWAY': 'is-visit',\n",
       "  'MATCHUP': 'SACPHI',\n",
       "  'TO_PLAY_DESC': 'Very Likely To Play',\n",
       "  'PLAYER_NAME': 'Tyrese Haliburton',\n",
       "  'NAME_SHORT': 'T. Haliburton',\n",
       "  'STARTING_POSITION': 'SG'},\n",
       " {'TEAM_ABBREVIATION': 'SAC',\n",
       "  'HOME_AWAY': 'is-visit',\n",
       "  'MATCHUP': 'SACPHI',\n",
       "  'TO_PLAY_DESC': 'Very Likely To Play',\n",
       "  'PLAYER_NAME': 'Buddy Hield',\n",
       "  'NAME_SHORT': 'Buddy Hield',\n",
       "  'STARTING_POSITION': 'SF'},\n",
       " {'TEAM_ABBREVIATION': 'SAC',\n",
       "  'HOME_AWAY': 'is-visit',\n",
       "  'MATCHUP': 'SACPHI',\n",
       "  'TO_PLAY_DESC': 'Very Likely To Play',\n",
       "  'PLAYER_NAME': 'Harrison Barnes',\n",
       "  'NAME_SHORT': 'H. Barnes',\n",
       "  'STARTING_POSITION': 'PF'},\n",
       " {'TEAM_ABBREVIATION': 'SAC',\n",
       "  'HOME_AWAY': 'is-visit',\n",
       "  'MATCHUP': 'SACPHI',\n",
       "  'TO_PLAY_DESC': 'Very Likely To Play',\n",
       "  'PLAYER_NAME': 'Richaun Holmes',\n",
       "  'NAME_SHORT': 'R. Holmes',\n",
       "  'STARTING_POSITION': 'C'},\n",
       " {'TEAM_ABBREVIATION': 'SAC',\n",
       "  'HOME_AWAY': 'is-visit',\n",
       "  'MATCHUP': 'SACPHI',\n",
       "  'TO_PLAY_DESC': 'Very Unlikely To Play',\n",
       "  'PLAYER_NAME': 'Marvin Bagley',\n",
       "  'NAME_SHORT': 'M. Bagley',\n",
       "  'STARTING_POSITION': 'F'},\n",
       " {'TEAM_ABBREVIATION': 'SAC',\n",
       "  'HOME_AWAY': 'is-visit',\n",
       "  'MATCHUP': 'SACPHI',\n",
       "  'TO_PLAY_DESC': 'Very Unlikely To Play',\n",
       "  'PLAYER_NAME': 'Chimezie Metu',\n",
       "  'NAME_SHORT': 'C. Metu',\n",
       "  'STARTING_POSITION': 'C'},\n",
       " {'TEAM_ABBREVIATION': 'GS',\n",
       "  'HOME_AWAY': 'is-visit',\n",
       "  'MATCHUP': 'GSMEM',\n",
       "  'TO_PLAY_DESC': 'Unlikely To Play',\n",
       "  'PLAYER_NAME': 'Stephen Curry',\n",
       "  'NAME_SHORT': 'S. Curry',\n",
       "  'STARTING_POSITION': 'PG'},\n",
       " {'TEAM_ABBREVIATION': 'GS',\n",
       "  'HOME_AWAY': 'is-visit',\n",
       "  'MATCHUP': 'GSMEM',\n",
       "  'TO_PLAY_DESC': 'Very Likely To Play',\n",
       "  'PLAYER_NAME': 'Andrew Wiggins',\n",
       "  'NAME_SHORT': 'A. Wiggins',\n",
       "  'STARTING_POSITION': 'SG'},\n",
       " {'TEAM_ABBREVIATION': 'GS',\n",
       "  'HOME_AWAY': 'is-visit',\n",
       "  'MATCHUP': 'GSMEM',\n",
       "  'TO_PLAY_DESC': 'Very Likely To Play',\n",
       "  'PLAYER_NAME': 'Kelly Oubre',\n",
       "  'NAME_SHORT': 'Kelly Oubre',\n",
       "  'STARTING_POSITION': 'SF'},\n",
       " {'TEAM_ABBREVIATION': 'GS',\n",
       "  'HOME_AWAY': 'is-visit',\n",
       "  'MATCHUP': 'GSMEM',\n",
       "  'TO_PLAY_DESC': 'Very Likely To Play',\n",
       "  'PLAYER_NAME': 'Draymond Green',\n",
       "  'NAME_SHORT': 'D. Green',\n",
       "  'STARTING_POSITION': 'PF'}]"
      ]
     },
     "metadata": {},
     "execution_count": 107
    }
   ],
   "source": [
    "lineup_players_list[:20]"
   ]
  },
  {
   "cell_type": "code",
   "execution_count": 92,
   "metadata": {},
   "outputs": [
    {
     "output_type": "execute_result",
     "data": {
      "text/plain": [
       "[[<div class=\"lineup__teams\">\n",
       "  <a class=\"lineup__team is-visit\" href=\"/basketball/depth-chart.php?team=ATL\">\n",
       "  <img alt=\"ATL\" class=\"lineup__logo\" src=\"https://content.rotowire.com/images/teamlogo/basketball/100ATL.png?v=2\"/>\n",
       "  <div class=\"lineup__abbr\">ATL</div>\n",
       "  </a>\n",
       "  <a class=\"lineup__team is-home\" href=\"/basketball/depth-chart.php?team=LAL\">\n",
       "  <img alt=\"LAL\" class=\"lineup__logo\" src=\"https://content.rotowire.com/images/teamlogo/basketball/100LAL.png?v=2\"/>\n",
       "  <div class=\"lineup__abbr\">LAL</div>\n",
       "  </a>\n",
       "  </div>],\n",
       " [<div class=\"lineup__teams\">\n",
       "  <a class=\"lineup__team is-visit\" href=\"/basketball/depth-chart.php?team=SAC\">\n",
       "  <img alt=\"SAC\" class=\"lineup__logo\" src=\"https://content.rotowire.com/images/teamlogo/basketball/100SAC.png?v=2\"/>\n",
       "  <div class=\"lineup__abbr\">SAC</div>\n",
       "  </a>\n",
       "  <a class=\"lineup__team is-home\" href=\"/basketball/depth-chart.php?team=PHI\">\n",
       "  <img alt=\"PHI\" class=\"lineup__logo\" src=\"https://content.rotowire.com/images/teamlogo/basketball/100PHI.png?v=2\"/>\n",
       "  <div class=\"lineup__abbr\">PHI</div>\n",
       "  </a>\n",
       "  </div>],\n",
       " [<div class=\"lineup__teams\">\n",
       "  <a class=\"lineup__team is-visit\" href=\"/basketball/depth-chart.php?team=GS\">\n",
       "  <img alt=\"GS\" class=\"lineup__logo\" src=\"https://content.rotowire.com/images/teamlogo/basketball/100GS.png?v=2\"/>\n",
       "  <div class=\"lineup__abbr\">GS</div>\n",
       "  </a>\n",
       "  <a class=\"lineup__team is-home\" href=\"/basketball/depth-chart.php?team=MEM\">\n",
       "  <img alt=\"MEM\" class=\"lineup__logo\" src=\"https://content.rotowire.com/images/teamlogo/basketball/100MEM.png?v=2\"/>\n",
       "  <div class=\"lineup__abbr\">MEM</div>\n",
       "  </a>\n",
       "  </div>],\n",
       " [<div class=\"lineup__teams\">\n",
       "  <a class=\"lineup__team is-visit\" href=\"/basketball/depth-chart.php?team=SA\">\n",
       "  <img alt=\"SA\" class=\"lineup__logo\" src=\"https://content.rotowire.com/images/teamlogo/basketball/100SA.png?v=2\"/>\n",
       "  <div class=\"lineup__abbr\">SA</div>\n",
       "  </a>\n",
       "  <a class=\"lineup__team is-home\" href=\"/basketball/depth-chart.php?team=MIL\">\n",
       "  <img alt=\"MIL\" class=\"lineup__logo\" src=\"https://content.rotowire.com/images/teamlogo/basketball/100MIL.png?v=2\"/>\n",
       "  <div class=\"lineup__abbr\">MIL</div>\n",
       "  </a>\n",
       "  </div>],\n",
       " [<div class=\"lineup__teams\">\n",
       "  <a class=\"lineup__team is-visit\" href=\"/basketball/depth-chart.php?team=CHA\">\n",
       "  <img alt=\"CHA\" class=\"lineup__logo\" src=\"https://content.rotowire.com/images/teamlogo/basketball/100CHA.png?v=2\"/>\n",
       "  <div class=\"lineup__abbr\">CHA</div>\n",
       "  </a>\n",
       "  <a class=\"lineup__team is-home\" href=\"/basketball/depth-chart.php?team=LAC\">\n",
       "  <img alt=\"LAC\" class=\"lineup__logo\" src=\"https://content.rotowire.com/images/teamlogo/basketball/100LAC.png?v=2\"/>\n",
       "  <div class=\"lineup__abbr\">LAC</div>\n",
       "  </a>\n",
       "  </div>]]"
      ]
     },
     "metadata": {},
     "execution_count": 92
    }
   ],
   "source": [
    "[x.find_all('div', attrs={'class': 'lineup__teams'}) for x in matchups_html]"
   ]
  },
  {
   "cell_type": "code",
   "execution_count": 29,
   "metadata": {},
   "outputs": [],
   "source": [
    "one_lineup = lineups_raw[0]"
   ]
  },
  {
   "cell_type": "code",
   "execution_count": null,
   "metadata": {},
   "outputs": [],
   "source": []
  },
  {
   "cell_type": "code",
   "execution_count": null,
   "metadata": {},
   "outputs": [],
   "source": [
    "game_lineup = []"
   ]
  },
  {
   "cell_type": "code",
   "execution_count": null,
   "metadata": {},
   "outputs": [],
   "source": [
    "player_dict = {\n",
    "    'TEAM_ABBREVIATION': '',\n",
    "    'HOME_AWAY': '',\n",
    "    'TO_PLAY_DESC': '',\n",
    "    'PLAYER_NAME': '',\n",
    "    'NAME_SHORT': '',\n",
    "    'STARTING_POSITION': '',\n",
    "}"
   ]
  },
  {
   "cell_type": "code",
   "execution_count": 77,
   "metadata": {},
   "outputs": [
    {
     "output_type": "execute_result",
     "data": {
      "text/plain": [
       "[{'TEAM_ABBREVIATION': 'ATL', 'IS_HOME': 0},\n",
       " {'TEAM_ABBREVIATION': 'LAL', 'IS_HOME': 1}]"
      ]
     },
     "metadata": {},
     "execution_count": 77
    }
   ],
   "source": [
    "lineup_teams"
   ]
  },
  {
   "cell_type": "code",
   "execution_count": 76,
   "metadata": {},
   "outputs": [
    {
     "output_type": "execute_result",
     "data": {
      "text/plain": [
       "[<li class=\"lineup__status is-expected\">\n",
       " <div class=\"dot is-medium is-yellow\" style=\"margin-right:5px;\"></div>Expected Lineup\n",
       "             </li>,\n",
       " <li class=\"lineup__player is-pct-play-100\" title=\"Very Likely To Play\">\n",
       " <div class=\"lineup__pos\">PG</div>\n",
       " <a href=\"/basketball/player.php?id=4369\" title=\"Trae Young\">Trae Young</a>\n",
       " </li>,\n",
       " <li class=\"lineup__player is-pct-play-100\" title=\"Very Likely To Play\">\n",
       " <div class=\"lineup__pos\">SG</div>\n",
       " <a href=\"/basketball/player.php?id=4449\" title=\"Kevin Huerter\">Kevin Huerter</a>\n",
       " </li>,\n",
       " <li class=\"lineup__player is-pct-play-100\" title=\"Very Likely To Play\">\n",
       " <div class=\"lineup__pos\">SF</div>\n",
       " <a href=\"/basketball/player.php?id=3465\" title=\"Tony Snell\">Tony Snell</a>\n",
       " </li>,\n",
       " <li class=\"lineup__player is-pct-play-100\" title=\"Very Likely To Play\">\n",
       " <div class=\"lineup__pos\">PF</div>\n",
       " <a href=\"/basketball/player.php?id=4159\" title=\"John Collins\">John Collins</a>\n",
       " </li>,\n",
       " <li class=\"lineup__player is-pct-play-100\" title=\"Very Likely To Play\">\n",
       " <div class=\"lineup__pos\">C</div>\n",
       " <a href=\"/basketball/player.php?id=3587\" title=\"Clint Capela\">Clint Capela</a>\n",
       " </li>,\n",
       " <li class=\"lineup__title is-middle\">MAY NOT PLAY</li>,\n",
       " <li class=\"lineup__player is-pct-play-0 has-injury-status\" title=\"Very Unlikely To Play\">\n",
       " <div class=\"lineup__pos\" style=\"width:15px;\">G</div>\n",
       " <a href=\"/basketball/player.php?id=3854\" title=\"Kris Dunn\">K. Dunn</a>\n",
       " <span class=\"lineup__inj\">INACT</span> </li>,\n",
       " <li class=\"lineup__player is-pct-play-0 has-injury-status\" title=\"Very Unlikely To Play\">\n",
       " <div class=\"lineup__pos\" style=\"width:15px;\">G</div>\n",
       " <a href=\"/basketball/player.php?id=4552\" title=\"Brandon Goodwin\">B. Goodwin</a>\n",
       " <span class=\"lineup__inj\">OUT</span> </li>,\n",
       " <li class=\"lineup__player is-pct-play-0 has-injury-status\" title=\"Very Unlikely To Play\">\n",
       " <div class=\"lineup__pos\" style=\"width:15px;\">F</div>\n",
       " <a href=\"/basketball/player.php?id=4776\" title=\"De'Andre Hunter\">D. Hunter</a>\n",
       " <span class=\"lineup__inj\">OUT</span> </li>,\n",
       " <li class=\"lineup__player is-pct-play-0 has-injury-status\" title=\"Very Unlikely To Play\">\n",
       " <div class=\"lineup__pos\" style=\"width:15px;\">F</div>\n",
       " <a href=\"/basketball/player.php?id=4772\" title=\"Cam Reddish\">C. Reddish</a>\n",
       " <span class=\"lineup__inj\">OUT</span> </li>]"
      ]
     },
     "metadata": {},
     "execution_count": 76
    }
   ],
   "source": [
    "one_lineup.find_all('ul')[0].find_all('li')"
   ]
  },
  {
   "cell_type": "code",
   "execution_count": 47,
   "metadata": {},
   "outputs": [],
   "source": [
    "one_lineup_players = [x for x in one_lineup.find_all('li') if 'lineup__player' in str(x)]"
   ]
  },
  {
   "cell_type": "code",
   "execution_count": 61,
   "metadata": {},
   "outputs": [
    {
     "output_type": "stream",
     "name": "stdout",
     "text": [
      "0\n11\n"
     ]
    }
   ],
   "source": [
    "for i, j in enumerate(one_lineup.find_all('li')):\n",
    "    if 'Expected Lineup' in j.text:\n",
    "        print(i)"
   ]
  },
  {
   "cell_type": "code",
   "execution_count": null,
   "metadata": {},
   "outputs": [],
   "source": []
  },
  {
   "cell_type": "code",
   "execution_count": 60,
   "metadata": {},
   "outputs": [
    {
     "output_type": "execute_result",
     "data": {
      "text/plain": [
       "[<li class=\"lineup__status is-expected\">\n",
       " <div class=\"dot is-medium is-yellow\" style=\"margin-right:5px;\"></div>Expected Lineup\n",
       "             </li>,\n",
       " <li class=\"lineup__player is-pct-play-100\" title=\"Very Likely To Play\">\n",
       " <div class=\"lineup__pos\">PG</div>\n",
       " <a href=\"/basketball/player.php?id=4369\" title=\"Trae Young\">Trae Young</a>\n",
       " </li>,\n",
       " <li class=\"lineup__player is-pct-play-100\" title=\"Very Likely To Play\">\n",
       " <div class=\"lineup__pos\">SG</div>\n",
       " <a href=\"/basketball/player.php?id=4449\" title=\"Kevin Huerter\">Kevin Huerter</a>\n",
       " </li>,\n",
       " <li class=\"lineup__player is-pct-play-100\" title=\"Very Likely To Play\">\n",
       " <div class=\"lineup__pos\">SF</div>\n",
       " <a href=\"/basketball/player.php?id=3465\" title=\"Tony Snell\">Tony Snell</a>\n",
       " </li>,\n",
       " <li class=\"lineup__player is-pct-play-100\" title=\"Very Likely To Play\">\n",
       " <div class=\"lineup__pos\">PF</div>\n",
       " <a href=\"/basketball/player.php?id=4159\" title=\"John Collins\">John Collins</a>\n",
       " </li>,\n",
       " <li class=\"lineup__player is-pct-play-100\" title=\"Very Likely To Play\">\n",
       " <div class=\"lineup__pos\">C</div>\n",
       " <a href=\"/basketball/player.php?id=3587\" title=\"Clint Capela\">Clint Capela</a>\n",
       " </li>,\n",
       " <li class=\"lineup__title is-middle\">MAY NOT PLAY</li>,\n",
       " <li class=\"lineup__player is-pct-play-0 has-injury-status\" title=\"Very Unlikely To Play\">\n",
       " <div class=\"lineup__pos\" style=\"width:15px;\">G</div>\n",
       " <a href=\"/basketball/player.php?id=3854\" title=\"Kris Dunn\">K. Dunn</a>\n",
       " <span class=\"lineup__inj\">INACT</span> </li>,\n",
       " <li class=\"lineup__player is-pct-play-0 has-injury-status\" title=\"Very Unlikely To Play\">\n",
       " <div class=\"lineup__pos\" style=\"width:15px;\">G</div>\n",
       " <a href=\"/basketball/player.php?id=4552\" title=\"Brandon Goodwin\">B. Goodwin</a>\n",
       " <span class=\"lineup__inj\">OUT</span> </li>,\n",
       " <li class=\"lineup__player is-pct-play-0 has-injury-status\" title=\"Very Unlikely To Play\">\n",
       " <div class=\"lineup__pos\" style=\"width:15px;\">F</div>\n",
       " <a href=\"/basketball/player.php?id=4776\" title=\"De'Andre Hunter\">D. Hunter</a>\n",
       " <span class=\"lineup__inj\">OUT</span> </li>,\n",
       " <li class=\"lineup__player is-pct-play-0 has-injury-status\" title=\"Very Unlikely To Play\">\n",
       " <div class=\"lineup__pos\" style=\"width:15px;\">F</div>\n",
       " <a href=\"/basketball/player.php?id=4772\" title=\"Cam Reddish\">C. Reddish</a>\n",
       " <span class=\"lineup__inj\">OUT</span> </li>,\n",
       " <li class=\"lineup__status is-expected\">\n",
       " <div class=\"dot is-medium is-yellow\" style=\"margin-right:5px;\"></div>Expected Lineup\n",
       "             </li>,\n",
       " <li class=\"lineup__player is-pct-play-100\" title=\"Very Likely To Play\">\n",
       " <div class=\"lineup__pos\">PG</div>\n",
       " <a href=\"/basketball/player.php?id=3444\" title=\"Dennis Schroder\">D. Schroder</a>\n",
       " </li>,\n",
       " <li class=\"lineup__player is-pct-play-100\" title=\"Very Likely To Play\">\n",
       " <div class=\"lineup__pos\">SG</div>\n",
       " <a href=\"/basketball/player.php?id=3450\" title=\"Kentavious Caldwell-Pope\">K. Caldwell-Pope</a>\n",
       " </li>,\n",
       " <li class=\"lineup__player is-pct-play-75 has-injury-status\" title=\"Likely To Play\">\n",
       " <div class=\"lineup__pos\">SF</div>\n",
       " <a href=\"/basketball/player.php?id=2344\" title=\"LeBron James\">L. James</a>\n",
       " <span class=\"lineup__inj\">GTD</span> </li>,\n",
       " <li class=\"lineup__player is-pct-play-100\" title=\"Very Likely To Play\">\n",
       " <div class=\"lineup__pos\">PF</div>\n",
       " <a href=\"/basketball/player.php?id=3200\" title=\"Markieff Morris\">M. Morris</a>\n",
       " </li>,\n",
       " <li class=\"lineup__player is-pct-play-100\" title=\"Very Likely To Play\">\n",
       " <div class=\"lineup__pos\">C</div>\n",
       " <a href=\"/basketball/player.php?id=3879\" title=\"Damian Jones\">Damian Jones</a>\n",
       " </li>,\n",
       " <li class=\"lineup__title is-middle\">MAY NOT PLAY</li>,\n",
       " <li class=\"lineup__player is-pct-play-75 has-injury-status\" title=\"Likely To Play\">\n",
       " <div class=\"lineup__pos\" style=\"width:15px;\">F</div>\n",
       " <a href=\"/basketball/player.php?id=2344\" title=\"LeBron James\">L. James</a>\n",
       " <span class=\"lineup__inj\">GTD</span> </li>,\n",
       " <li class=\"lineup__player is-pct-play-0 has-injury-status\" title=\"Very Unlikely To Play\">\n",
       " <div class=\"lineup__pos\" style=\"width:15px;\">F</div>\n",
       " <a href=\"/basketball/player.php?id=3297\" title=\"Anthony Davis\">A. Davis</a>\n",
       " <span class=\"lineup__inj\">OUT</span> </li>,\n",
       " <li class=\"lineup__player is-pct-play-0 has-injury-status\" title=\"Very Unlikely To Play\">\n",
       " <div class=\"lineup__pos\" style=\"width:15px;\">F</div>\n",
       " <a href=\"/basketball/player.php?id=2856\" title=\"Jared Dudley\">J. Dudley</a>\n",
       " <span class=\"lineup__inj\">OUT</span> </li>,\n",
       " <li class=\"lineup__player is-pct-play-0 has-injury-status\" title=\"Very Unlikely To Play\">\n",
       " <div class=\"lineup__pos\" style=\"width:15px;\">C</div>\n",
       " <a href=\"/basketball/player.php?id=2831\" title=\"Marc Gasol\">Marc Gasol</a>\n",
       " <span class=\"lineup__inj\">OUT</span> </li>]"
      ]
     },
     "metadata": {},
     "execution_count": 60
    }
   ],
   "source": [
    "one_lineup.find_all('li')   "
   ]
  },
  {
   "cell_type": "code",
   "execution_count": null,
   "metadata": {},
   "outputs": [],
   "source": [
    "lineup_teams = []"
   ]
  },
  {
   "cell_type": "code",
   "execution_count": 63,
   "metadata": {},
   "outputs": [],
   "source": [
    "lineup_teams_raw = one_lineup.find('div', attrs={'class': 'lineup__teams'})"
   ]
  },
  {
   "cell_type": "code",
   "execution_count": null,
   "metadata": {},
   "outputs": [],
   "source": [
    "lineup"
   ]
  },
  {
   "cell_type": "code",
   "execution_count": 78,
   "metadata": {},
   "outputs": [],
   "source": [
    "lineup_teams = []\n",
    "for team in lineup_teams_raw.find_all('a'):\n",
    "    team_abbrev = team.find('div').text\n",
    "    home_away = team.get('class')[-1]\n",
    "    team_dict = {\n",
    "        'TEAM_ABBREVIATION': team_abbrev,\n",
    "        'HOME_AWAY': home_away\n",
    "    }\n",
    "    lineup_teams.append(team_dict)"
   ]
  },
  {
   "cell_type": "code",
   "execution_count": 79,
   "metadata": {},
   "outputs": [
    {
     "output_type": "stream",
     "name": "stdout",
     "text": [
      "[{'TEAM_ABBREVIATION': 'ATL', 'HOME_AWAY': 'is-visit'}, {'TEAM_ABBREVIATION': 'LAL', 'HOME_AWAY': 'is-home'}]\n"
     ]
    }
   ],
   "source": [
    "print(lineup_teams)"
   ]
  },
  {
   "cell_type": "code",
   "execution_count": 84,
   "metadata": {},
   "outputs": [
    {
     "output_type": "execute_result",
     "data": {
      "text/plain": [
       "<ul class=\"lineup__list is-visit\">\n",
       "<li class=\"lineup__status is-expected\">\n",
       "<div class=\"dot is-medium is-yellow\" style=\"margin-right:5px;\"></div>Expected Lineup\n",
       "            </li>\n",
       "<li class=\"lineup__player is-pct-play-100\" title=\"Very Likely To Play\">\n",
       "<div class=\"lineup__pos\">PG</div>\n",
       "<a href=\"/basketball/player.php?id=4369\" title=\"Trae Young\">Trae Young</a>\n",
       "</li>\n",
       "<li class=\"lineup__player is-pct-play-100\" title=\"Very Likely To Play\">\n",
       "<div class=\"lineup__pos\">SG</div>\n",
       "<a href=\"/basketball/player.php?id=4449\" title=\"Kevin Huerter\">Kevin Huerter</a>\n",
       "</li>\n",
       "<li class=\"lineup__player is-pct-play-100\" title=\"Very Likely To Play\">\n",
       "<div class=\"lineup__pos\">SF</div>\n",
       "<a href=\"/basketball/player.php?id=3465\" title=\"Tony Snell\">Tony Snell</a>\n",
       "</li>\n",
       "<li class=\"lineup__player is-pct-play-100\" title=\"Very Likely To Play\">\n",
       "<div class=\"lineup__pos\">PF</div>\n",
       "<a href=\"/basketball/player.php?id=4159\" title=\"John Collins\">John Collins</a>\n",
       "</li>\n",
       "<li class=\"lineup__player is-pct-play-100\" title=\"Very Likely To Play\">\n",
       "<div class=\"lineup__pos\">C</div>\n",
       "<a href=\"/basketball/player.php?id=3587\" title=\"Clint Capela\">Clint Capela</a>\n",
       "</li>\n",
       "<li class=\"lineup__title is-middle\">MAY NOT PLAY</li>\n",
       "<li class=\"lineup__player is-pct-play-0 has-injury-status\" title=\"Very Unlikely To Play\">\n",
       "<div class=\"lineup__pos\" style=\"width:15px;\">G</div>\n",
       "<a href=\"/basketball/player.php?id=3854\" title=\"Kris Dunn\">K. Dunn</a>\n",
       "<span class=\"lineup__inj\">INACT</span> </li>\n",
       "<li class=\"lineup__player is-pct-play-0 has-injury-status\" title=\"Very Unlikely To Play\">\n",
       "<div class=\"lineup__pos\" style=\"width:15px;\">G</div>\n",
       "<a href=\"/basketball/player.php?id=4552\" title=\"Brandon Goodwin\">B. Goodwin</a>\n",
       "<span class=\"lineup__inj\">OUT</span> </li>\n",
       "<li class=\"lineup__player is-pct-play-0 has-injury-status\" title=\"Very Unlikely To Play\">\n",
       "<div class=\"lineup__pos\" style=\"width:15px;\">F</div>\n",
       "<a href=\"/basketball/player.php?id=4776\" title=\"De'Andre Hunter\">D. Hunter</a>\n",
       "<span class=\"lineup__inj\">OUT</span> </li>\n",
       "<li class=\"lineup__player is-pct-play-0 has-injury-status\" title=\"Very Unlikely To Play\">\n",
       "<div class=\"lineup__pos\" style=\"width:15px;\">F</div>\n",
       "<a href=\"/basketball/player.php?id=4772\" title=\"Cam Reddish\">C. Reddish</a>\n",
       "<span class=\"lineup__inj\">OUT</span> </li>\n",
       "</ul>"
      ]
     },
     "metadata": {},
     "execution_count": 84
    }
   ],
   "source": [
    "[lineup for lineup in one_lineup.find_all('ul') if 'is-visit' in str(lineup)][0]"
   ]
  },
  {
   "cell_type": "code",
   "execution_count": 86,
   "metadata": {},
   "outputs": [],
   "source": [
    "lineups = one_lineup.find_all('ul')"
   ]
  },
  {
   "cell_type": "code",
   "execution_count": 90,
   "metadata": {},
   "outputs": [
    {
     "output_type": "stream",
     "name": "stdout",
     "text": [
      "{'TEAM_ABBREVIATION': 'ATL', 'HOME_AWAY': 'is-visit', 'TO_PLAY_DESC': 'Very Likely To Play', 'PLAYER_NAME': 'Trae Young', 'NAME_SHORT': 'Trae Young', 'STARTING_POSITION': 'PG'}\n{'TEAM_ABBREVIATION': 'ATL', 'HOME_AWAY': 'is-visit', 'TO_PLAY_DESC': 'Very Likely To Play', 'PLAYER_NAME': 'Kevin Huerter', 'NAME_SHORT': 'Kevin Huerter', 'STARTING_POSITION': 'SG'}\n{'TEAM_ABBREVIATION': 'ATL', 'HOME_AWAY': 'is-visit', 'TO_PLAY_DESC': 'Very Likely To Play', 'PLAYER_NAME': 'Tony Snell', 'NAME_SHORT': 'Tony Snell', 'STARTING_POSITION': 'SF'}\n{'TEAM_ABBREVIATION': 'ATL', 'HOME_AWAY': 'is-visit', 'TO_PLAY_DESC': 'Very Likely To Play', 'PLAYER_NAME': 'John Collins', 'NAME_SHORT': 'John Collins', 'STARTING_POSITION': 'PF'}\n{'TEAM_ABBREVIATION': 'ATL', 'HOME_AWAY': 'is-visit', 'TO_PLAY_DESC': 'Very Likely To Play', 'PLAYER_NAME': 'Clint Capela', 'NAME_SHORT': 'Clint Capela', 'STARTING_POSITION': 'C'}\n{'TEAM_ABBREVIATION': 'ATL', 'HOME_AWAY': 'is-visit', 'TO_PLAY_DESC': 'Very Unlikely To Play', 'PLAYER_NAME': 'Kris Dunn', 'NAME_SHORT': 'K. Dunn', 'STARTING_POSITION': 'G'}\n{'TEAM_ABBREVIATION': 'ATL', 'HOME_AWAY': 'is-visit', 'TO_PLAY_DESC': 'Very Unlikely To Play', 'PLAYER_NAME': 'Brandon Goodwin', 'NAME_SHORT': 'B. Goodwin', 'STARTING_POSITION': 'G'}\n{'TEAM_ABBREVIATION': 'ATL', 'HOME_AWAY': 'is-visit', 'TO_PLAY_DESC': 'Very Unlikely To Play', 'PLAYER_NAME': \"De'Andre Hunter\", 'NAME_SHORT': 'D. Hunter', 'STARTING_POSITION': 'F'}\n{'TEAM_ABBREVIATION': 'ATL', 'HOME_AWAY': 'is-visit', 'TO_PLAY_DESC': 'Very Unlikely To Play', 'PLAYER_NAME': 'Cam Reddish', 'NAME_SHORT': 'C. Reddish', 'STARTING_POSITION': 'F'}\n"
     ]
    }
   ],
   "source": [
    "for team in lineup_teams[:1]:\n",
    "    abbrev = team.get('TEAM_ABBREVIATION')\n",
    "    home_away = team.get('HOME_AWAY')\n",
    "    team_players_raw = [x for x in lineups if home_away in str(x)][0]\n",
    "    team_players_tags = [\n",
    "        x for x in team_players_raw.find_all('li') \n",
    "        if 'lineup__player' in str(x)\n",
    "        ]\n",
    "    for player in team_players_tags:\n",
    "        player_dict = {\n",
    "            'TEAM_ABBREVIATION': abbrev,\n",
    "            'HOME_AWAY': home_away,\n",
    "            'TO_PLAY_DESC': player.get('title'),\n",
    "            'PLAYER_NAME': player.find('a').get('title'),\n",
    "            'NAME_SHORT': player.find('a').text,\n",
    "            'STARTING_POSITION': player.find('div', attrs={'class', 'lineup__pos'}).text,\n",
    "        }\n",
    "        print(player_dict)"
   ]
  },
  {
   "cell_type": "code",
   "execution_count": 53,
   "metadata": {},
   "outputs": [
    {
     "output_type": "stream",
     "name": "stdout",
     "text": [
      "{'TO_PLAY_DESC': 'Very Likely To Play', 'PLAYER_NAME': 'Trae Young', 'NAME_SHORT': 'Trae Young', 'STARTING_POSITION': 'PG'}\n{'TO_PLAY_DESC': 'Very Likely To Play', 'PLAYER_NAME': 'Kevin Huerter', 'NAME_SHORT': 'Kevin Huerter', 'STARTING_POSITION': 'SG'}\n{'TO_PLAY_DESC': 'Very Likely To Play', 'PLAYER_NAME': 'Tony Snell', 'NAME_SHORT': 'Tony Snell', 'STARTING_POSITION': 'SF'}\n{'TO_PLAY_DESC': 'Very Likely To Play', 'PLAYER_NAME': 'John Collins', 'NAME_SHORT': 'John Collins', 'STARTING_POSITION': 'PF'}\n{'TO_PLAY_DESC': 'Very Likely To Play', 'PLAYER_NAME': 'Clint Capela', 'NAME_SHORT': 'Clint Capela', 'STARTING_POSITION': 'C'}\n{'TO_PLAY_DESC': 'Very Unlikely To Play', 'PLAYER_NAME': 'Kris Dunn', 'NAME_SHORT': 'K. Dunn', 'STARTING_POSITION': 'G'}\n{'TO_PLAY_DESC': 'Very Unlikely To Play', 'PLAYER_NAME': 'Brandon Goodwin', 'NAME_SHORT': 'B. Goodwin', 'STARTING_POSITION': 'G'}\n{'TO_PLAY_DESC': 'Very Unlikely To Play', 'PLAYER_NAME': \"De'Andre Hunter\", 'NAME_SHORT': 'D. Hunter', 'STARTING_POSITION': 'F'}\n{'TO_PLAY_DESC': 'Very Unlikely To Play', 'PLAYER_NAME': 'Cam Reddish', 'NAME_SHORT': 'C. Reddish', 'STARTING_POSITION': 'F'}\n{'TO_PLAY_DESC': 'Very Likely To Play', 'PLAYER_NAME': 'Dennis Schroder', 'NAME_SHORT': 'D. Schroder', 'STARTING_POSITION': 'PG'}\n{'TO_PLAY_DESC': 'Very Likely To Play', 'PLAYER_NAME': 'Kentavious Caldwell-Pope', 'NAME_SHORT': 'K. Caldwell-Pope', 'STARTING_POSITION': 'SG'}\n{'TO_PLAY_DESC': 'Likely To Play', 'PLAYER_NAME': 'LeBron James', 'NAME_SHORT': 'L. James', 'STARTING_POSITION': 'SF'}\n{'TO_PLAY_DESC': 'Very Likely To Play', 'PLAYER_NAME': 'Markieff Morris', 'NAME_SHORT': 'M. Morris', 'STARTING_POSITION': 'PF'}\n{'TO_PLAY_DESC': 'Very Likely To Play', 'PLAYER_NAME': 'Damian Jones', 'NAME_SHORT': 'Damian Jones', 'STARTING_POSITION': 'C'}\n{'TO_PLAY_DESC': 'Likely To Play', 'PLAYER_NAME': 'LeBron James', 'NAME_SHORT': 'L. James', 'STARTING_POSITION': 'F'}\n{'TO_PLAY_DESC': 'Very Unlikely To Play', 'PLAYER_NAME': 'Anthony Davis', 'NAME_SHORT': 'A. Davis', 'STARTING_POSITION': 'F'}\n{'TO_PLAY_DESC': 'Very Unlikely To Play', 'PLAYER_NAME': 'Jared Dudley', 'NAME_SHORT': 'J. Dudley', 'STARTING_POSITION': 'F'}\n{'TO_PLAY_DESC': 'Very Unlikely To Play', 'PLAYER_NAME': 'Marc Gasol', 'NAME_SHORT': 'Marc Gasol', 'STARTING_POSITION': 'C'}\n"
     ]
    }
   ],
   "source": [
    "for player in one_lineup_players:\n",
    "\n",
    "    print(player_dict)"
   ]
  }
 ]
}