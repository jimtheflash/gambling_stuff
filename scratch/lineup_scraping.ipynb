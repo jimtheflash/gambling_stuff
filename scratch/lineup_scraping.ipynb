{
 "metadata": {
  "language_info": {
   "codemirror_mode": {
    "name": "ipython",
    "version": 3
   },
   "file_extension": ".py",
   "mimetype": "text/x-python",
   "name": "python",
   "nbconvert_exporter": "python",
   "pygments_lexer": "ipython3",
   "version": "3.9.1-final"
  },
  "orig_nbformat": 2,
  "kernelspec": {
   "name": "python3",
   "display_name": "Python 3.9.1 64-bit ('.venv': venv)",
   "metadata": {
    "interpreter": {
     "hash": "5441275ed5cc7f93a6aaad3fbd4c5fc863fecfd6e48b72338f35e4d431669d52"
    }
   }
  }
 },
 "nbformat": 4,
 "nbformat_minor": 2,
 "cells": [
  {
   "cell_type": "code",
   "execution_count": 34,
   "metadata": {},
   "outputs": [],
   "source": [
    "from bs4 import BeautifulSoup\n",
    "import pathlib\n",
    "import requests as req\n",
    "import pandas as pd"
   ]
  },
  {
   "cell_type": "code",
   "execution_count": 4,
   "metadata": {},
   "outputs": [],
   "source": [
    "url = 'https://www.rotowire.com/basketball/nba-lineups.php'"
   ]
  },
  {
   "cell_type": "code",
   "execution_count": 5,
   "metadata": {},
   "outputs": [],
   "source": [
    "resp = req.get(url)"
   ]
  },
  {
   "cell_type": "code",
   "execution_count": 8,
   "metadata": {},
   "outputs": [],
   "source": [
    "soup = BeautifulSoup(resp.text)"
   ]
  },
  {
   "cell_type": "code",
   "execution_count": 33,
   "metadata": {},
   "outputs": [],
   "source": [
    "# soup.head()"
   ]
  },
  {
   "cell_type": "code",
   "execution_count": 14,
   "metadata": {},
   "outputs": [],
   "source": [
    "lineups_html = soup.find('div', attrs={'class': 'lineups'})"
   ]
  },
  {
   "cell_type": "code",
   "execution_count": 39,
   "metadata": {},
   "outputs": [
    {
     "output_type": "execute_result",
     "data": {
      "text/plain": [
       "bs4.element.Tag"
      ]
     },
     "metadata": {},
     "execution_count": 39
    }
   ],
   "source": [
    "type(lineups_html)"
   ]
  },
  {
   "cell_type": "code",
   "execution_count": null,
   "metadata": {},
   "outputs": [],
   "source": []
  },
  {
   "cell_type": "code",
   "execution_count": 36,
   "metadata": {},
   "outputs": [],
   "source": [
    "raw_filename = '/Users/johnschroeder/Documents/gambling_stuff/data/01_raw/nba_lineups/2021/03/20/rotowire.html'"
   ]
  },
  {
   "cell_type": "code",
   "execution_count": 40,
   "metadata": {},
   "outputs": [],
   "source": [
    "with open(raw_filename, 'w', encoding='utf-8') as fp:\n",
    "    fp.write(str(lineups_html))"
   ]
  },
  {
   "cell_type": "code",
   "execution_count": 41,
   "metadata": {},
   "outputs": [],
   "source": [
    "with open(raw_filename, 'r') as fp:\n",
    "    soup = BeautifulSoup(fp.read())"
   ]
  },
  {
   "cell_type": "code",
   "execution_count": 45,
   "metadata": {},
   "outputs": [
    {
     "output_type": "execute_result",
     "data": {
      "text/plain": [
       "1"
      ]
     },
     "metadata": {},
     "execution_count": 45
    }
   ],
   "source": [
    "soup.find_all()[0].find_all('div', attrs={'class': 'lineup__teams'})"
   ]
  },
  {
   "cell_type": "code",
   "execution_count": null,
   "metadata": {},
   "outputs": [],
   "source": [
    "lineups_html"
   ]
  },
  {
   "cell_type": "code",
   "execution_count": 91,
   "metadata": {},
   "outputs": [],
   "source": [
    "matchups_html = [\n",
    "    x for x \n",
    "    in lineups_html.find_all('div', attrs={'class': 'lineup__box'})\n",
    "    if 'lineup__teams' in str(x)\n",
    "    ]"
   ]
  },
  {
   "cell_type": "code",
   "execution_count": 117,
   "metadata": {},
   "outputs": [],
   "source": [
    "lineup_players_list = []\n",
    "for matchup_html in matchups_html:\n",
    "    matchup_teams_html = matchup_html.find('div', attrs={'class': 'lineup__teams'})\n",
    "    matchup = ''.join([x.text for x in matchup_teams_html.find_all('div')])\n",
    "    matchup_teams = [\n",
    "        {\n",
    "            'TEAM_ABBREVIATION': x.find('div').text,\n",
    "            'HOME_AWAY': x.get('class')[-1],\n",
    "            'MATCHUP': matchup,\n",
    "        }\n",
    "        for x in matchup_teams_html.find_all('a')\n",
    "    ]\n",
    "    for team in matchup_teams:\n",
    "        abbrev = team.get('TEAM_ABBREVIATION')\n",
    "        home_away = team.get('HOME_AWAY')\n",
    "        lineup_raw = [x for x in matchup_html.find_all('ul') if home_away in str(x)][0]\n",
    "        players_raw = [x for x in lineup_raw.find_all('li') if 'lineup__player' in str(x)]\n",
    "        for player in players_raw:\n",
    "            player_dict = {\n",
    "                'TEAM_ABBREVIATION': abbrev,\n",
    "                'HOME_AWAY': home_away,\n",
    "                'MATCHUP': matchup,\n",
    "                'TO_PLAY_DESC': player.get('title'),\n",
    "                'PLAYER_NAME': player.find('a').get('title'),\n",
    "                'NAME_SHORT': player.find('a').text,\n",
    "                'STARTING_POSITION': player.find(\n",
    "                    'div', attrs={'class', 'lineup__pos'}).text,\n",
    "            }\n",
    "            lineup_players_list.append(player_dict)"
   ]
  },
  {
   "cell_type": "code",
   "execution_count": 114,
   "metadata": {},
   "outputs": [],
   "source": [
    "lineup_df = pd.DataFrame(lineup_players_list).drop_duplicates()"
   ]
  },
  {
   "cell_type": "code",
   "execution_count": 115,
   "metadata": {},
   "outputs": [],
   "source": [
    "lineup_df.to_csv('/Users/johnschroeder/Documents/gambling_stuff/data/02_curated/nba_lineups/2021/03/20/rotowire.csv', index=False)"
   ]
  }
 ]
}