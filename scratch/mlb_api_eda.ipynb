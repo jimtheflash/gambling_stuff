{
 "metadata": {
  "language_info": {
   "codemirror_mode": {
    "name": "ipython",
    "version": 3
   },
   "file_extension": ".py",
   "mimetype": "text/x-python",
   "name": "python",
   "nbconvert_exporter": "python",
   "pygments_lexer": "ipython3",
   "version": "3.8.8"
  },
  "orig_nbformat": 2,
  "kernelspec": {
   "name": "python388jvsc74a57bd0660ec2fa4e3eeab39d0c54848b187086312f48f4fa251ac92b8223030e6dcbc4",
   "display_name": "Python 3.8.8 64-bit ('.venv': pipenv)"
  }
 },
 "nbformat": 4,
 "nbformat_minor": 2,
 "cells": [
  {
   "cell_type": "code",
   "execution_count": 1,
   "metadata": {},
   "outputs": [],
   "source": [
    "import requests as req"
   ]
  },
  {
   "cell_type": "code",
   "execution_count": 2,
   "metadata": {},
   "outputs": [],
   "source": [
    "from datetime import date\n",
    "\n",
    "\n",
    "BASE_URL = \"http://lookup-service-prod.mlb.com/json\"\n",
    "CURRENT_SEASON = date.today().year\n",
    "# Path: /named.[endpoint].bam\n"
   ]
  },
  {
   "cell_type": "code",
   "execution_count": 3,
   "metadata": {},
   "outputs": [],
   "source": [
    "get_teams_url = f\"{BASE_URL}/named.team_all_season.bam?sport_code='mlb'&season='{CURRENT_SEASON}'\"\n",
    "\n",
    "teams_req = req.get(get_teams_url)"
   ]
  },
  {
   "cell_type": "code",
   "execution_count": 20,
   "metadata": {},
   "outputs": [],
   "source": [
    "def get_teams(season: int = CURRENT_SEASON) -> dict:\n",
    "    get_teams_url = (\n",
    "        f\"{BASE_URL}/named.team_all_season.bam?sport_code='mlb'&season='{season}'\"\n",
    "    )\n",
    "\n",
    "    teams_resp = req.get(get_teams_url)\n",
    "    teams = teams_resp.json()\n",
    "    return teams"
   ]
  },
  {
   "cell_type": "code",
   "execution_count": null,
   "metadata": {},
   "outputs": [],
   "source": []
  },
  {
   "cell_type": "code",
   "execution_count": 21,
   "metadata": {},
   "outputs": [],
   "source": [
    "teams = get_teams()"
   ]
  },
  {
   "cell_type": "code",
   "execution_count": 22,
   "metadata": {},
   "outputs": [
    {
     "output_type": "execute_result",
     "data": {
      "text/plain": [
       "dict_keys(['team_all_season'])"
      ]
     },
     "metadata": {},
     "execution_count": 22
    }
   ],
   "source": [
    "teams.keys()"
   ]
  },
  {
   "cell_type": "code",
   "execution_count": 19,
   "metadata": {},
   "outputs": [
    {
     "output_type": "execute_result",
     "data": {
      "text/plain": [
       "{'phone_number': '(410) 685-9800',\n",
       " 'venue_name': 'Oriole Park at Camden Yards',\n",
       " 'franchise_code': 'MLA',\n",
       " 'all_star_sw': 'N',\n",
       " 'sport_code': 'mlb',\n",
       " 'address_city': 'Baltimore',\n",
       " 'city': 'Baltimore',\n",
       " 'name_display_full': 'Baltimore Orioles',\n",
       " 'spring_league_abbrev': 'GL',\n",
       " 'time_zone_alt': 'America/New_York',\n",
       " 'sport_id': '1',\n",
       " 'venue_id': '2',\n",
       " 'mlb_org_id': '110',\n",
       " 'time_zone_generic': 'ET',\n",
       " 'mlb_org': 'Baltimore Orioles',\n",
       " 'last_year_of_play': '2021',\n",
       " 'league_full': 'American League',\n",
       " 'home_opener_time': '3:05:00 PM',\n",
       " 'address_province': '',\n",
       " 'league_id': '103',\n",
       " 'name_abbrev': 'BAL',\n",
       " 'bis_team_code': 'BAL',\n",
       " 'league': 'AL',\n",
       " 'spring_league': 'GL',\n",
       " 'base_url': 'orioles.mlb.com',\n",
       " 'address_zip': '21201',\n",
       " 'sport_code_display': 'Major League Baseball',\n",
       " 'mlb_org_short': 'Baltimore',\n",
       " 'time_zone': 'ET',\n",
       " 'address_line1': '333 West Camden Street',\n",
       " 'mlb_org_brief': 'Orioles',\n",
       " 'address_line2': '',\n",
       " 'season': '2021',\n",
       " 'address_line3': '',\n",
       " 'division_abbrev': 'ALE',\n",
       " 'name_display_short': 'Baltimore',\n",
       " 'team_id': '110',\n",
       " 'active_sw': 'Y',\n",
       " 'address_intl': 'N',\n",
       " 'state': 'MD',\n",
       " 'address_country': '',\n",
       " 'mlb_org_abbrev': 'BAL',\n",
       " 'division': 'E',\n",
       " 'team_code': 'bal',\n",
       " 'name': 'Orioles',\n",
       " 'website_url': 'orioles.com',\n",
       " 'sport_code_name': 'MLB',\n",
       " 'first_year_of_play': '1901',\n",
       " 'league_abbrev': 'AL',\n",
       " 'name_display_long': 'Baltimore Orioles',\n",
       " 'store_url': 'baltimore.orioles.mlb.com',\n",
       " 'time_zone_text': 'EDT',\n",
       " 'name_short': 'Baltimore',\n",
       " 'home_opener': '2021-04-08T00:00:00',\n",
       " 'address_state': 'MD',\n",
       " 'division_full': 'American League East',\n",
       " 'time_zone_num': '-4',\n",
       " 'spring_league_full': 'Grapefruit League',\n",
       " 'address': '333 West Camden Street&#xa;Baltimore, MD&#x9;21201',\n",
       " 'name_display_brief': 'Orioles',\n",
       " 'file_code': 'bal',\n",
       " 'division_id': '201',\n",
       " 'spring_league_id': '115',\n",
       " 'venue_short': 'Oriole Park'}"
      ]
     },
     "metadata": {},
     "execution_count": 19
    }
   ],
   "source": [
    "teams[1]"
   ]
  },
  {
   "cell_type": "code",
   "execution_count": 23,
   "metadata": {},
   "outputs": [],
   "source": [
    "def get_team_current_roster(team_id: int) -> dict:\n",
    "    get_roster_url = f\"{BASE_URL}/named.roster_40.bam?team_id='{team_id}'\"\n",
    "    roster_resp = req.get(get_roster_url)\n",
    "    roster = roster_resp.json()\n",
    "    return roster"
   ]
  },
  {
   "cell_type": "code",
   "execution_count": 31,
   "metadata": {},
   "outputs": [],
   "source": [
    "roster = get_team_current_roster(110)"
   ]
  },
  {
   "cell_type": "code",
   "execution_count": 35,
   "metadata": {},
   "outputs": [
    {
     "output_type": "execute_result",
     "data": {
      "text/plain": [
       "{'position_txt': 'P',\n",
       " 'weight': '235',\n",
       " 'name_display_first_last': 'Keegan Akin',\n",
       " 'college': 'Western Michigan',\n",
       " 'height_inches': '11',\n",
       " 'starter_sw': '',\n",
       " 'jersey_number': '45',\n",
       " 'end_date': '',\n",
       " 'name_first': 'Keegan',\n",
       " 'bats': 'L',\n",
       " 'team_code': 'bal',\n",
       " 'height_feet': '5',\n",
       " 'pro_debut_date': '2020-08-14T00:00:00',\n",
       " 'status_code': 'A',\n",
       " 'primary_position': '1',\n",
       " 'birth_date': '1995-04-01T00:00:00',\n",
       " 'team_abbrev': 'BAL',\n",
       " 'throws': 'L',\n",
       " 'team_name': 'Baltimore Orioles',\n",
       " 'name_display_last_first': 'Akin, Keegan',\n",
       " 'name_use': 'Keegan',\n",
       " 'player_id': '669211',\n",
       " 'name_last': 'Akin',\n",
       " 'team_id': '110',\n",
       " 'start_date': '2019-11-20T00:00:00',\n",
       " 'name_full': 'Akin, Keegan'}"
      ]
     },
     "metadata": {},
     "execution_count": 35
    }
   ],
   "source": [
    "roster['roster_40']['queryResults']['row'][0]"
   ]
  },
  {
   "cell_type": "code",
   "execution_count": 16,
   "metadata": {},
   "outputs": [
    {
     "output_type": "execute_result",
     "data": {
      "text/plain": [
       "{'phone_number': '(202) 349-0400',\n",
       " 'venue_name': 'Nationals Park',\n",
       " 'franchise_code': 'AAS',\n",
       " 'all_star_sw': 'Y',\n",
       " 'sport_code': 'mlb',\n",
       " 'address_city': 'Washington',\n",
       " 'city': 'Washington',\n",
       " 'name_display_full': 'American League All-Stars',\n",
       " 'spring_league_abbrev': '',\n",
       " 'time_zone_alt': 'America/New_York',\n",
       " 'sport_id': '1',\n",
       " 'venue_id': '3309',\n",
       " 'mlb_org_id': '',\n",
       " 'time_zone_generic': 'ET',\n",
       " 'mlb_org': '',\n",
       " 'last_year_of_play': '2021',\n",
       " 'league_full': 'American League',\n",
       " 'home_opener_time': '',\n",
       " 'address_province': '',\n",
       " 'league_id': '103',\n",
       " 'name_abbrev': 'AL',\n",
       " 'bis_team_code': 'A',\n",
       " 'league': 'AL',\n",
       " 'spring_league': '',\n",
       " 'base_url': '',\n",
       " 'address_zip': '20003-1507',\n",
       " 'sport_code_display': 'Major League Baseball',\n",
       " 'mlb_org_short': '',\n",
       " 'time_zone': 'ET',\n",
       " 'address_line1': '1500 South Capitol Street, SE',\n",
       " 'mlb_org_brief': '',\n",
       " 'address_line2': '',\n",
       " 'season': '2021',\n",
       " 'address_line3': '',\n",
       " 'division_abbrev': '',\n",
       " 'name_display_short': 'AL All-Stars',\n",
       " 'team_id': '159',\n",
       " 'active_sw': 'Y',\n",
       " 'address_intl': 'N',\n",
       " 'state': 'DC',\n",
       " 'address_country': '',\n",
       " 'mlb_org_abbrev': '',\n",
       " 'division': '',\n",
       " 'team_code': 'aas',\n",
       " 'name': 'AL All-Stars',\n",
       " 'website_url': '',\n",
       " 'sport_code_name': 'MLB',\n",
       " 'first_year_of_play': '1933',\n",
       " 'league_abbrev': 'AL',\n",
       " 'name_display_long': 'American League All-Stars',\n",
       " 'store_url': '',\n",
       " 'time_zone_text': 'EDT',\n",
       " 'name_short': 'AL All-Stars',\n",
       " 'home_opener': '',\n",
       " 'address_state': 'DC',\n",
       " 'division_full': '',\n",
       " 'time_zone_num': '-4',\n",
       " 'spring_league_full': '',\n",
       " 'address': '1500 South Capitol Street, SE&#xa;Washington, DC&#x9;20003-1507',\n",
       " 'name_display_brief': 'AL All-Stars',\n",
       " 'file_code': 'al',\n",
       " 'division_id': '',\n",
       " 'spring_league_id': '',\n",
       " 'venue_short': 'Nationals Park'}"
      ]
     },
     "metadata": {},
     "execution_count": 16
    }
   ],
   "source": [
    "teams_req.json()['team_all_season']['queryResults']['row'][0]"
   ]
  },
  {
   "cell_type": "code",
   "execution_count": null,
   "metadata": {},
   "outputs": [],
   "source": []
  }
 ]
}