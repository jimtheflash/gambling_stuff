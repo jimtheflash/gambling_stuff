{
 "metadata": {
  "language_info": {
   "codemirror_mode": {
    "name": "ipython",
    "version": 3
   },
   "file_extension": ".py",
   "mimetype": "text/x-python",
   "name": "python",
   "nbconvert_exporter": "python",
   "pygments_lexer": "ipython3",
   "version": "3.8.8"
  },
  "orig_nbformat": 2,
  "kernelspec": {
   "name": "python388jvsc74a57bd0660ec2fa4e3eeab39d0c54848b187086312f48f4fa251ac92b8223030e6dcbc4",
   "display_name": "Python 3.8.8 64-bit ('.venv': pipenv)"
  }
 },
 "nbformat": 4,
 "nbformat_minor": 2,
 "cells": [
  {
   "cell_type": "code",
   "execution_count": 5,
   "metadata": {},
   "outputs": [],
   "source": [
    "import requests as req"
   ]
  },
  {
   "cell_type": "code",
   "execution_count": 6,
   "metadata": {},
   "outputs": [],
   "source": [
    "from datetime import date\n",
    "\n",
    "\n",
    "BASE_URL = \"http://lookup-service-prod.mlb.com/json\"\n",
    "CURRENT_SEASON = date.today().year\n",
    "# Path: /named.[endpoint].bam\n"
   ]
  },
  {
   "cell_type": "code",
   "execution_count": 7,
   "metadata": {},
   "outputs": [],
   "source": [
    "get_teams_url = f\"{BASE_URL}/named.team_all_season.bam?sport_code='mlb'&season='{CURRENT_SEASON}'\"\n",
    "\n",
    "teams_req = req.get(get_teams_url)"
   ]
  },
  {
   "cell_type": "code",
   "execution_count": 20,
   "metadata": {},
   "outputs": [],
   "source": [
    "def get_teams(season: int = CURRENT_SEASON) -> dict:\n",
    "    get_teams_url = (\n",
    "        f\"{BASE_URL}/named.team_all_season.bam?sport_code='mlb'&season='{season}'\"\n",
    "    )\n",
    "\n",
    "    teams_resp = req.get(get_teams_url)\n",
    "    teams = teams_resp.json()\n",
    "    return teams"
   ]
  },
  {
   "cell_type": "code",
   "execution_count": null,
   "metadata": {},
   "outputs": [],
   "source": []
  },
  {
   "cell_type": "code",
   "execution_count": 21,
   "metadata": {},
   "outputs": [],
   "source": [
    "teams = get_teams()"
   ]
  },
  {
   "cell_type": "code",
   "execution_count": 22,
   "metadata": {},
   "outputs": [
    {
     "output_type": "execute_result",
     "data": {
      "text/plain": [
       "dict_keys(['team_all_season'])"
      ]
     },
     "metadata": {},
     "execution_count": 22
    }
   ],
   "source": [
    "teams.keys()"
   ]
  },
  {
   "cell_type": "code",
   "execution_count": 19,
   "metadata": {},
   "outputs": [
    {
     "output_type": "execute_result",
     "data": {
      "text/plain": [
       "{'phone_number': '(410) 685-9800',\n",
       " 'venue_name': 'Oriole Park at Camden Yards',\n",
       " 'franchise_code': 'MLA',\n",
       " 'all_star_sw': 'N',\n",
       " 'sport_code': 'mlb',\n",
       " 'address_city': 'Baltimore',\n",
       " 'city': 'Baltimore',\n",
       " 'name_display_full': 'Baltimore Orioles',\n",
       " 'spring_league_abbrev': 'GL',\n",
       " 'time_zone_alt': 'America/New_York',\n",
       " 'sport_id': '1',\n",
       " 'venue_id': '2',\n",
       " 'mlb_org_id': '110',\n",
       " 'time_zone_generic': 'ET',\n",
       " 'mlb_org': 'Baltimore Orioles',\n",
       " 'last_year_of_play': '2021',\n",
       " 'league_full': 'American League',\n",
       " 'home_opener_time': '3:05:00 PM',\n",
       " 'address_province': '',\n",
       " 'league_id': '103',\n",
       " 'name_abbrev': 'BAL',\n",
       " 'bis_team_code': 'BAL',\n",
       " 'league': 'AL',\n",
       " 'spring_league': 'GL',\n",
       " 'base_url': 'orioles.mlb.com',\n",
       " 'address_zip': '21201',\n",
       " 'sport_code_display': 'Major League Baseball',\n",
       " 'mlb_org_short': 'Baltimore',\n",
       " 'time_zone': 'ET',\n",
       " 'address_line1': '333 West Camden Street',\n",
       " 'mlb_org_brief': 'Orioles',\n",
       " 'address_line2': '',\n",
       " 'season': '2021',\n",
       " 'address_line3': '',\n",
       " 'division_abbrev': 'ALE',\n",
       " 'name_display_short': 'Baltimore',\n",
       " 'team_id': '110',\n",
       " 'active_sw': 'Y',\n",
       " 'address_intl': 'N',\n",
       " 'state': 'MD',\n",
       " 'address_country': '',\n",
       " 'mlb_org_abbrev': 'BAL',\n",
       " 'division': 'E',\n",
       " 'team_code': 'bal',\n",
       " 'name': 'Orioles',\n",
       " 'website_url': 'orioles.com',\n",
       " 'sport_code_name': 'MLB',\n",
       " 'first_year_of_play': '1901',\n",
       " 'league_abbrev': 'AL',\n",
       " 'name_display_long': 'Baltimore Orioles',\n",
       " 'store_url': 'baltimore.orioles.mlb.com',\n",
       " 'time_zone_text': 'EDT',\n",
       " 'name_short': 'Baltimore',\n",
       " 'home_opener': '2021-04-08T00:00:00',\n",
       " 'address_state': 'MD',\n",
       " 'division_full': 'American League East',\n",
       " 'time_zone_num': '-4',\n",
       " 'spring_league_full': 'Grapefruit League',\n",
       " 'address': '333 West Camden Street&#xa;Baltimore, MD&#x9;21201',\n",
       " 'name_display_brief': 'Orioles',\n",
       " 'file_code': 'bal',\n",
       " 'division_id': '201',\n",
       " 'spring_league_id': '115',\n",
       " 'venue_short': 'Oriole Park'}"
      ]
     },
     "metadata": {},
     "execution_count": 19
    }
   ],
   "source": [
    "teams[1]"
   ]
  },
  {
   "cell_type": "code",
   "execution_count": 8,
   "metadata": {},
   "outputs": [],
   "source": [
    "def get_team_current_roster(team_id: int) -> dict:\n",
    "    get_roster_url = f\"{BASE_URL}/named.roster_40.bam?team_id='{team_id}'\"\n",
    "    roster_resp = req.get(get_roster_url)\n",
    "    roster = roster_resp.json()\n",
    "    return roster"
   ]
  },
  {
   "cell_type": "code",
   "execution_count": 9,
   "metadata": {},
   "outputs": [],
   "source": [
    "roster = get_team_current_roster(133)"
   ]
  },
  {
   "cell_type": "code",
   "execution_count": 10,
   "metadata": {},
   "outputs": [
    {
     "output_type": "execute_result",
     "data": {
      "text/plain": [
       "{'position_txt': 'C',\n",
       " 'weight': '219',\n",
       " 'name_display_first_last': 'Austin Allen',\n",
       " 'college': 'Florida Tech',\n",
       " 'height_inches': '2',\n",
       " 'starter_sw': 'N',\n",
       " 'jersey_number': '30',\n",
       " 'end_date': '',\n",
       " 'name_first': 'Austin',\n",
       " 'bats': 'L',\n",
       " 'team_code': 'oak',\n",
       " 'height_feet': '6',\n",
       " 'pro_debut_date': '2019-05-11T00:00:00',\n",
       " 'status_code': 'RM',\n",
       " 'primary_position': '2',\n",
       " 'birth_date': '1994-01-16T00:00:00',\n",
       " 'team_abbrev': 'OAK',\n",
       " 'throws': 'R',\n",
       " 'team_name': 'Oakland Athletics',\n",
       " 'name_display_last_first': 'Allen, Austin',\n",
       " 'name_use': 'Austin',\n",
       " 'player_id': '664119',\n",
       " 'name_last': 'Allen',\n",
       " 'team_id': '133',\n",
       " 'start_date': '2019-12-02T00:00:00',\n",
       " 'name_full': 'Allen, Austin'}"
      ]
     },
     "metadata": {},
     "execution_count": 10
    }
   ],
   "source": [
    "roster['roster_40']['queryResults']['row'][0]"
   ]
  },
  {
   "cell_type": "code",
   "execution_count": 16,
   "metadata": {},
   "outputs": [
    {
     "output_type": "execute_result",
     "data": {
      "text/plain": [
       "{'phone_number': '(202) 349-0400',\n",
       " 'venue_name': 'Nationals Park',\n",
       " 'franchise_code': 'AAS',\n",
       " 'all_star_sw': 'Y',\n",
       " 'sport_code': 'mlb',\n",
       " 'address_city': 'Washington',\n",
       " 'city': 'Washington',\n",
       " 'name_display_full': 'American League All-Stars',\n",
       " 'spring_league_abbrev': '',\n",
       " 'time_zone_alt': 'America/New_York',\n",
       " 'sport_id': '1',\n",
       " 'venue_id': '3309',\n",
       " 'mlb_org_id': '',\n",
       " 'time_zone_generic': 'ET',\n",
       " 'mlb_org': '',\n",
       " 'last_year_of_play': '2021',\n",
       " 'league_full': 'American League',\n",
       " 'home_opener_time': '',\n",
       " 'address_province': '',\n",
       " 'league_id': '103',\n",
       " 'name_abbrev': 'AL',\n",
       " 'bis_team_code': 'A',\n",
       " 'league': 'AL',\n",
       " 'spring_league': '',\n",
       " 'base_url': '',\n",
       " 'address_zip': '20003-1507',\n",
       " 'sport_code_display': 'Major League Baseball',\n",
       " 'mlb_org_short': '',\n",
       " 'time_zone': 'ET',\n",
       " 'address_line1': '1500 South Capitol Street, SE',\n",
       " 'mlb_org_brief': '',\n",
       " 'address_line2': '',\n",
       " 'season': '2021',\n",
       " 'address_line3': '',\n",
       " 'division_abbrev': '',\n",
       " 'name_display_short': 'AL All-Stars',\n",
       " 'team_id': '159',\n",
       " 'active_sw': 'Y',\n",
       " 'address_intl': 'N',\n",
       " 'state': 'DC',\n",
       " 'address_country': '',\n",
       " 'mlb_org_abbrev': '',\n",
       " 'division': '',\n",
       " 'team_code': 'aas',\n",
       " 'name': 'AL All-Stars',\n",
       " 'website_url': '',\n",
       " 'sport_code_name': 'MLB',\n",
       " 'first_year_of_play': '1933',\n",
       " 'league_abbrev': 'AL',\n",
       " 'name_display_long': 'American League All-Stars',\n",
       " 'store_url': '',\n",
       " 'time_zone_text': 'EDT',\n",
       " 'name_short': 'AL All-Stars',\n",
       " 'home_opener': '',\n",
       " 'address_state': 'DC',\n",
       " 'division_full': '',\n",
       " 'time_zone_num': '-4',\n",
       " 'spring_league_full': '',\n",
       " 'address': '1500 South Capitol Street, SE&#xa;Washington, DC&#x9;20003-1507',\n",
       " 'name_display_brief': 'AL All-Stars',\n",
       " 'file_code': 'al',\n",
       " 'division_id': '',\n",
       " 'spring_league_id': '',\n",
       " 'venue_short': 'Nationals Park'}"
      ]
     },
     "metadata": {},
     "execution_count": 16
    }
   ],
   "source": [
    "teams_req.json()['team_all_season']['queryResults']['row'][0]"
   ]
  },
  {
   "cell_type": "code",
   "execution_count": 19,
   "metadata": {},
   "outputs": [],
   "source": [
    "from statsapi import *"
   ]
  },
  {
   "cell_type": "code",
   "execution_count": 3,
   "metadata": {},
   "outputs": [],
   "source": [
    "teams = lookup_team(lookup_value='')"
   ]
  },
  {
   "cell_type": "code",
   "execution_count": 4,
   "metadata": {},
   "outputs": [
    {
     "output_type": "execute_result",
     "data": {
      "text/plain": [
       "[{'id': 133,\n",
       "  'name': 'Oakland Athletics',\n",
       "  'teamCode': 'oak',\n",
       "  'fileCode': 'oak',\n",
       "  'teamName': 'Athletics',\n",
       "  'locationName': 'Oakland',\n",
       "  'shortName': 'Oakland'},\n",
       " {'id': 134,\n",
       "  'name': 'Pittsburgh Pirates',\n",
       "  'teamCode': 'pit',\n",
       "  'fileCode': 'pit',\n",
       "  'teamName': 'Pirates',\n",
       "  'locationName': 'Pittsburgh',\n",
       "  'shortName': 'Pittsburgh'},\n",
       " {'id': 135,\n",
       "  'name': 'San Diego Padres',\n",
       "  'teamCode': 'sdn',\n",
       "  'fileCode': 'sd',\n",
       "  'teamName': 'Padres',\n",
       "  'locationName': 'San Diego',\n",
       "  'shortName': 'San Diego'},\n",
       " {'id': 136,\n",
       "  'name': 'Seattle Mariners',\n",
       "  'teamCode': 'sea',\n",
       "  'fileCode': 'sea',\n",
       "  'teamName': 'Mariners',\n",
       "  'locationName': 'Seattle',\n",
       "  'shortName': 'Seattle'},\n",
       " {'id': 137,\n",
       "  'name': 'San Francisco Giants',\n",
       "  'teamCode': 'sfn',\n",
       "  'fileCode': 'sf',\n",
       "  'teamName': 'Giants',\n",
       "  'locationName': 'San Francisco',\n",
       "  'shortName': 'San Francisco'},\n",
       " {'id': 138,\n",
       "  'name': 'St. Louis Cardinals',\n",
       "  'teamCode': 'sln',\n",
       "  'fileCode': 'stl',\n",
       "  'teamName': 'Cardinals',\n",
       "  'locationName': 'St. Louis',\n",
       "  'shortName': 'St. Louis'},\n",
       " {'id': 139,\n",
       "  'name': 'Tampa Bay Rays',\n",
       "  'teamCode': 'tba',\n",
       "  'fileCode': 'tb',\n",
       "  'teamName': 'Rays',\n",
       "  'locationName': 'St. Petersburg',\n",
       "  'shortName': 'Tampa Bay'},\n",
       " {'id': 140,\n",
       "  'name': 'Texas Rangers',\n",
       "  'teamCode': 'tex',\n",
       "  'fileCode': 'tex',\n",
       "  'teamName': 'Rangers',\n",
       "  'locationName': 'Arlington',\n",
       "  'shortName': 'Texas'},\n",
       " {'id': 141,\n",
       "  'name': 'Toronto Blue Jays',\n",
       "  'teamCode': 'tor',\n",
       "  'fileCode': 'tor',\n",
       "  'teamName': 'Blue Jays',\n",
       "  'locationName': 'Toronto',\n",
       "  'shortName': 'Toronto'},\n",
       " {'id': 142,\n",
       "  'name': 'Minnesota Twins',\n",
       "  'teamCode': 'min',\n",
       "  'fileCode': 'min',\n",
       "  'teamName': 'Twins',\n",
       "  'locationName': 'Minneapolis',\n",
       "  'shortName': 'Minnesota'},\n",
       " {'id': 143,\n",
       "  'name': 'Philadelphia Phillies',\n",
       "  'teamCode': 'phi',\n",
       "  'fileCode': 'phi',\n",
       "  'teamName': 'Phillies',\n",
       "  'locationName': 'Philadelphia',\n",
       "  'shortName': 'Philadelphia'},\n",
       " {'id': 144,\n",
       "  'name': 'Atlanta Braves',\n",
       "  'teamCode': 'atl',\n",
       "  'fileCode': 'atl',\n",
       "  'teamName': 'Braves',\n",
       "  'locationName': 'Atlanta',\n",
       "  'shortName': 'Atlanta'},\n",
       " {'id': 145,\n",
       "  'name': 'Chicago White Sox',\n",
       "  'teamCode': 'cha',\n",
       "  'fileCode': 'cws',\n",
       "  'teamName': 'White Sox',\n",
       "  'locationName': 'Chicago',\n",
       "  'shortName': 'Chi White Sox'},\n",
       " {'id': 146,\n",
       "  'name': 'Miami Marlins',\n",
       "  'teamCode': 'mia',\n",
       "  'fileCode': 'mia',\n",
       "  'teamName': 'Marlins',\n",
       "  'locationName': 'Miami',\n",
       "  'shortName': 'Miami'},\n",
       " {'id': 147,\n",
       "  'name': 'New York Yankees',\n",
       "  'teamCode': 'nya',\n",
       "  'fileCode': 'nyy',\n",
       "  'teamName': 'Yankees',\n",
       "  'locationName': 'Bronx',\n",
       "  'shortName': 'NY Yankees'},\n",
       " {'id': 158,\n",
       "  'name': 'Milwaukee Brewers',\n",
       "  'teamCode': 'mil',\n",
       "  'fileCode': 'mil',\n",
       "  'teamName': 'Brewers',\n",
       "  'locationName': 'Milwaukee',\n",
       "  'shortName': 'Milwaukee'},\n",
       " {'id': 108,\n",
       "  'name': 'Los Angeles Angels',\n",
       "  'teamCode': 'ana',\n",
       "  'fileCode': 'ana',\n",
       "  'teamName': 'Angels',\n",
       "  'locationName': 'Anaheim',\n",
       "  'shortName': 'LA Angels'},\n",
       " {'id': 109,\n",
       "  'name': 'Arizona Diamondbacks',\n",
       "  'teamCode': 'ari',\n",
       "  'fileCode': 'ari',\n",
       "  'teamName': 'D-backs',\n",
       "  'locationName': 'Phoenix',\n",
       "  'shortName': 'Arizona'},\n",
       " {'id': 110,\n",
       "  'name': 'Baltimore Orioles',\n",
       "  'teamCode': 'bal',\n",
       "  'fileCode': 'bal',\n",
       "  'teamName': 'Orioles',\n",
       "  'locationName': 'Baltimore',\n",
       "  'shortName': 'Baltimore'},\n",
       " {'id': 111,\n",
       "  'name': 'Boston Red Sox',\n",
       "  'teamCode': 'bos',\n",
       "  'fileCode': 'bos',\n",
       "  'teamName': 'Red Sox',\n",
       "  'locationName': 'Boston',\n",
       "  'shortName': 'Boston'},\n",
       " {'id': 112,\n",
       "  'name': 'Chicago Cubs',\n",
       "  'teamCode': 'chn',\n",
       "  'fileCode': 'chc',\n",
       "  'teamName': 'Cubs',\n",
       "  'locationName': 'Chicago',\n",
       "  'shortName': 'Chi Cubs'},\n",
       " {'id': 113,\n",
       "  'name': 'Cincinnati Reds',\n",
       "  'teamCode': 'cin',\n",
       "  'fileCode': 'cin',\n",
       "  'teamName': 'Reds',\n",
       "  'locationName': 'Cincinnati',\n",
       "  'shortName': 'Cincinnati'},\n",
       " {'id': 114,\n",
       "  'name': 'Cleveland Indians',\n",
       "  'teamCode': 'cle',\n",
       "  'fileCode': 'cle',\n",
       "  'teamName': 'Indians',\n",
       "  'locationName': 'Cleveland',\n",
       "  'shortName': 'Cleveland'},\n",
       " {'id': 115,\n",
       "  'name': 'Colorado Rockies',\n",
       "  'teamCode': 'col',\n",
       "  'fileCode': 'col',\n",
       "  'teamName': 'Rockies',\n",
       "  'locationName': 'Denver',\n",
       "  'shortName': 'Colorado'},\n",
       " {'id': 116,\n",
       "  'name': 'Detroit Tigers',\n",
       "  'teamCode': 'det',\n",
       "  'fileCode': 'det',\n",
       "  'teamName': 'Tigers',\n",
       "  'locationName': 'Detroit',\n",
       "  'shortName': 'Detroit'},\n",
       " {'id': 117,\n",
       "  'name': 'Houston Astros',\n",
       "  'teamCode': 'hou',\n",
       "  'fileCode': 'hou',\n",
       "  'teamName': 'Astros',\n",
       "  'locationName': 'Houston',\n",
       "  'shortName': 'Houston'},\n",
       " {'id': 118,\n",
       "  'name': 'Kansas City Royals',\n",
       "  'teamCode': 'kca',\n",
       "  'fileCode': 'kc',\n",
       "  'teamName': 'Royals',\n",
       "  'locationName': 'Kansas City',\n",
       "  'shortName': 'Kansas City'},\n",
       " {'id': 119,\n",
       "  'name': 'Los Angeles Dodgers',\n",
       "  'teamCode': 'lan',\n",
       "  'fileCode': 'la',\n",
       "  'teamName': 'Dodgers',\n",
       "  'locationName': 'Los Angeles',\n",
       "  'shortName': 'LA Dodgers'},\n",
       " {'id': 120,\n",
       "  'name': 'Washington Nationals',\n",
       "  'teamCode': 'was',\n",
       "  'fileCode': 'was',\n",
       "  'teamName': 'Nationals',\n",
       "  'locationName': 'Washington',\n",
       "  'shortName': 'Washington'},\n",
       " {'id': 121,\n",
       "  'name': 'New York Mets',\n",
       "  'teamCode': 'nyn',\n",
       "  'fileCode': 'nym',\n",
       "  'teamName': 'Mets',\n",
       "  'locationName': 'Flushing',\n",
       "  'shortName': 'NY Mets'}]"
      ]
     },
     "metadata": {},
     "execution_count": 4
    }
   ],
   "source": [
    "teams"
   ]
  },
  {
   "cell_type": "code",
   "execution_count": 15,
   "metadata": {},
   "outputs": [],
   "source": [
    "def get_teams(season: int = date.today().year) -> pd.DataFrame:\n",
    "    teams_raw = lookup_team(lookup_value='')\n",
    "    teams = pd.DataFrame(teams_raw)\n",
    "    return teams"
   ]
  },
  {
   "cell_type": "code",
   "execution_count": 16,
   "metadata": {},
   "outputs": [],
   "source": [
    "import pandas as pd"
   ]
  },
  {
   "cell_type": "code",
   "execution_count": 17,
   "metadata": {},
   "outputs": [],
   "source": [
    "teams = get_teams()"
   ]
  },
  {
   "cell_type": "code",
   "execution_count": 18,
   "metadata": {},
   "outputs": [
    {
     "output_type": "execute_result",
     "data": {
      "text/plain": [
       "    id                  name teamCode fileCode   teamName   locationName  \\\n",
       "0  133     Oakland Athletics      oak      oak  Athletics        Oakland   \n",
       "1  134    Pittsburgh Pirates      pit      pit    Pirates     Pittsburgh   \n",
       "2  135      San Diego Padres      sdn       sd     Padres      San Diego   \n",
       "3  136      Seattle Mariners      sea      sea   Mariners        Seattle   \n",
       "4  137  San Francisco Giants      sfn       sf     Giants  San Francisco   \n",
       "\n",
       "       shortName  \n",
       "0        Oakland  \n",
       "1     Pittsburgh  \n",
       "2      San Diego  \n",
       "3        Seattle  \n",
       "4  San Francisco  "
      ],
      "text/html": "<div>\n<style scoped>\n    .dataframe tbody tr th:only-of-type {\n        vertical-align: middle;\n    }\n\n    .dataframe tbody tr th {\n        vertical-align: top;\n    }\n\n    .dataframe thead th {\n        text-align: right;\n    }\n</style>\n<table border=\"1\" class=\"dataframe\">\n  <thead>\n    <tr style=\"text-align: right;\">\n      <th></th>\n      <th>id</th>\n      <th>name</th>\n      <th>teamCode</th>\n      <th>fileCode</th>\n      <th>teamName</th>\n      <th>locationName</th>\n      <th>shortName</th>\n    </tr>\n  </thead>\n  <tbody>\n    <tr>\n      <th>0</th>\n      <td>133</td>\n      <td>Oakland Athletics</td>\n      <td>oak</td>\n      <td>oak</td>\n      <td>Athletics</td>\n      <td>Oakland</td>\n      <td>Oakland</td>\n    </tr>\n    <tr>\n      <th>1</th>\n      <td>134</td>\n      <td>Pittsburgh Pirates</td>\n      <td>pit</td>\n      <td>pit</td>\n      <td>Pirates</td>\n      <td>Pittsburgh</td>\n      <td>Pittsburgh</td>\n    </tr>\n    <tr>\n      <th>2</th>\n      <td>135</td>\n      <td>San Diego Padres</td>\n      <td>sdn</td>\n      <td>sd</td>\n      <td>Padres</td>\n      <td>San Diego</td>\n      <td>San Diego</td>\n    </tr>\n    <tr>\n      <th>3</th>\n      <td>136</td>\n      <td>Seattle Mariners</td>\n      <td>sea</td>\n      <td>sea</td>\n      <td>Mariners</td>\n      <td>Seattle</td>\n      <td>Seattle</td>\n    </tr>\n    <tr>\n      <th>4</th>\n      <td>137</td>\n      <td>San Francisco Giants</td>\n      <td>sfn</td>\n      <td>sf</td>\n      <td>Giants</td>\n      <td>San Francisco</td>\n      <td>San Francisco</td>\n    </tr>\n  </tbody>\n</table>\n</div>"
     },
     "metadata": {},
     "execution_count": 18
    }
   ],
   "source": [
    "teams.head()"
   ]
  },
  {
   "cell_type": "code",
   "execution_count": 21,
   "metadata": {},
   "outputs": [],
   "source": [
    "from datetime import date\n",
    "\n",
    "import pandas as pd\n",
    "from statsapi import lookup_team, roster\n",
    "\n",
    "\n",
    "def get_teams(season: int = date.today().year) -> pd.DataFrame:\n",
    "    teams_raw = lookup_team(lookup_value=\"\", season=season)\n",
    "    teams = pd.DataFrame(teams_raw)\n",
    "    return teams\n",
    "\n",
    "\n",
    "def get_team_season_roster(team_id: int, season: int) -> pd.DataFrame:\n",
    "    roster_raw = roster(teamId=team_id, season=season)\n",
    "    team_roster = pd.DataFrame(roster_raw)\n",
    "    return team_roster\n"
   ]
  },
  {
   "cell_type": "code",
   "execution_count": 22,
   "metadata": {},
   "outputs": [
    {
     "output_type": "execute_result",
     "data": {
      "text/plain": [
       "     id                   name teamCode fileCode   teamName    locationName  \\\n",
       "0   133      Oakland Athletics      oak      oak  Athletics         Oakland   \n",
       "1   134     Pittsburgh Pirates      pit      pit    Pirates      Pittsburgh   \n",
       "2   135       San Diego Padres      sdn       sd     Padres       San Diego   \n",
       "3   136       Seattle Mariners      sea      sea   Mariners         Seattle   \n",
       "4   137   San Francisco Giants      sfn       sf     Giants   San Francisco   \n",
       "5   138    St. Louis Cardinals      sln      stl  Cardinals       St. Louis   \n",
       "6   139         Tampa Bay Rays      tba       tb       Rays  St. Petersburg   \n",
       "7   140          Texas Rangers      tex      tex    Rangers       Arlington   \n",
       "8   141      Toronto Blue Jays      tor      tor  Blue Jays         Toronto   \n",
       "9   142        Minnesota Twins      min      min      Twins     Minneapolis   \n",
       "10  143  Philadelphia Phillies      phi      phi   Phillies    Philadelphia   \n",
       "11  144         Atlanta Braves      atl      atl     Braves         Atlanta   \n",
       "12  145      Chicago White Sox      cha      cws  White Sox         Chicago   \n",
       "13  146          Miami Marlins      mia      mia    Marlins           Miami   \n",
       "14  147       New York Yankees      nya      nyy    Yankees           Bronx   \n",
       "15  158      Milwaukee Brewers      mil      mil    Brewers       Milwaukee   \n",
       "16  108     Los Angeles Angels      ana      ana     Angels         Anaheim   \n",
       "17  109   Arizona Diamondbacks      ari      ari    D-backs         Phoenix   \n",
       "18  110      Baltimore Orioles      bal      bal    Orioles       Baltimore   \n",
       "19  111         Boston Red Sox      bos      bos    Red Sox          Boston   \n",
       "20  112           Chicago Cubs      chn      chc       Cubs         Chicago   \n",
       "21  113        Cincinnati Reds      cin      cin       Reds      Cincinnati   \n",
       "22  114      Cleveland Indians      cle      cle    Indians       Cleveland   \n",
       "23  115       Colorado Rockies      col      col    Rockies          Denver   \n",
       "24  116         Detroit Tigers      det      det     Tigers         Detroit   \n",
       "25  117         Houston Astros      hou      hou     Astros         Houston   \n",
       "26  118     Kansas City Royals      kca       kc     Royals     Kansas City   \n",
       "27  119    Los Angeles Dodgers      lan       la    Dodgers     Los Angeles   \n",
       "28  120   Washington Nationals      was      was  Nationals      Washington   \n",
       "29  121          New York Mets      nyn      nym       Mets        Flushing   \n",
       "\n",
       "        shortName  \n",
       "0         Oakland  \n",
       "1      Pittsburgh  \n",
       "2       San Diego  \n",
       "3         Seattle  \n",
       "4   San Francisco  \n",
       "5       St. Louis  \n",
       "6       Tampa Bay  \n",
       "7           Texas  \n",
       "8         Toronto  \n",
       "9       Minnesota  \n",
       "10   Philadelphia  \n",
       "11        Atlanta  \n",
       "12  Chi White Sox  \n",
       "13          Miami  \n",
       "14     NY Yankees  \n",
       "15      Milwaukee  \n",
       "16      LA Angels  \n",
       "17        Arizona  \n",
       "18      Baltimore  \n",
       "19         Boston  \n",
       "20       Chi Cubs  \n",
       "21     Cincinnati  \n",
       "22      Cleveland  \n",
       "23       Colorado  \n",
       "24        Detroit  \n",
       "25        Houston  \n",
       "26    Kansas City  \n",
       "27     LA Dodgers  \n",
       "28     Washington  \n",
       "29        NY Mets  "
      ],
      "text/html": "<div>\n<style scoped>\n    .dataframe tbody tr th:only-of-type {\n        vertical-align: middle;\n    }\n\n    .dataframe tbody tr th {\n        vertical-align: top;\n    }\n\n    .dataframe thead th {\n        text-align: right;\n    }\n</style>\n<table border=\"1\" class=\"dataframe\">\n  <thead>\n    <tr style=\"text-align: right;\">\n      <th></th>\n      <th>id</th>\n      <th>name</th>\n      <th>teamCode</th>\n      <th>fileCode</th>\n      <th>teamName</th>\n      <th>locationName</th>\n      <th>shortName</th>\n    </tr>\n  </thead>\n  <tbody>\n    <tr>\n      <th>0</th>\n      <td>133</td>\n      <td>Oakland Athletics</td>\n      <td>oak</td>\n      <td>oak</td>\n      <td>Athletics</td>\n      <td>Oakland</td>\n      <td>Oakland</td>\n    </tr>\n    <tr>\n      <th>1</th>\n      <td>134</td>\n      <td>Pittsburgh Pirates</td>\n      <td>pit</td>\n      <td>pit</td>\n      <td>Pirates</td>\n      <td>Pittsburgh</td>\n      <td>Pittsburgh</td>\n    </tr>\n    <tr>\n      <th>2</th>\n      <td>135</td>\n      <td>San Diego Padres</td>\n      <td>sdn</td>\n      <td>sd</td>\n      <td>Padres</td>\n      <td>San Diego</td>\n      <td>San Diego</td>\n    </tr>\n    <tr>\n      <th>3</th>\n      <td>136</td>\n      <td>Seattle Mariners</td>\n      <td>sea</td>\n      <td>sea</td>\n      <td>Mariners</td>\n      <td>Seattle</td>\n      <td>Seattle</td>\n    </tr>\n    <tr>\n      <th>4</th>\n      <td>137</td>\n      <td>San Francisco Giants</td>\n      <td>sfn</td>\n      <td>sf</td>\n      <td>Giants</td>\n      <td>San Francisco</td>\n      <td>San Francisco</td>\n    </tr>\n    <tr>\n      <th>5</th>\n      <td>138</td>\n      <td>St. Louis Cardinals</td>\n      <td>sln</td>\n      <td>stl</td>\n      <td>Cardinals</td>\n      <td>St. Louis</td>\n      <td>St. Louis</td>\n    </tr>\n    <tr>\n      <th>6</th>\n      <td>139</td>\n      <td>Tampa Bay Rays</td>\n      <td>tba</td>\n      <td>tb</td>\n      <td>Rays</td>\n      <td>St. Petersburg</td>\n      <td>Tampa Bay</td>\n    </tr>\n    <tr>\n      <th>7</th>\n      <td>140</td>\n      <td>Texas Rangers</td>\n      <td>tex</td>\n      <td>tex</td>\n      <td>Rangers</td>\n      <td>Arlington</td>\n      <td>Texas</td>\n    </tr>\n    <tr>\n      <th>8</th>\n      <td>141</td>\n      <td>Toronto Blue Jays</td>\n      <td>tor</td>\n      <td>tor</td>\n      <td>Blue Jays</td>\n      <td>Toronto</td>\n      <td>Toronto</td>\n    </tr>\n    <tr>\n      <th>9</th>\n      <td>142</td>\n      <td>Minnesota Twins</td>\n      <td>min</td>\n      <td>min</td>\n      <td>Twins</td>\n      <td>Minneapolis</td>\n      <td>Minnesota</td>\n    </tr>\n    <tr>\n      <th>10</th>\n      <td>143</td>\n      <td>Philadelphia Phillies</td>\n      <td>phi</td>\n      <td>phi</td>\n      <td>Phillies</td>\n      <td>Philadelphia</td>\n      <td>Philadelphia</td>\n    </tr>\n    <tr>\n      <th>11</th>\n      <td>144</td>\n      <td>Atlanta Braves</td>\n      <td>atl</td>\n      <td>atl</td>\n      <td>Braves</td>\n      <td>Atlanta</td>\n      <td>Atlanta</td>\n    </tr>\n    <tr>\n      <th>12</th>\n      <td>145</td>\n      <td>Chicago White Sox</td>\n      <td>cha</td>\n      <td>cws</td>\n      <td>White Sox</td>\n      <td>Chicago</td>\n      <td>Chi White Sox</td>\n    </tr>\n    <tr>\n      <th>13</th>\n      <td>146</td>\n      <td>Miami Marlins</td>\n      <td>mia</td>\n      <td>mia</td>\n      <td>Marlins</td>\n      <td>Miami</td>\n      <td>Miami</td>\n    </tr>\n    <tr>\n      <th>14</th>\n      <td>147</td>\n      <td>New York Yankees</td>\n      <td>nya</td>\n      <td>nyy</td>\n      <td>Yankees</td>\n      <td>Bronx</td>\n      <td>NY Yankees</td>\n    </tr>\n    <tr>\n      <th>15</th>\n      <td>158</td>\n      <td>Milwaukee Brewers</td>\n      <td>mil</td>\n      <td>mil</td>\n      <td>Brewers</td>\n      <td>Milwaukee</td>\n      <td>Milwaukee</td>\n    </tr>\n    <tr>\n      <th>16</th>\n      <td>108</td>\n      <td>Los Angeles Angels</td>\n      <td>ana</td>\n      <td>ana</td>\n      <td>Angels</td>\n      <td>Anaheim</td>\n      <td>LA Angels</td>\n    </tr>\n    <tr>\n      <th>17</th>\n      <td>109</td>\n      <td>Arizona Diamondbacks</td>\n      <td>ari</td>\n      <td>ari</td>\n      <td>D-backs</td>\n      <td>Phoenix</td>\n      <td>Arizona</td>\n    </tr>\n    <tr>\n      <th>18</th>\n      <td>110</td>\n      <td>Baltimore Orioles</td>\n      <td>bal</td>\n      <td>bal</td>\n      <td>Orioles</td>\n      <td>Baltimore</td>\n      <td>Baltimore</td>\n    </tr>\n    <tr>\n      <th>19</th>\n      <td>111</td>\n      <td>Boston Red Sox</td>\n      <td>bos</td>\n      <td>bos</td>\n      <td>Red Sox</td>\n      <td>Boston</td>\n      <td>Boston</td>\n    </tr>\n    <tr>\n      <th>20</th>\n      <td>112</td>\n      <td>Chicago Cubs</td>\n      <td>chn</td>\n      <td>chc</td>\n      <td>Cubs</td>\n      <td>Chicago</td>\n      <td>Chi Cubs</td>\n    </tr>\n    <tr>\n      <th>21</th>\n      <td>113</td>\n      <td>Cincinnati Reds</td>\n      <td>cin</td>\n      <td>cin</td>\n      <td>Reds</td>\n      <td>Cincinnati</td>\n      <td>Cincinnati</td>\n    </tr>\n    <tr>\n      <th>22</th>\n      <td>114</td>\n      <td>Cleveland Indians</td>\n      <td>cle</td>\n      <td>cle</td>\n      <td>Indians</td>\n      <td>Cleveland</td>\n      <td>Cleveland</td>\n    </tr>\n    <tr>\n      <th>23</th>\n      <td>115</td>\n      <td>Colorado Rockies</td>\n      <td>col</td>\n      <td>col</td>\n      <td>Rockies</td>\n      <td>Denver</td>\n      <td>Colorado</td>\n    </tr>\n    <tr>\n      <th>24</th>\n      <td>116</td>\n      <td>Detroit Tigers</td>\n      <td>det</td>\n      <td>det</td>\n      <td>Tigers</td>\n      <td>Detroit</td>\n      <td>Detroit</td>\n    </tr>\n    <tr>\n      <th>25</th>\n      <td>117</td>\n      <td>Houston Astros</td>\n      <td>hou</td>\n      <td>hou</td>\n      <td>Astros</td>\n      <td>Houston</td>\n      <td>Houston</td>\n    </tr>\n    <tr>\n      <th>26</th>\n      <td>118</td>\n      <td>Kansas City Royals</td>\n      <td>kca</td>\n      <td>kc</td>\n      <td>Royals</td>\n      <td>Kansas City</td>\n      <td>Kansas City</td>\n    </tr>\n    <tr>\n      <th>27</th>\n      <td>119</td>\n      <td>Los Angeles Dodgers</td>\n      <td>lan</td>\n      <td>la</td>\n      <td>Dodgers</td>\n      <td>Los Angeles</td>\n      <td>LA Dodgers</td>\n    </tr>\n    <tr>\n      <th>28</th>\n      <td>120</td>\n      <td>Washington Nationals</td>\n      <td>was</td>\n      <td>was</td>\n      <td>Nationals</td>\n      <td>Washington</td>\n      <td>Washington</td>\n    </tr>\n    <tr>\n      <th>29</th>\n      <td>121</td>\n      <td>New York Mets</td>\n      <td>nyn</td>\n      <td>nym</td>\n      <td>Mets</td>\n      <td>Flushing</td>\n      <td>NY Mets</td>\n    </tr>\n  </tbody>\n</table>\n</div>"
     },
     "metadata": {},
     "execution_count": 22
    }
   ],
   "source": [
    "get_teams()"
   ]
  },
  {
   "cell_type": "code",
   "execution_count": 23,
   "metadata": {},
   "outputs": [
    {
     "output_type": "error",
     "ename": "ValueError",
     "evalue": "DataFrame constructor not properly called!",
     "traceback": [
      "\u001b[0;31m---------------------------------------------------------------------------\u001b[0m",
      "\u001b[0;31mValueError\u001b[0m                                Traceback (most recent call last)",
      "\u001b[0;32m<ipython-input-23-a544e13c7776>\u001b[0m in \u001b[0;36m<module>\u001b[0;34m\u001b[0m\n\u001b[0;32m----> 1\u001b[0;31m \u001b[0mget_team_season_roster\u001b[0m\u001b[0;34m(\u001b[0m\u001b[0mteam_id\u001b[0m\u001b[0;34m=\u001b[0m\u001b[0;36m133\u001b[0m\u001b[0;34m,\u001b[0m \u001b[0mseason\u001b[0m\u001b[0;34m=\u001b[0m\u001b[0;36m2021\u001b[0m\u001b[0;34m)\u001b[0m\u001b[0;34m\u001b[0m\u001b[0;34m\u001b[0m\u001b[0m\n\u001b[0m",
      "\u001b[0;32m<ipython-input-21-a3307d8f536d>\u001b[0m in \u001b[0;36mget_team_season_roster\u001b[0;34m(team_id, season)\u001b[0m\n\u001b[1;32m     13\u001b[0m \u001b[0;32mdef\u001b[0m \u001b[0mget_team_season_roster\u001b[0m\u001b[0;34m(\u001b[0m\u001b[0mteam_id\u001b[0m\u001b[0;34m:\u001b[0m \u001b[0mint\u001b[0m\u001b[0;34m,\u001b[0m \u001b[0mseason\u001b[0m\u001b[0;34m:\u001b[0m \u001b[0mint\u001b[0m\u001b[0;34m)\u001b[0m \u001b[0;34m->\u001b[0m \u001b[0mpd\u001b[0m\u001b[0;34m.\u001b[0m\u001b[0mDataFrame\u001b[0m\u001b[0;34m:\u001b[0m\u001b[0;34m\u001b[0m\u001b[0;34m\u001b[0m\u001b[0m\n\u001b[1;32m     14\u001b[0m     \u001b[0mroster_raw\u001b[0m \u001b[0;34m=\u001b[0m \u001b[0mroster\u001b[0m\u001b[0;34m(\u001b[0m\u001b[0mteamId\u001b[0m\u001b[0;34m=\u001b[0m\u001b[0mteam_id\u001b[0m\u001b[0;34m,\u001b[0m \u001b[0mseason\u001b[0m\u001b[0;34m=\u001b[0m\u001b[0mseason\u001b[0m\u001b[0;34m)\u001b[0m\u001b[0;34m\u001b[0m\u001b[0;34m\u001b[0m\u001b[0m\n\u001b[0;32m---> 15\u001b[0;31m     \u001b[0mteam_roster\u001b[0m \u001b[0;34m=\u001b[0m \u001b[0mpd\u001b[0m\u001b[0;34m.\u001b[0m\u001b[0mDataFrame\u001b[0m\u001b[0;34m(\u001b[0m\u001b[0mroster_raw\u001b[0m\u001b[0;34m)\u001b[0m\u001b[0;34m\u001b[0m\u001b[0;34m\u001b[0m\u001b[0m\n\u001b[0m\u001b[1;32m     16\u001b[0m     \u001b[0;32mreturn\u001b[0m \u001b[0mteam_roster\u001b[0m\u001b[0;34m\u001b[0m\u001b[0;34m\u001b[0m\u001b[0m\n",
      "\u001b[0;32m~/Documents/gambling_stuff/.venv/lib/python3.8/site-packages/pandas/core/frame.py\u001b[0m in \u001b[0;36m__init__\u001b[0;34m(self, data, index, columns, dtype, copy)\u001b[0m\n\u001b[1;32m    588\u001b[0m         \u001b[0;32melse\u001b[0m\u001b[0;34m:\u001b[0m\u001b[0;34m\u001b[0m\u001b[0;34m\u001b[0m\u001b[0m\n\u001b[1;32m    589\u001b[0m             \u001b[0;32mif\u001b[0m \u001b[0mindex\u001b[0m \u001b[0;32mis\u001b[0m \u001b[0;32mNone\u001b[0m \u001b[0;32mor\u001b[0m \u001b[0mcolumns\u001b[0m \u001b[0;32mis\u001b[0m \u001b[0;32mNone\u001b[0m\u001b[0;34m:\u001b[0m\u001b[0;34m\u001b[0m\u001b[0;34m\u001b[0m\u001b[0m\n\u001b[0;32m--> 590\u001b[0;31m                 \u001b[0;32mraise\u001b[0m \u001b[0mValueError\u001b[0m\u001b[0;34m(\u001b[0m\u001b[0;34m\"DataFrame constructor not properly called!\"\u001b[0m\u001b[0;34m)\u001b[0m\u001b[0;34m\u001b[0m\u001b[0;34m\u001b[0m\u001b[0m\n\u001b[0m\u001b[1;32m    591\u001b[0m \u001b[0;34m\u001b[0m\u001b[0m\n\u001b[1;32m    592\u001b[0m             \u001b[0;32mif\u001b[0m \u001b[0;32mnot\u001b[0m \u001b[0mdtype\u001b[0m\u001b[0;34m:\u001b[0m\u001b[0;34m\u001b[0m\u001b[0;34m\u001b[0m\u001b[0m\n",
      "\u001b[0;31mValueError\u001b[0m: DataFrame constructor not properly called!"
     ]
    }
   ],
   "source": [
    "get_team_season_roster(team_id=133, season=2021)"
   ]
  },
  {
   "cell_type": "code",
   "execution_count": 24,
   "metadata": {},
   "outputs": [],
   "source": [
    "roster_raw = roster(teamId=133)"
   ]
  },
  {
   "cell_type": "code",
   "execution_count": 28,
   "metadata": {},
   "outputs": [
    {
     "output_type": "stream",
     "name": "stdout",
     "text": [
      "#37  C   Aramis Garcia\n#46  P   Burch Smith\n#60  P   Cam Bedrosian\n#4   LF  Chad Pinder\n#40  P   Chris Bassitt\n#19  P   Cole Irvin\n#65  P   Deolis Guerra\n#17  SS  Elvis Andrus\n#47  P   Frankie Montas\n#35  P   Jake Diekman\n#32  P   James Kaprielian\n#8   2B  Jed Lowrie\n#44  P   Jesus Luzardo\n#62  P   Lou Trivino\n#20  LF  Mark Canha\n#26  3B  Matt Chapman\n#28  1B  Matt Olson\n#18  1B  Mitch Moreland\n#55  P   Sean Manaea\n#12  C   Sean Murphy\n#54  P   Sergio Romo\n#15  RF  Seth Brown\n#49  CF  Skye Bolt\n#25  RF  Stephen Piscotty\n#5   2B  Tony Kemp\n#36  P   Yusmeiro Petit\n <class 'str'>\n"
     ]
    }
   ],
   "source": [
    "print(roster_raw, type(roster_raw))"
   ]
  },
  {
   "cell_type": "code",
   "execution_count": 38,
   "metadata": {},
   "outputs": [],
   "source": [
    "BASE_URL = \"https://statsapi.mlb.com/api/\""
   ]
  },
  {
   "cell_type": "code",
   "execution_count": null,
   "metadata": {},
   "outputs": [],
   "source": [
    "    \"teams\": {\n",
    "        \"url\": BASE_URL + \"{ver}/teams\",\n",
    "        \"path_params\": {\n",
    "            \"ver\": {\n",
    "                \"type\": \"str\",\n",
    "                \"default\": \"v1\",\n",
    "                \"leading_slash\": False,\n",
    "                \"trailing_slash\": False,\n",
    "                \"required\": True,\n",
    "            }\n",
    "        },\n",
    "        \"query_params\": [\n",
    "            \"season\",\n",
    "            \"activeStatus\",\n",
    "            \"leagueIds\",\n",
    "            \"sportIds\",\n",
    "            \"gameType\",\n",
    "            \"hydrate\",\n",
    "            \"fields\",\n",
    "        ],\n",
    "        \"required_params\": [[]],\n",
    "    },"
   ]
  },
  {
   "cell_type": "code",
   "execution_count": 29,
   "metadata": {},
   "outputs": [],
   "source": [
    "import requests as req"
   ]
  },
  {
   "cell_type": "code",
   "execution_count": 36,
   "metadata": {},
   "outputs": [],
   "source": [
    "response = req.get('https://statsapi.mlb.com/api/v1/teams?season=2021&sportIds=1')"
   ]
  },
  {
   "cell_type": "code",
   "execution_count": 39,
   "metadata": {},
   "outputs": [],
   "source": [
    "roster_response = req.get(f\"{BASE_URL}/v1/teams/141/roster?&season=2021\")"
   ]
  },
  {
   "cell_type": "code",
   "execution_count": 40,
   "metadata": {},
   "outputs": [
    {
     "output_type": "execute_result",
     "data": {
      "text/plain": [
       "<Response [200]>"
      ]
     },
     "metadata": {},
     "execution_count": 40
    }
   ],
   "source": [
    "roster_response"
   ]
  },
  {
   "cell_type": "code",
   "execution_count": 44,
   "metadata": {},
   "outputs": [],
   "source": [
    "team_ids = [_['id'] for _ in response.json()['teams']]"
   ]
  },
  {
   "cell_type": "code",
   "execution_count": 43,
   "metadata": {},
   "outputs": [
    {
     "output_type": "execute_result",
     "data": {
      "text/plain": [
       "{'id': 133,\n",
       " 'name': 'Oakland Athletics',\n",
       " 'link': '/api/v1/teams/133',\n",
       " 'season': 2021,\n",
       " 'venue': {'id': 10, 'name': 'Oakland Coliseum', 'link': '/api/v1/venues/10'},\n",
       " 'springVenue': {'id': 2507, 'link': '/api/v1/venues/2507'},\n",
       " 'teamCode': 'oak',\n",
       " 'fileCode': 'oak',\n",
       " 'abbreviation': 'OAK',\n",
       " 'teamName': 'Athletics',\n",
       " 'locationName': 'Oakland',\n",
       " 'firstYearOfPlay': '1901',\n",
       " 'league': {'id': 103,\n",
       "  'name': 'American League',\n",
       "  'link': '/api/v1/league/103'},\n",
       " 'division': {'id': 200,\n",
       "  'name': 'American League West',\n",
       "  'link': '/api/v1/divisions/200'},\n",
       " 'sport': {'id': 1,\n",
       "  'link': '/api/v1/sports/1',\n",
       "  'name': 'Major League Baseball'},\n",
       " 'shortName': 'Oakland',\n",
       " 'springLeague': {'id': 114,\n",
       "  'name': 'Cactus League',\n",
       "  'link': '/api/v1/league/114',\n",
       "  'abbreviation': 'CL'},\n",
       " 'allStarStatus': 'N',\n",
       " 'active': True}"
      ]
     },
     "metadata": {},
     "execution_count": 43
    }
   ],
   "source": [
    "response.json()['teams'][0]"
   ]
  },
  {
   "cell_type": "code",
   "execution_count": 46,
   "metadata": {},
   "outputs": [],
   "source": [
    "base_file_path = '/Users/johnschroeder/Documents/gambling_stuff/data'"
   ]
  },
  {
   "cell_type": "code",
   "execution_count": 47,
   "metadata": {},
   "outputs": [],
   "source": [
    "from pathlib import Path"
   ]
  },
  {
   "cell_type": "code",
   "execution_count": 49,
   "metadata": {},
   "outputs": [],
   "source": [
    "import json"
   ]
  },
  {
   "cell_type": "code",
   "execution_count": 50,
   "metadata": {},
   "outputs": [],
   "source": [
    "import gzip"
   ]
  },
  {
   "cell_type": "code",
   "execution_count": 58,
   "metadata": {},
   "outputs": [],
   "source": [
    "Path(base_file_path).joinpath('01_raw', 'mlb', 'teams', 'current.json').parent.mkdir(parents=True, exist_ok=True)"
   ]
  },
  {
   "cell_type": "code",
   "execution_count": 60,
   "metadata": {},
   "outputs": [],
   "source": [
    "with open(Path(base_file_path).joinpath('01_raw', 'mlb', 'teams', 'current.json'), 'w') as fp:\n",
    "    json.dump(response.json(), fp, indent=4)"
   ]
  },
  {
   "cell_type": "code",
   "execution_count": 62,
   "metadata": {},
   "outputs": [],
   "source": [
    "for team_id in team_ids:\n",
    "    current_file = Path(base_file_path).joinpath('01_raw', 'mlb', 'rosters', f'{team_id}.json')\n",
    "    roster_response = req.get(f\"{BASE_URL}/v1/teams/{team_id}/roster?&season=2021\")\n",
    "    with open(current_file, 'w') as fp:\n",
    "        json.dump(roster_response.json(), fp, indent=4)"
   ]
  },
  {
   "cell_type": "code",
   "execution_count": 63,
   "metadata": {},
   "outputs": [],
   "source": [
    "curated_base_path = Path('/Users/johnschroeder/Documents/gambling_stuff/data/02_curated/mlb')"
   ]
  },
  {
   "cell_type": "code",
   "execution_count": 64,
   "metadata": {},
   "outputs": [],
   "source": [
    "with open('/Users/johnschroeder/Documents/gambling_stuff/data/01_raw/mlb/teams/current.json', 'r') as fin:\n",
    "    teams_json = json.load(fin)"
   ]
  },
  {
   "cell_type": "code",
   "execution_count": 66,
   "metadata": {},
   "outputs": [
    {
     "output_type": "execute_result",
     "data": {
      "text/plain": [
       "{'id': 133,\n",
       " 'name': 'Oakland Athletics',\n",
       " 'link': '/api/v1/teams/133',\n",
       " 'season': 2021,\n",
       " 'venue': {'id': 10, 'name': 'Oakland Coliseum', 'link': '/api/v1/venues/10'},\n",
       " 'springVenue': {'id': 2507, 'link': '/api/v1/venues/2507'},\n",
       " 'teamCode': 'oak',\n",
       " 'fileCode': 'oak',\n",
       " 'abbreviation': 'OAK',\n",
       " 'teamName': 'Athletics',\n",
       " 'locationName': 'Oakland',\n",
       " 'firstYearOfPlay': '1901',\n",
       " 'league': {'id': 103,\n",
       "  'name': 'American League',\n",
       "  'link': '/api/v1/league/103'},\n",
       " 'division': {'id': 200,\n",
       "  'name': 'American League West',\n",
       "  'link': '/api/v1/divisions/200'},\n",
       " 'sport': {'id': 1,\n",
       "  'link': '/api/v1/sports/1',\n",
       "  'name': 'Major League Baseball'},\n",
       " 'shortName': 'Oakland',\n",
       " 'springLeague': {'id': 114,\n",
       "  'name': 'Cactus League',\n",
       "  'link': '/api/v1/league/114',\n",
       "  'abbreviation': 'CL'},\n",
       " 'allStarStatus': 'N',\n",
       " 'active': True}"
      ]
     },
     "metadata": {},
     "execution_count": 66
    }
   ],
   "source": [
    "teams_json['teams'][0]"
   ]
  },
  {
   "cell_type": "code",
   "execution_count": 67,
   "metadata": {},
   "outputs": [],
   "source": [
    "teams_curated_current_file = Path('/Users/johnschroeder/Documents/gambling_stuff/data/02_curated/mlb/teams').joinpath('current.csv')"
   ]
  },
  {
   "cell_type": "code",
   "execution_count": 68,
   "metadata": {},
   "outputs": [],
   "source": [
    "teams_curated_cols = ['team_id', 'team_name', 'code', 'abbrev', 'league', 'division']"
   ]
  },
  {
   "cell_type": "code",
   "execution_count": 74,
   "metadata": {},
   "outputs": [],
   "source": [
    "data_rows = []\n",
    "for team in teams_json['teams']:\n",
    "    row = (team['id'], team['name'], team['teamCode'], team['abbreviation'], team['league']['name'], team['division']['name'])\n",
    "    data_rows.append(row)"
   ]
  },
  {
   "cell_type": "code",
   "execution_count": 75,
   "metadata": {},
   "outputs": [
    {
     "output_type": "execute_result",
     "data": {
      "text/plain": [
       "(133,\n",
       " 'Oakland Athletics',\n",
       " 'oak',\n",
       " 'OAK',\n",
       " 'American League',\n",
       " 'American League West')"
      ]
     },
     "metadata": {},
     "execution_count": 75
    }
   ],
   "source": [
    "data_rows[0]"
   ]
  },
  {
   "cell_type": "code",
   "execution_count": 76,
   "metadata": {},
   "outputs": [],
   "source": [
    "teams_curated_df = pd.DataFrame(data_rows, columns=teams_curated_cols)"
   ]
  },
  {
   "cell_type": "code",
   "execution_count": 77,
   "metadata": {},
   "outputs": [
    {
     "output_type": "execute_result",
     "data": {
      "text/plain": [
       "   team_id             team_name code abbrev           league  \\\n",
       "0      133     Oakland Athletics  oak    OAK  American League   \n",
       "1      134    Pittsburgh Pirates  pit    PIT  National League   \n",
       "2      135      San Diego Padres  sdn     SD  National League   \n",
       "3      136      Seattle Mariners  sea    SEA  American League   \n",
       "4      137  San Francisco Giants  sfn     SF  National League   \n",
       "\n",
       "                  division  \n",
       "0     American League West  \n",
       "1  National League Central  \n",
       "2     National League West  \n",
       "3     American League West  \n",
       "4     National League West  "
      ],
      "text/html": "<div>\n<style scoped>\n    .dataframe tbody tr th:only-of-type {\n        vertical-align: middle;\n    }\n\n    .dataframe tbody tr th {\n        vertical-align: top;\n    }\n\n    .dataframe thead th {\n        text-align: right;\n    }\n</style>\n<table border=\"1\" class=\"dataframe\">\n  <thead>\n    <tr style=\"text-align: right;\">\n      <th></th>\n      <th>team_id</th>\n      <th>team_name</th>\n      <th>code</th>\n      <th>abbrev</th>\n      <th>league</th>\n      <th>division</th>\n    </tr>\n  </thead>\n  <tbody>\n    <tr>\n      <th>0</th>\n      <td>133</td>\n      <td>Oakland Athletics</td>\n      <td>oak</td>\n      <td>OAK</td>\n      <td>American League</td>\n      <td>American League West</td>\n    </tr>\n    <tr>\n      <th>1</th>\n      <td>134</td>\n      <td>Pittsburgh Pirates</td>\n      <td>pit</td>\n      <td>PIT</td>\n      <td>National League</td>\n      <td>National League Central</td>\n    </tr>\n    <tr>\n      <th>2</th>\n      <td>135</td>\n      <td>San Diego Padres</td>\n      <td>sdn</td>\n      <td>SD</td>\n      <td>National League</td>\n      <td>National League West</td>\n    </tr>\n    <tr>\n      <th>3</th>\n      <td>136</td>\n      <td>Seattle Mariners</td>\n      <td>sea</td>\n      <td>SEA</td>\n      <td>American League</td>\n      <td>American League West</td>\n    </tr>\n    <tr>\n      <th>4</th>\n      <td>137</td>\n      <td>San Francisco Giants</td>\n      <td>sfn</td>\n      <td>SF</td>\n      <td>National League</td>\n      <td>National League West</td>\n    </tr>\n  </tbody>\n</table>\n</div>"
     },
     "metadata": {},
     "execution_count": 77
    }
   ],
   "source": [
    "teams_curated_df.head()"
   ]
  },
  {
   "cell_type": "code",
   "execution_count": 78,
   "metadata": {},
   "outputs": [],
   "source": [
    "teams_curated_df.to_csv(teams_curated_current_file, index=False)"
   ]
  },
  {
   "cell_type": "code",
   "execution_count": 79,
   "metadata": {},
   "outputs": [],
   "source": [
    "from glob import glob"
   ]
  },
  {
   "cell_type": "code",
   "execution_count": 80,
   "metadata": {},
   "outputs": [],
   "source": [
    "roster_files = glob('/Users/johnschroeder/Documents/gambling_stuff/data/01_raw/mlb/rosters/*.json')"
   ]
  },
  {
   "cell_type": "code",
   "execution_count": 81,
   "metadata": {},
   "outputs": [
    {
     "output_type": "execute_result",
     "data": {
      "text/plain": [
       "['/Users/johnschroeder/Documents/gambling_stuff/data/01_raw/mlb/rosters/115.json',\n",
       " '/Users/johnschroeder/Documents/gambling_stuff/data/01_raw/mlb/rosters/142.json',\n",
       " '/Users/johnschroeder/Documents/gambling_stuff/data/01_raw/mlb/rosters/139.json',\n",
       " '/Users/johnschroeder/Documents/gambling_stuff/data/01_raw/mlb/rosters/119.json',\n",
       " '/Users/johnschroeder/Documents/gambling_stuff/data/01_raw/mlb/rosters/158.json',\n",
       " '/Users/johnschroeder/Documents/gambling_stuff/data/01_raw/mlb/rosters/135.json',\n",
       " '/Users/johnschroeder/Documents/gambling_stuff/data/01_raw/mlb/rosters/134.json',\n",
       " '/Users/johnschroeder/Documents/gambling_stuff/data/01_raw/mlb/rosters/118.json',\n",
       " '/Users/johnschroeder/Documents/gambling_stuff/data/01_raw/mlb/rosters/138.json',\n",
       " '/Users/johnschroeder/Documents/gambling_stuff/data/01_raw/mlb/rosters/143.json',\n",
       " '/Users/johnschroeder/Documents/gambling_stuff/data/01_raw/mlb/rosters/114.json',\n",
       " '/Users/johnschroeder/Documents/gambling_stuff/data/01_raw/mlb/rosters/109.json',\n",
       " '/Users/johnschroeder/Documents/gambling_stuff/data/01_raw/mlb/rosters/133.json',\n",
       " '/Users/johnschroeder/Documents/gambling_stuff/data/01_raw/mlb/rosters/113.json',\n",
       " '/Users/johnschroeder/Documents/gambling_stuff/data/01_raw/mlb/rosters/144.json',\n",
       " '/Users/johnschroeder/Documents/gambling_stuff/data/01_raw/mlb/rosters/145.json',\n",
       " '/Users/johnschroeder/Documents/gambling_stuff/data/01_raw/mlb/rosters/112.json',\n",
       " '/Users/johnschroeder/Documents/gambling_stuff/data/01_raw/mlb/rosters/108.json',\n",
       " '/Users/johnschroeder/Documents/gambling_stuff/data/01_raw/mlb/rosters/146.json',\n",
       " '/Users/johnschroeder/Documents/gambling_stuff/data/01_raw/mlb/rosters/111.json',\n",
       " '/Users/johnschroeder/Documents/gambling_stuff/data/01_raw/mlb/rosters/110.json',\n",
       " '/Users/johnschroeder/Documents/gambling_stuff/data/01_raw/mlb/rosters/147.json',\n",
       " '/Users/johnschroeder/Documents/gambling_stuff/data/01_raw/mlb/rosters/140.json',\n",
       " '/Users/johnschroeder/Documents/gambling_stuff/data/01_raw/mlb/rosters/117.json',\n",
       " '/Users/johnschroeder/Documents/gambling_stuff/data/01_raw/mlb/rosters/137.json',\n",
       " '/Users/johnschroeder/Documents/gambling_stuff/data/01_raw/mlb/rosters/121.json',\n",
       " '/Users/johnschroeder/Documents/gambling_stuff/data/01_raw/mlb/rosters/120.json',\n",
       " '/Users/johnschroeder/Documents/gambling_stuff/data/01_raw/mlb/rosters/136.json',\n",
       " '/Users/johnschroeder/Documents/gambling_stuff/data/01_raw/mlb/rosters/116.json',\n",
       " '/Users/johnschroeder/Documents/gambling_stuff/data/01_raw/mlb/rosters/141.json']"
      ]
     },
     "metadata": {},
     "execution_count": 81
    }
   ],
   "source": [
    "roster_files"
   ]
  },
  {
   "cell_type": "code",
   "execution_count": 86,
   "metadata": {},
   "outputs": [],
   "source": [
    "roster_data_rows = []\n",
    "for roster_file in roster_files:\n",
    "    with open(roster_file, 'r') as fin:\n",
    "        roster_json = json.load(fin)['roster']\n",
    "    for player in roster_json:\n",
    "        player_row = (player['person']['id'], player['person']['fullName'], \n",
    "                        player['position']['abbreviation'], player['parentTeamId'])\n",
    "        roster_data_rows.append(player_row)"
   ]
  },
  {
   "cell_type": "code",
   "execution_count": 88,
   "metadata": {},
   "outputs": [],
   "source": [
    "roster_df_cols = ['player_id', 'name', 'position', 'team_id']"
   ]
  },
  {
   "cell_type": "code",
   "execution_count": 87,
   "metadata": {},
   "outputs": [
    {
     "output_type": "execute_result",
     "data": {
      "text/plain": [
       "(676701, 'Alan Trejo', '2B', 115)"
      ]
     },
     "metadata": {},
     "execution_count": 87
    }
   ],
   "source": [
    "roster_data_rows[0]"
   ]
  },
  {
   "cell_type": "code",
   "execution_count": 89,
   "metadata": {},
   "outputs": [],
   "source": [
    "pd.DataFrame(roster_data_rows, columns=roster_df_cols).to_csv('/Users/johnschroeder/Documents/gambling_stuff/data/02_curated/mlb/rosters/current.csv', index=False)"
   ]
  }
 ]
}