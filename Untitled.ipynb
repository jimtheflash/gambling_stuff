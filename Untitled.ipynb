{
 "metadata": {
  "language_info": {
   "codemirror_mode": {
    "name": "ipython",
    "version": 3
   },
   "file_extension": ".py",
   "mimetype": "text/x-python",
   "name": "python",
   "nbconvert_exporter": "python",
   "pygments_lexer": "ipython3",
   "version": "3.9.1-final"
  },
  "orig_nbformat": 2,
  "kernelspec": {
   "name": "python3",
   "display_name": "Python 3.9.1 64-bit ('.venv')",
   "metadata": {
    "interpreter": {
     "hash": "0aa2b09bc4d20533995504192f8c4c9326f7b31cce96ad50d50a3e74114f2c88"
    }
   }
  }
 },
 "nbformat": 4,
 "nbformat_minor": 2,
 "cells": [
  {
   "cell_type": "code",
   "execution_count": 2,
   "metadata": {},
   "outputs": [],
   "source": [
    "SYNC_CATEGORIES = [\n",
    "    {\"category\": \"play_by_play\", \"base_path\": 'PBP_PATH', \"function\": 'get_game_pbp'},\n",
    "    {\"category\": \"boxscore\", \"base_path\": 'BS_PATH', \"function\": 'get_game_boxscore'},\n",
    "]"
   ]
  },
  {
   "cell_type": "code",
   "execution_count": 9,
   "metadata": {},
   "outputs": [
    {
     "output_type": "stream",
     "name": "stdout",
     "text": [
      "play_by_play\nboxscore\n"
     ]
    }
   ],
   "source": [
    "for sync in SYNC_CATEGORIES:\n",
    "    category, base_path, func = [sync[x] for x in sync.keys()]\n",
    "    print(category)"
   ]
  },
  {
   "cell_type": "code",
   "execution_count": 12,
   "metadata": {},
   "outputs": [],
   "source": [
    "from glob import glob\n",
    "import os"
   ]
  },
  {
   "cell_type": "code",
   "execution_count": 14,
   "metadata": {},
   "outputs": [
    {
     "output_type": "execute_result",
     "data": {
      "text/plain": [
       "'/Users/johnschroeder/gambling_stuff'"
      ]
     },
     "metadata": {},
     "execution_count": 14
    }
   ],
   "source": [
    "os.getcwd()"
   ]
  },
  {
   "cell_type": "code",
   "execution_count": 16,
   "metadata": {},
   "outputs": [],
   "source": [
    "GAMELOG_PATH = os.path.join(\n",
    "    os.getcwd(),\n",
    "    \"data\",\n",
    "    \"nba_gamelogs\",\n",
    ")\n",
    "PBP_PATH = os.path.join(\n",
    "    os.getcwd(),\n",
    "    \"data\",\n",
    "    \"nba_pbp\",\n",
    ")\n",
    "BS_PATH = os.path.join(\n",
    "    os.getcwd(),\n",
    "    \"data\",\n",
    "    \"nba_boxscores\",\n",
    ")\n",
    "SYNC_CATEGORIES = [\n",
    "    {\"category\": \"play_by_play\", \"base_path\": PBP_PATH, \"function\": 'get_game_pbp'},\n",
    "    {\"category\": \"boxscore\", \"base_path\": BS_PATH, \"function\": 'get_game_boxscore'},\n",
    "]"
   ]
  },
  {
   "cell_type": "code",
   "execution_count": 17,
   "metadata": {},
   "outputs": [],
   "source": [
    "sync_files = glob(os.path.join(PBP_PATH, \"*.csv\"))"
   ]
  },
  {
   "cell_type": "code",
   "execution_count": 22,
   "metadata": {},
   "outputs": [
    {
     "output_type": "execute_result",
     "data": {
      "text/plain": [
       "'0021900278'"
      ]
     },
     "metadata": {},
     "execution_count": 22
    }
   ],
   "source": [
    "os.path.basename(sync_files[1]).split('.')[0]   "
   ]
  },
  {
   "cell_type": "code",
   "execution_count": 23,
   "metadata": {},
   "outputs": [],
   "source": [
    "from google.cloud import storage"
   ]
  },
  {
   "cell_type": "code",
   "execution_count": 29,
   "metadata": {},
   "outputs": [],
   "source": [
    "client = storage.Client()"
   ]
  },
  {
   "cell_type": "code",
   "execution_count": 27,
   "metadata": {},
   "outputs": [],
   "source": [
    "os.environ['GOOGLE_APPLICATION_CREDENTIALS'] = '/Users/johnschroeder/gambling_stuff/gambling-stuff-912df7a1e9c1.json'"
   ]
  },
  {
   "cell_type": "code",
   "execution_count": 28,
   "metadata": {},
   "outputs": [
    {
     "output_type": "execute_result",
     "data": {
      "text/plain": [
       "'/Users/johnschroeder/gambling_stuff/gambling-stuff-912df7a1e9c1.json'"
      ]
     },
     "metadata": {},
     "execution_count": 28
    }
   ],
   "source": [
    "os.getenv('GOOGLE_APPLICATION_CREDENTIALS')"
   ]
  },
  {
   "cell_type": "code",
   "execution_count": 31,
   "metadata": {},
   "outputs": [],
   "source": [
    "bucket = client.get_bucket('gambling_stuff-storage')"
   ]
  },
  {
   "cell_type": "code",
   "execution_count": null,
   "metadata": {},
   "outputs": [],
   "source": [
    "list(bucket.list_blobs(prefix='data/'))"
   ]
  },
  {
   "cell_type": "code",
   "execution_count": null,
   "metadata": {},
   "outputs": [],
   "source": [
    "os.pat"
   ]
  },
  {
   "cell_type": "code",
   "execution_count": 42,
   "metadata": {},
   "outputs": [],
   "source": [
    "blob_ex = [x.name for x in bucket.list_blobs(prefix='data/nba_gamelogs')][1]"
   ]
  },
  {
   "cell_type": "code",
   "execution_count": 44,
   "metadata": {},
   "outputs": [
    {
     "output_type": "execute_result",
     "data": {
      "text/plain": [
       "'nba_gamelogs_2015-16.parquet'"
      ]
     },
     "metadata": {},
     "execution_count": 44
    }
   ],
   "source": [
    "os.path.basename(blob_ex)"
   ]
  },
  {
   "cell_type": "code",
   "execution_count": 45,
   "metadata": {},
   "outputs": [],
   "source": [
    "import pandas as pd"
   ]
  },
  {
   "cell_type": "code",
   "execution_count": 46,
   "metadata": {},
   "outputs": [],
   "source": [
    "df = pd.read_csv('/Users/johnschroeder/gambling_stuff/data/nba_gamelogs/nba_gamelogs_2020-21.csv.gz')"
   ]
  },
  {
   "cell_type": "code",
   "execution_count": 47,
   "metadata": {},
   "outputs": [
    {
     "output_type": "execute_result",
     "data": {
      "text/plain": [
       "  SEASON_YEAR  PLAYER_ID            PLAYER_NAME     TEAM_ID TEAM_ABBREVIATION  \\\n",
       "0     2020-21    1627826            Ivica Zubac  1610612746               LAC   \n",
       "1     2020-21     101150           Lou Williams  1610612746               LAC   \n",
       "2     2020-21     203507  Giannis Antetokounmpo  1610612749               MIL   \n",
       "3     2020-21     201950           Jrue Holiday  1610612749               MIL   \n",
       "4     2020-21     201572            Brook Lopez  1610612749               MIL   \n",
       "\n",
       "         TEAM_NAME   GAME_ID            GAME_DATE      MATCHUP WL  ...  \\\n",
       "0      LA Clippers  22000520  2021-02-28T00:00:00    LAC @ MIL  L  ...   \n",
       "1      LA Clippers  22000520  2021-02-28T00:00:00    LAC @ MIL  L  ...   \n",
       "2  Milwaukee Bucks  22000520  2021-02-28T00:00:00  MIL vs. LAC  W  ...   \n",
       "3  Milwaukee Bucks  22000520  2021-02-28T00:00:00  MIL vs. LAC  W  ...   \n",
       "4  Milwaukee Bucks  22000520  2021-02-28T00:00:00  MIL vs. LAC  W  ...   \n",
       "\n",
       "   BLKA_RANK  PF_RANK  PFD_RANK  PTS_RANK  PLUS_MINUS_RANK  \\\n",
       "0       6995     7263      7331      8529             3721   \n",
       "1          1     2181      4759      2927             1400   \n",
       "2       6995     4814       213       101             3363   \n",
       "3          1     2181      7331      8529             1759   \n",
       "4          1     4814      4759      4433             1996   \n",
       "\n",
       "   NBA_FANTASY_PTS_RANK  DD2_RANK  TD3_RANK    fd     dk  \n",
       "0                  9014       860        64   5.4   5.50  \n",
       "1                  4122       860        64  23.4  24.00  \n",
       "2                    29         1        64  71.3  71.50  \n",
       "3                  9211       860        64   4.5   5.50  \n",
       "4                  5000       860        64  20.1  19.75  \n",
       "\n",
       "[5 rows x 66 columns]"
      ],
      "text/html": "<div>\n<style scoped>\n    .dataframe tbody tr th:only-of-type {\n        vertical-align: middle;\n    }\n\n    .dataframe tbody tr th {\n        vertical-align: top;\n    }\n\n    .dataframe thead th {\n        text-align: right;\n    }\n</style>\n<table border=\"1\" class=\"dataframe\">\n  <thead>\n    <tr style=\"text-align: right;\">\n      <th></th>\n      <th>SEASON_YEAR</th>\n      <th>PLAYER_ID</th>\n      <th>PLAYER_NAME</th>\n      <th>TEAM_ID</th>\n      <th>TEAM_ABBREVIATION</th>\n      <th>TEAM_NAME</th>\n      <th>GAME_ID</th>\n      <th>GAME_DATE</th>\n      <th>MATCHUP</th>\n      <th>WL</th>\n      <th>...</th>\n      <th>BLKA_RANK</th>\n      <th>PF_RANK</th>\n      <th>PFD_RANK</th>\n      <th>PTS_RANK</th>\n      <th>PLUS_MINUS_RANK</th>\n      <th>NBA_FANTASY_PTS_RANK</th>\n      <th>DD2_RANK</th>\n      <th>TD3_RANK</th>\n      <th>fd</th>\n      <th>dk</th>\n    </tr>\n  </thead>\n  <tbody>\n    <tr>\n      <th>0</th>\n      <td>2020-21</td>\n      <td>1627826</td>\n      <td>Ivica Zubac</td>\n      <td>1610612746</td>\n      <td>LAC</td>\n      <td>LA Clippers</td>\n      <td>22000520</td>\n      <td>2021-02-28T00:00:00</td>\n      <td>LAC @ MIL</td>\n      <td>L</td>\n      <td>...</td>\n      <td>6995</td>\n      <td>7263</td>\n      <td>7331</td>\n      <td>8529</td>\n      <td>3721</td>\n      <td>9014</td>\n      <td>860</td>\n      <td>64</td>\n      <td>5.4</td>\n      <td>5.50</td>\n    </tr>\n    <tr>\n      <th>1</th>\n      <td>2020-21</td>\n      <td>101150</td>\n      <td>Lou Williams</td>\n      <td>1610612746</td>\n      <td>LAC</td>\n      <td>LA Clippers</td>\n      <td>22000520</td>\n      <td>2021-02-28T00:00:00</td>\n      <td>LAC @ MIL</td>\n      <td>L</td>\n      <td>...</td>\n      <td>1</td>\n      <td>2181</td>\n      <td>4759</td>\n      <td>2927</td>\n      <td>1400</td>\n      <td>4122</td>\n      <td>860</td>\n      <td>64</td>\n      <td>23.4</td>\n      <td>24.00</td>\n    </tr>\n    <tr>\n      <th>2</th>\n      <td>2020-21</td>\n      <td>203507</td>\n      <td>Giannis Antetokounmpo</td>\n      <td>1610612749</td>\n      <td>MIL</td>\n      <td>Milwaukee Bucks</td>\n      <td>22000520</td>\n      <td>2021-02-28T00:00:00</td>\n      <td>MIL vs. LAC</td>\n      <td>W</td>\n      <td>...</td>\n      <td>6995</td>\n      <td>4814</td>\n      <td>213</td>\n      <td>101</td>\n      <td>3363</td>\n      <td>29</td>\n      <td>1</td>\n      <td>64</td>\n      <td>71.3</td>\n      <td>71.50</td>\n    </tr>\n    <tr>\n      <th>3</th>\n      <td>2020-21</td>\n      <td>201950</td>\n      <td>Jrue Holiday</td>\n      <td>1610612749</td>\n      <td>MIL</td>\n      <td>Milwaukee Bucks</td>\n      <td>22000520</td>\n      <td>2021-02-28T00:00:00</td>\n      <td>MIL vs. LAC</td>\n      <td>W</td>\n      <td>...</td>\n      <td>1</td>\n      <td>2181</td>\n      <td>7331</td>\n      <td>8529</td>\n      <td>1759</td>\n      <td>9211</td>\n      <td>860</td>\n      <td>64</td>\n      <td>4.5</td>\n      <td>5.50</td>\n    </tr>\n    <tr>\n      <th>4</th>\n      <td>2020-21</td>\n      <td>201572</td>\n      <td>Brook Lopez</td>\n      <td>1610612749</td>\n      <td>MIL</td>\n      <td>Milwaukee Bucks</td>\n      <td>22000520</td>\n      <td>2021-02-28T00:00:00</td>\n      <td>MIL vs. LAC</td>\n      <td>W</td>\n      <td>...</td>\n      <td>1</td>\n      <td>4814</td>\n      <td>4759</td>\n      <td>4433</td>\n      <td>1996</td>\n      <td>5000</td>\n      <td>860</td>\n      <td>64</td>\n      <td>20.1</td>\n      <td>19.75</td>\n    </tr>\n  </tbody>\n</table>\n<p>5 rows × 66 columns</p>\n</div>"
     },
     "metadata": {},
     "execution_count": 47
    }
   ],
   "source": [
    "df.head"
   ]
  },
  {
   "cell_type": "code",
   "execution_count": 48,
   "metadata": {},
   "outputs": [],
   "source": [
    "data_dir = '/Users/johnschroeder/gambling_stuff/data'"
   ]
  },
  {
   "cell_type": "code",
   "execution_count": 49,
   "metadata": {},
   "outputs": [],
   "source": [
    "import os"
   ]
  },
  {
   "cell_type": "code",
   "execution_count": null,
   "metadata": {},
   "outputs": [],
   "source": [
    "dirs_to_zip = ['nba_pbp']\n",
    "for file_dir in dirs_to_zip:\n",
    "    print(f'running for {file_dir}')\n",
    "    base_path = os.path.join(data_dir, file_dir, '*.csv')\n",
    "    files = glob(base_path)\n",
    "    print(f'rewriting to zip {len(files)} files')\n",
    "    for idx, data_file in enumerate(files):\n",
    "        if idx % 10 == 0:\n",
    "            print(f'writing {idx}/{len(files)}')\n",
    "        tmp_df = pd.read_csv(data_file)\n",
    "        gzip_filename = data_file + '.gz'\n",
    "        tmp_df.to_csv(gzip_filename, compression='gzip')"
   ]
  },
  {
   "cell_type": "code",
   "execution_count": 66,
   "metadata": {},
   "outputs": [
    {
     "output_type": "stream",
     "name": "stdout",
     "text": [
      "running for nba_boxscores\n6472\nrunning for nba_pbp\n6473\nrunning for nba_gamelogs\n6\n"
     ]
    }
   ],
   "source": [
    "dirs_to_zip = ['nba_boxscores', 'nba_pbp', 'nba_gamelogs']\n",
    "for file_dir in dirs_to_zip:\n",
    "    print(f'running for {file_dir}')\n",
    "    base_path = os.path.join(data_dir, file_dir, '*.csv.gz')\n",
    "    files = glob(base_path)\n",
    "    print(len(files))"
   ]
  },
  {
   "cell_type": "code",
   "execution_count": 54,
   "metadata": {},
   "outputs": [
    {
     "output_type": "execute_result",
     "data": {
      "text/plain": [
       "'/Users/johnschroeder/gambling_stuff/data'"
      ]
     },
     "metadata": {},
     "execution_count": 54
    }
   ],
   "source": [
    "data_dir"
   ]
  },
  {
   "cell_type": "code",
   "execution_count": 63,
   "metadata": {},
   "outputs": [],
   "source": [
    "files_to_delete = glob(os.path.join(data_dir, 'nba_boxscores', '*.csv'))"
   ]
  },
  {
   "cell_type": "code",
   "execution_count": 64,
   "metadata": {},
   "outputs": [],
   "source": [
    "for del_file in files_to_delete:\n",
    "    os.remove(del_file)"
   ]
  },
  {
   "cell_type": "code",
   "execution_count": null,
   "metadata": {},
   "outputs": [],
   "source": []
  }
 ]
}